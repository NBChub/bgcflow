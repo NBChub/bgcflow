{
 "cells": [
  {
   "cell_type": "markdown",
   "id": "7c9fdc0e-e83d-4d78-989b-8d182e1a94ee",
   "metadata": {},
   "source": [
    "This tutorial aims to show the flexibility of modifying, or generating markdown reports from BGCFlow template notebooks.\n",
    "\n",
    "We will go through a simple analysis of filtering results from different genome mining tools and finding our BGC of interest."
   ]
  },
  {
   "cell_type": "markdown",
   "id": "cc73105b-c32d-4cad-b7c1-57fd26710734",
   "metadata": {},
   "source": [
    "### Prerequisites\n",
    "This tutorial utilizes the example dataset used in the [BGCFlow manuscript](https://github.com/NBChub/saccharopolyspora_manuscript)\n",
    "\n",
    "To run this tutorial, you will need to finish the `mq_saccharopolyspora` run and build the report.\n",
    "\n",
    "[MQ_Saccharopolyspora Project Configuration](https://github.com/NBChub/bgcflow/tree/dev-0.8.2-notebooks_update4/.examples/mq_saccharopolyspora){:target=\"_blank\" .md-button}\n",
    "\n",
    "Create a new project configuration folder in the `config` folder and copy all the necessary project files there. Then run and build the report as follows:"
   ]
  },
  {
   "cell_type": "markdown",
   "id": "456a125c-810a-46dc-a2a7-127c6919934c",
   "metadata": {},
   "source": [
    "```bash\n",
    "# Finish running BGCFlow\n",
    "bgcflow run\n",
    "\n",
    "# Build the report\n",
    "bgcflow build report\n",
    "```"
   ]
  },
  {
   "cell_type": "markdown",
   "id": "93142665-f47a-4ef1-8e2b-b43f2da33d3e",
   "metadata": {},
   "source": [
    "Once the run finishes, check the result in the processed directory (`data/processed/mq_saccharopolyspora`), it should generate a folder structure similar to this: \n",
    "```\n",
    ".\n",
    "├── antismash\n",
    "├── bigscape\n",
    "├── bigslice\n",
    "├── data_warehouse\n",
    "├── docs\n",
    "│   ├── antismash.ipynb\n",
    "│   ├── antismash.md\n",
    "│   ├── arts.ipynb\n",
    "│   ├── arts.md\n",
    "│   ├── assets\n",
    "│   ├── bigscape.ipynb\n",
    "│   ├── bigscape.md\n",
    "│   ├── index.md\n",
    "│   ├── query-bigslice.ipynb\n",
    "│   └── query-bigslice.md\n",
    "├── log_changes\n",
    "├── main.py\n",
    "├── metadata\n",
    "├── mkdocs.yml\n",
    "├── overrides\n",
    "├── README.md\n",
    "└── tables\n",
    "```"
   ]
  },
  {
   "cell_type": "markdown",
   "id": "4c971154-b91b-4e41-bf1c-de018c59a50c",
   "metadata": {},
   "source": [
    "BGCFlow contains a starter Jupyter notebook template, generated in the `docs` folder, which are then converted to a `markdown` file, which can be used by `mkdocs` to generate a static HTML site. \n",
    "\n",
    "For more details about customizing the HTML report, see [https://squidfunk.github.io/mkdocs-material/](https://squidfunk.github.io/mkdocs-material/)"
   ]
  },
  {
   "cell_type": "markdown",
   "id": "a5af7e85-264a-4904-b2f3-a1d4296dae8e",
   "metadata": {},
   "source": [
    "### Default conda environments for the notebooks\n",
    "When you run `bgcflow build report`, you can actually see which conda environments are being used `Snakemake` to generate the report. You can either use this existing environments, or set it up on your own from the recipe.\n",
    "\n",
    "There are two environments that BGCFlow used to make reports, a `Python` and a mix of `R` and `Python` environment:\n",
    "\n",
    "- **Python** - [bgcflow_notes.yaml](https://github.com/NBChub/bgcflow/blob/main/workflow/envs/bgcflow_notes.yaml)\n",
    "- **R** - [r_notebook.yaml](https://github.com/NBChub/bgcflow/blob/main/workflow/envs/r_notebook.yaml)\n",
    "\n",
    "You can install the conda environments using those yaml file by:\n",
    "\n",
    "```bash\n",
    "# use conda or mamba\n",
    "mamba env create -f bgcflow_notes.yaml # or r_notebook.yaml\n",
    "```"
   ]
  },
  {
   "cell_type": "markdown",
   "id": "6a02ee5c-d429-4481-8936-08eafb34e9cd",
   "metadata": {},
   "source": [
    "### Adding a new notebook to the analysis"
   ]
  },
  {
   "cell_type": "markdown",
   "id": "9a2e0b9f-9a37-4fa7-b282-5086ffce0a6a",
   "metadata": {},
   "source": [
    "To add your own analysis, you can start up Jupyter session using the environments above, and create a new notebook inside the `docs` folder. You can also download this notebook tutorial here:\n",
    "\n",
    "Let's give our notebook the name `unique_polyketides.ipynb`"
   ]
  },
  {
   "cell_type": "markdown",
   "id": "52a029e3-cb0e-4baf-ae8f-6b4da65d9877",
   "metadata": {},
   "source": [
    "[Download Notebook](https://github.com/NBChub/bgcflow/blob/main/.examples/notebooks/unique_polyketides.ipynb){:target=\"_blank\" .md-button}"
   ]
  },
  {
   "cell_type": "markdown",
   "id": "96c1129f-b5ce-44b9-8473-4b7344962434",
   "metadata": {},
   "source": [
    "## Tutorial: Identifying Unique Polyketide BGCs with Specific Criteria\n",
    "In this notebook, we aim to identify unique polyketide biosynthetic gene clusters (BGCs) that do not have hits in BigFam or MIBiG databases but have been identified in ARTS. This analysis can be used as the first step in the exploratory analysis of discovering potentially novel polyketide BGCs with unique functions. \n",
    "\n",
    "### Setting up libraries and environment variables\n",
    "\n",
    "We will start by use Python and pandas for data manipulation and filtering."
   ]
  },
  {
   "cell_type": "markdown",
   "id": "5450a292-0ac7-41a3-8108-d55c56e7c511",
   "metadata": {},
   "source": [
    "First, let's import the necessary Python libraries and define the directory containing our report data."
   ]
  },
  {
   "cell_type": "code",
   "execution_count": null,
   "id": "0921c042-54a5-4c3b-8c75-3384a07be00e",
   "metadata": {},
   "outputs": [],
   "source": [
    "from pathlib import Path\n",
    "import json\n",
    "import pandas as pd\n",
    "\n",
    "from IPython.display import display, Markdown, HTML\n",
    "\n",
    "from itables import to_html_datatable as DT\n",
    "import itables.options as opt\n",
    "\n",
    "opt.css = \"\"\"\n",
    ".itables table td { font-style: italic; font-size: .8em;}\n",
    ".itables table th { font-style: oblique; font-size: .8em; }\n",
    "\"\"\"\n",
    "\n",
    "opt.classes = [\"display\", \"compact\"]\n",
    "opt.lengthMenu = [5, 10, 20, 50, 100, 200, 500]\n",
    "\n",
    "# Define the directory containing the report\n",
    "report_directory = Path(\"../\")"
   ]
  },
  {
   "cell_type": "markdown",
   "id": "a1398345-ca74-4f9c-b818-ec3c99a554df",
   "metadata": {},
   "source": [
    "Note from the code that the report directory is located one directory above of this notebook (which is located in the `docs` folder)\n",
    "\n",
    "The `metadata` folder records some of the important software versions and also other information of the BGCFlow runs. First, we will fetch the `antiSMASH` version used in the run from the metadata."
   ]
  },
  {
   "cell_type": "code",
   "execution_count": null,
   "id": "cc0795ac-196b-4b85-8604-6e3e4ef63356",
   "metadata": {},
   "outputs": [],
   "source": [
    "# Load the dependency versions\n",
    "dependency_versions_file = report_directory / \"metadata/dependency_versions.json\"\n",
    "with open(dependency_versions_file, \"r\") as file:\n",
    "    dependency_versions = json.load(file)\n",
    "\n",
    "# Extract the version of antiSMASH used\n",
    "antismash_version = dependency_versions[\"antismash\"]\n",
    "\n",
    "display(Markdown(f\"> antiSMASH version is: `{antismash_version}`\"))"
   ]
  },
  {
   "cell_type": "markdown",
   "id": "1a6bc56c-d646-4cee-811f-e829afdf9eba",
   "metadata": {},
   "source": [
    "### Setting up input files\n",
    "First, we need to find all the necessary tables or files required for our analysis. Here, we will need the results from antiSMASH, BiG-SCAPE, BiG-FAM query, and also ARTS2.\n",
    "\n",
    "Most of the tables can be found in the `tables` folder, such as the antiSMASH summary region tables:"
   ]
  },
  {
   "cell_type": "code",
   "execution_count": null,
   "id": "1b6ed7cc-d728-4dc9-92a5-515a23f371e1",
   "metadata": {},
   "outputs": [],
   "source": [
    "# Define the paths to the input files\n",
    "antismash_regions_file = report_directory / \"tables/df_regions_antismash_7.0.0.csv\"\n",
    "display(Markdown(f\">`{antismash_regions_file}`\"))"
   ]
  },
  {
   "cell_type": "markdown",
   "id": "cf95779d-3d92-459f-9150-ac29afc17943",
   "metadata": {},
   "source": [
    "Some other tables are located in their specific directories, such BiG-SCAPE"
   ]
  },
  {
   "cell_type": "code",
   "execution_count": null,
   "id": "7bcc2a63-43ad-4e42-8789-aec42eadaaf0",
   "metadata": {},
   "outputs": [],
   "source": [
    "# Define the directory containing the BIG-SCAPE data\n",
    "bigscape_directory = report_directory / f\"bigscape/for_cytoscape_antismash_{antismash_version}/\"\n",
    "\n",
    "# Find the cluster table file\n",
    "cluster_table_file = [i for i in bigscape_directory.glob(\"*_df_clusters_0.30.csv\")][0]\n",
    "display(Markdown(f\">`{cluster_table_file}`\"))"
   ]
  },
  {
   "cell_type": "code",
   "execution_count": null,
   "id": "e5de4f84-abc8-4249-8f14-d1baa42ef283",
   "metadata": {},
   "outputs": [],
   "source": [
    "# Define the directory containing the query data\n",
    "bigfam_query = report_directory / f\"bigslice/query_as_{antismash_version}/query_network.csv\"\n",
    "display(Markdown(f\">`{bigfam_query}`\")) "
   ]
  },
  {
   "cell_type": "markdown",
   "id": "39b055c7-8203-428b-998e-94a3c9715b5c",
   "metadata": {},
   "source": [
    "Other tables are created by the Jupyter notebook templates, and usually can be interactively downloaded from the HTML report. By convention, this are stored in the `assets` directory within the `docs` folder. "
   ]
  },
  {
   "cell_type": "code",
   "execution_count": null,
   "id": "99b3027f-d39b-42e2-b235-54f7ce595829",
   "metadata": {},
   "outputs": [],
   "source": [
    "arts_table_file = Path(f\"assets/tables/arts_hits_as{antismash_version}.csv\")\n",
    "display(Markdown(f\">`{arts_table_file}`\"))"
   ]
  },
  {
   "cell_type": "markdown",
   "id": "9af7bd1f-a21b-4c54-ae43-a294f5289727",
   "metadata": {},
   "source": [
    "### Using pandas and itables to show tables interactively"
   ]
  },
  {
   "cell_type": "markdown",
   "id": "b864c292-c33e-4572-b537-a52870d8bdf4",
   "metadata": {},
   "source": [
    "While pandas can show nice summary of a table, it does not do so interactively, and does not render well in the HTML report. We can use [itables](https://mwouts.github.io/itables/quick_start.html) to display our tables as interactive datatables that we can sort, paginate, scroll or filter. To enable this feature in the final report, we are converting the tables to HTML datatables and displaying it with iPython."
   ]
  },
  {
   "cell_type": "code",
   "execution_count": null,
   "id": "e25f4fbf-f90d-4ea8-844c-02e1071a1cd4",
   "metadata": {},
   "outputs": [],
   "source": [
    "# Load the data from the input files\n",
    "df_antismash_regions = pd.read_csv(antismash_regions_file)\n",
    "# Correct similarity values and fill null values with 0\n",
    "df_antismash_regions[\"similarity\"] = df_antismash_regions[\"similarity\"].apply(lambda x: 1 if x > 1 else x).fillna(0)\n",
    "\n",
    "df_bigscape = pd.read_csv(cluster_table_file)\n",
    "df_arts_hits = pd.read_csv(arts_table_file)\n",
    "df_bigfam_hits = pd.read_csv(bigfam_query )"
   ]
  },
  {
   "cell_type": "code",
   "execution_count": null,
   "id": "278e2c5a-0d15-44ea-934b-3940d4b36e85",
   "metadata": {},
   "outputs": [],
   "source": [
    "display(Markdown(f\">`{antismash_regions_file}`\"))\n",
    "display(HTML(DT(df_antismash_regions, scrollX=True)))"
   ]
  },
  {
   "cell_type": "code",
   "execution_count": null,
   "id": "28a1b5d0-8378-4148-b420-760c2942323a",
   "metadata": {},
   "outputs": [],
   "source": [
    "display(Markdown(f\">`{cluster_table_file}`\"))\n",
    "display(HTML(DT(df_bigscape, scrollX=True)))"
   ]
  },
  {
   "cell_type": "code",
   "execution_count": null,
   "id": "ce2f00a6-46db-4715-a7aa-a913f7264b63",
   "metadata": {},
   "outputs": [],
   "source": [
    "display(Markdown(f\">`{arts_table_file}`\"))\n",
    "display(HTML(DT(df_arts_hits, scrollX=True)))"
   ]
  },
  {
   "cell_type": "code",
   "execution_count": null,
   "id": "a2aaf536-423b-4ec9-89cc-9c526bb881e2",
   "metadata": {},
   "outputs": [],
   "source": [
    "display(Markdown(f\">`{bigfam_query}`\"))\n",
    "display(HTML(DT(df_bigfam_hits, scrollX=True)))"
   ]
  },
  {
   "cell_type": "markdown",
   "id": "0115c4d1",
   "metadata": {},
   "source": [
    "Note that these tables are downsampled by default to prevent the Markdown report become heavy. See [https://mwouts.github.io/itables/downsampling.html](https://mwouts.github.io/itables/downsampling.html) for more details. \n",
    "\n",
    "We do not recommend to use the HTML reports to show big tables as it's purpose is to give a quick summary of the analysis."
   ]
  },
  {
   "cell_type": "markdown",
   "id": "8d929c27-69c6-4864-b425-a0d53dc0db94",
   "metadata": {},
   "source": [
    "### Exploratory Data Analysis"
   ]
  },
  {
   "cell_type": "markdown",
   "id": "3b3ffb3b-1764-4d7f-ae6d-092aa169e60b",
   "metadata": {},
   "source": [
    "#### BiG-SCAPE filtering\n",
    "Let's start by looking at the BiG-SCAPE category of unknown PKS. We will create a filtering following this logic:\n",
    "\n",
    "- **Define Classes to Filter By**: We will select all possible PKS categories in BiG-SCAPE and put it in a list named bigscape_class, containing PKSI, PKSother, and PKS-NRP_Hybrids. To see all available bigscape_class, do: `df_bigscape[\"bigscape_class\"].unique()`\n",
    "\n",
    "- **Filter for unknown families**: The column `fam_type_0.30` defines whether the BGCs belongs to a known or unknown GCFs using the cutoff value of 0.3. We will set the string variable family_type to \"unknown_family\", which then used to filter rows based on a column in the DataFrame related to family types.\n",
    "\n",
    "- **Create Masks for Filtering**:\n",
    "\n",
    "    - **mask1**: This is a boolean mask created by checking if the values in the column fam_type_0.30 of df_bigscape are equal to family_type (\"unknown_family\"). This mask is true for rows where the family type is unknown.\n",
    "\n",
    "    - **mask2**: This is another boolean mask created by checking if the values in the column bigscape_class are within the list bigscape_class defined at the start. This mask is true for rows that match any of the specified classes (PKSI, PKSother, PKS-NRP_Hybrids).\n",
    "\n",
    "- **Filter DataFrame**: The DataFrame df_bigscape is filtered using the logical AND (&) of mask1 and mask2. This means only rows where both conditions are true (i.e., the family type is \"unknown_family\" and the bigscape class is one of the specified classes) are selected."
   ]
  },
  {
   "cell_type": "code",
   "execution_count": null,
   "id": "2ea597d3-0a26-4fa3-9a9a-215a35d8cb36",
   "metadata": {},
   "outputs": [],
   "source": [
    "bigscape_class = ['PKSI', 'PKSother', 'PKS-NRP_Hybrids']\n",
    "family_type = \"unknown_family\"\n",
    "mask1 = df_bigscape[\"fam_type_0.30\"] == family_type\n",
    "mask2 = df_bigscape[\"bigscape_class\"].isin(bigscape_class)\n",
    "df_bigscape_PKS_unknown = df_bigscape[mask1 & mask2]\n",
    "display(HTML(DT(df_bigscape_PKS_unknown, scrollX=True)))"
   ]
  },
  {
   "cell_type": "code",
   "execution_count": null,
   "id": "00b8f583-e67e-4ec0-9ee9-9f330ac97f50",
   "metadata": {},
   "outputs": [],
   "source": [
    "number_of_gcf = len(df_bigscape_PKS_unknown[\"fam_id_0.30\"].unique())\n",
    "\n",
    "text = f\"\"\"We found {df_bigscape.shape[0]} BGC regions in the category of {', '.join(bigscape_class)} which belongs to {family_type.replace('_', ' ')}.\\\n",
    " These BGCs can be grouped into {len(df_bigscape_PKS_unknown[\"fam_id_0.30\"].unique())} GCFs.\"\"\"\n",
    "Markdown(text)"
   ]
  },
  {
   "cell_type": "markdown",
   "id": "a7cde18b-5333-4e47-84ba-9f7e8a469123",
   "metadata": {},
   "source": [
    "#### AntiSMASH KnownClusterBlast filtering\n",
    "We will now look at the KnownClusterBlast similarity score and decide if we need to further filter our search. We will subset the antiSMASH BGC regions table to only contains BGCs identified in the previous step and observe the KnownClusterBlast similarity values. We will narrow down our search by setting up a threshold for the similarity score."
   ]
  },
  {
   "cell_type": "code",
   "execution_count": null,
   "id": "30d527ba-3b12-427e-b69c-7c5c66613527",
   "metadata": {},
   "outputs": [],
   "source": [
    "# Extract the BGC IDs of the unknown families\n",
    "unknown_family_bgcs = df_bigscape_PKS_unknown.bgc_id.to_list()"
   ]
  },
  {
   "cell_type": "code",
   "execution_count": null,
   "id": "98b8e128-7abf-4d63-8c6d-f6a48842436e",
   "metadata": {},
   "outputs": [],
   "source": [
    "mask_unknown_family = df_antismash_regions.bgc_id.isin(unknown_family_bgcs)\n",
    "columns_to_show = [\"bgc_id\", \"genome_id\", \"product\", \"similarity\", \n",
    "                   \"most_similar_known_cluster_id\", \"most_similar_known_cluster_description\", \"region\", \"contig_edge\", \"region_length\", ]\n",
    "display(HTML(DT(df_antismash_regions[mask_unknown_family].loc[:, columns_to_show], scrollX=True)))"
   ]
  },
  {
   "cell_type": "code",
   "execution_count": null,
   "id": "e66f71be-ac18-4b39-87c7-6edd16f4143c",
   "metadata": {},
   "outputs": [],
   "source": [
    "similarity_cutoff = 0.30\n",
    "mask_similarity = df_antismash_regions.similarity < similarity_cutoff\n",
    "text2 = f\"From those **{df_antismash_regions[mask_unknown_family].shape[0]} BGCs**, we actually still have a few BGCs with high similarity based on KnownClusterBlast.\\\n",
    " Let us focus on BGCs with low similarity **(<{similarity_cutoff})**, and now we are left with **{df_antismash_regions[mask_unknown_family & mask_similarity].shape[0]} BGCs**.\"\n",
    "Markdown(text2)"
   ]
  },
  {
   "cell_type": "code",
   "execution_count": null,
   "id": "ae9a4398-f468-40d8-b457-d47a7588884e",
   "metadata": {},
   "outputs": [],
   "source": [
    "display(HTML(DT(df_antismash_regions[mask_unknown_family & mask_similarity].loc[:, columns_to_show], scrollX=True)))"
   ]
  },
  {
   "cell_type": "markdown",
   "id": "52ec2a7c-49b9-44f0-937e-2d191814781f",
   "metadata": {},
   "source": [
    "#### BiG-FAM query filtering\n",
    "We will also remove all BGCs that has a match to other BGCs in the BiG-FAM database."
   ]
  },
  {
   "cell_type": "code",
   "execution_count": null,
   "id": "2775d0a8-6734-4557-a47a-fd61b550850d",
   "metadata": {},
   "outputs": [],
   "source": [
    "mask_no_bigfam_hit = ~df_antismash_regions.bgc_id.isin(df_bigfam_hits.bgc_id.unique())\n",
    "display(HTML(DT(df_antismash_regions[mask_unknown_family & mask_similarity & mask_no_bigfam_hit].loc[:, columns_to_show], scrollX=True)))"
   ]
  },
  {
   "cell_type": "markdown",
   "id": "bcf52b77-c6fd-4bfc-be61-58244fe46626",
   "metadata": {},
   "source": [
    "#### ARTS hits filtering\n",
    "We will now select only BGCs with close proximity to one of the ARTS2 model. Note that ARTS2 actually have several criteria to prioritise BGCs with possible antibiotic activity, here we just search for all BGCs that has hits to ARTS2 profile."
   ]
  },
  {
   "cell_type": "code",
   "execution_count": null,
   "id": "08e14715-5100-4c06-bc15-41ea67eea782",
   "metadata": {},
   "outputs": [],
   "source": [
    "mask_arts_hit = df_antismash_regions.bgc_id.isin(df_arts_hits.bgc_id.dropna().unique())\n",
    "df_pks_filtered = df_antismash_regions[mask_unknown_family & mask_similarity & mask_no_bigfam_hit & mask_arts_hit]\n",
    "display(HTML(DT(df_pks_filtered.loc[:, columns_to_show], scrollX=True)))"
   ]
  },
  {
   "cell_type": "markdown",
   "id": "be994482-8d6c-4c44-98c0-edf01b7b1cf7",
   "metadata": {},
   "source": [
    "### Final Remarks"
   ]
  },
  {
   "cell_type": "code",
   "execution_count": null,
   "id": "e00b53ea-ce3e-41e0-ab71-8c6d25cbaf59",
   "metadata": {},
   "outputs": [],
   "source": [
    "text3 = f\"We are now left with **{df_pks_filtered.shape[0]} PKS BGCs** of interest which can be further invesigated in-depth.\"\n",
    "Markdown(text3)"
   ]
  },
  {
   "cell_type": "markdown",
   "id": "072dadd7",
   "metadata": {},
   "source": [
    "This tutorial help us narrow down our search to potentially novel PKS. Nevertheless, an in-depth investigation to the BGC structure and see if it has all the required genes to perform natural product biosynthesis.\n",
    "\n",
    "We also recommend users to try out `Metabase` for a more interactive experience of exploring the datasets. See the how to guide in our [WiKi](https://github.com/NBChub/bgcflow/wiki/04-Building-and-Serving-OLAP-Database)"
   ]
  },
  {
   "cell_type": "markdown",
   "id": "d7cc0c3e-8b47-47b7-bfbc-31398bcefd1d",
   "metadata": {},
   "source": [
    "## Displaying the notebook in the report\n",
    "To display this notebook in the HTML report, we need to convert this notebook into a Markdown file.\n",
    "\n",
    "First, we need to serve BGCFlow report this command:\n",
    "```bash\n",
    "bgcflow serve --project <project name>\n",
    "```\n",
    "The report will be served locally in [http://localhost:8001/](http://localhost:8001/)\n",
    "\n",
    "Then, to generate the Markdown use NBConvert in the terminal:"
   ]
  },
  {
   "cell_type": "markdown",
   "id": "f60436c2-a27d-41a5-bdef-5c5d1b08feb2",
   "metadata": {},
   "source": [
    "```bash\n",
    "# cd to the docs folder containing this notebook\n",
    "jupyter nbconvert --to markdown \\\n",
    "    --execute \"unique_polyketides.ipynb\" \\\n",
    "    --output \"unique_polyketides.md\" \\\n",
    "    --template \"admonition\" \\\n",
    "    --TemplateExporter.extra_template_basedirs=\"../../../../workflow/notebook/nb_convert\"\n",
    "```"
   ]
  },
  {
   "cell_type": "markdown",
   "id": "1b870729-94f6-4e29-ab09-01cdf757452d",
   "metadata": {},
   "source": [
    "You can also use the `--no-input` flag if you don't want to show the code cells.\n",
    "\n",
    "Then, add the Markdown file to the `mkdocs.yaml` navigation:\n",
    "\n",
    "```yaml\n",
    "extra:\n",
    "  social:\n",
    "  - icon: fontawesome/brands/twitter\n",
    "    link: https://twitter.com/NPGMgroup\n",
    "  - icon: fontawesome/brands/github\n",
    "    link: https://github.com/NBChub/bgcflow\n",
    "markdown_extensions:\n",
    "- attr_list\n",
    "nav:\n",
    "- Home: index.md\n",
    "- QC and Data Selection:\n",
    "  - seqfu: seqfu.md\n",
    "  - mash: mash.md\n",
    "  - fastani: fastani.md\n",
    "  - checkm: checkm.md\n",
    "- Functional Annotation:\n",
    "  - prokka-gbk: prokka-gbk.md\n",
    "  - deeptfactor: deeptfactor.md\n",
    "- Genome Mining:\n",
    "  - antismash: antismash.md\n",
    "  - query-bigslice: query-bigslice.md\n",
    "  - bigscape: bigscape.md\n",
    "  - bigslice: bigslice.md\n",
    "  - arts: arts.md\n",
    "  - cblaster-genome: cblaster-genome.md\n",
    "  - cblaster-bgc: cblaster-bgc.md\n",
    "- Phylogenomic Placement:\n",
    "  - automlst-wrapper: automlst-wrapper.md\n",
    "- Comparative Genomics:\n",
    "  - roary: roary.md\n",
    "  - eggnog-roary: eggnog-roary.md\n",
    "- Custom Reports:\n",
    "  - How to Add Custom Analysis to the BGCFlow Report: unique_polyketides.md\n",
    "...\n",
    "```\n",
    "\n",
    "Once you updated the `mkdocs.yaml` file, the site will be regenerated to show your newly added report.\n",
    "The report can be opened here [http://localhost:8001/unique_polyketides/](http://localhost:8001/unique_polyketides/)"
   ]
  }
 ],
 "metadata": {
  "kernelspec": {
   "display_name": "Python 3 (ipykernel)",
   "language": "python",
   "name": "python3"
  },
  "language_info": {
   "codemirror_mode": {
    "name": "ipython",
    "version": 3
   },
   "file_extension": ".py",
   "mimetype": "text/x-python",
   "name": "python",
   "nbconvert_exporter": "python",
   "pygments_lexer": "ipython3",
   "version": "3.10.13"
  }
 },
 "nbformat": 4,
 "nbformat_minor": 5
}
