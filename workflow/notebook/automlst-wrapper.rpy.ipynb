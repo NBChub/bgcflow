{
 "cells": [
  {
   "cell_type": "markdown",
   "id": "aa0f0d95-5e6b-436f-a971-9486d0841329",
   "metadata": {},
   "source": [
    "# autoMLST Wrapper\n",
    "Summary of [autoMLST Wrapper](https://github.com/KatSteinke/automlst-simplified-wrapper) results from project: `[{{ project().name }}]`\n",
    "\n",
    "## Description\n",
    "This report provides an overview of the result from [autoMLST Wrapper](https://github.com/KatSteinke/automlst-simplified-wrapper), a modified version of [autoMLST](https://bitbucket.org/ziemertlab/automlst) tailored for simplified usability. By integrating a straightforward wrapper script, this fork eliminates the need for additional organism selection steps, streamlining the process for users."
   ]
  },
  {
   "cell_type": "code",
   "execution_count": null,
   "id": "d21448bb-afe9-4fdb-b964-2143a0ccd1e4",
   "metadata": {
    "tags": []
   },
   "outputs": [],
   "source": [
    "import pandas as pd\n",
    "from pathlib import Path\n",
    "from IPython.display import display, Markdown, HTML\n",
    "\n",
    "import warnings\n",
    "warnings.filterwarnings('ignore')\n",
    "warnings.filterwarnings('ignore', message='.*method overwritten by.*')\n",
    "\n",
    "from itables import to_html_datatable as DT\n",
    "import itables.options as opt\n",
    "opt.css = \"\"\"\n",
    ".itables table td { font-style: italic; font-size: .8em;}\n",
    ".itables table th { font-style: oblique; font-size: .8em; }\n",
    "\"\"\"\n",
    "opt.classes = [\"display\", \"compact\"]\n",
    "opt.lengthMenu = [5, 10, 20, 50, 100, 200, 500]\n",
    "\n",
    "report_dir = Path(\"../\")\n",
    "\n",
    "%load_ext rpy2.ipython"
   ]
  },
  {
   "cell_type": "code",
   "execution_count": null,
   "id": "53fb8b15-379c-4be1-827e-243602f89d95",
   "metadata": {
    "tags": []
   },
   "outputs": [],
   "source": [
    "report_dir = Path(\"../\")\n",
    "\n",
    "with open(report_dir / \"automlst_wrapper/final.newick\", \"r\") as f:\n",
    "    data = f.readlines()\n",
    "\n",
    "value_to_replace = [i.split(\":\")[0] for i in data[0].replace(\"(\", \"\").split(\",\")]\n",
    "\n",
    "new_dict = {}\n",
    "df = pd.read_csv(\"../automlst_wrapper/df_genomes_tree.csv\")\n",
    "genome_ids = list(df.genome_id)\n",
    "for g in genome_ids:\n",
    "    for v in value_to_replace:\n",
    "        if v.startswith(g.split(\".\")[0]):\n",
    "            new_dict[v] = g\n",
    "            value_to_replace.remove(v)\n",
    "\n",
    "data = data[0]\n",
    "for k in new_dict.keys():\n",
    "    data = data.replace(k, new_dict[k])\n",
    "\n",
    "outfile = Path(\"assets/data/final_corrected.newick\")\n",
    "outfile.parent.mkdir(parents=True, exist_ok=True)\n",
    "with open(outfile, \"w\") as f:\n",
    "    f.write(data)"
   ]
  },
  {
   "cell_type": "markdown",
   "id": "b629d79b",
   "metadata": {},
   "source": [
    "## Visualization\n",
    "The tree visualization represents the phylogenetic relationships between various strains of the genus. This visualization aids in understanding the genetic diversity and evolutionary history of these genomes."
   ]
  },
  {
   "cell_type": "code",
   "execution_count": null,
   "id": "b6503227-61f9-44e1-8080-6d3c8266e02f",
   "metadata": {},
   "outputs": [],
   "source": [
    "%%capture\n",
    "%%R\n",
    "suppressPackageStartupMessages({\n",
    "  library(\"treeio\")\n",
    "  library(\"ggtree\")\n",
    "  library(\"tidyverse\")\n",
    "  library(\"ggstar\")\n",
    "  library(\"ggnewscale\")\n",
    "  library(\"ggtreeExtra\")\n",
    "  library(\"phangorn\")\n",
    "  library(\"RColorBrewer\")\n",
    "})"
   ]
  },
  {
   "cell_type": "code",
   "execution_count": null,
   "id": "ea15c849-3803-4876-9a91-f38d0e32e337",
   "metadata": {},
   "outputs": [],
   "source": [
    "%%R  -w 800 -h 800\n",
    "tree <- read.tree(\"assets/data/final_corrected.newick\")\n",
    "#data <- read.csv(\"../automlst_wrapper/df_genomes_tree.csv\")\n",
    "data <- read.csv(\"../tables/df_gtdb_meta.csv\")\n",
    "\n",
    "# Shorten the Organism column\n",
    "data$Organism_short <- sub(\"^s__([A-Za-z])[a-z]*.*\\\\s\", \"\\\\1. \", data$Organism) # Shorten the genus name\n",
    "data$Organism_short <- sub(\"^s__\", \"\", data$Organism_short)  # Remove 's__'\n",
    "\n",
    "# midpoint root\n",
    "tree <- phangorn::midpoint(tree)\n",
    "tree <- ladderize(reorder(tree))\n",
    "\n",
    "# Get the unique genera\n",
    "genera <- unique(data$Genus)\n",
    "\n",
    "# Initialize the plot\n",
    "p <- ggtree(tree, \n",
    "            #layout=\"fan\", \n",
    "            size=1, open.angle=5, branch.length='none')\n",
    "\n",
    "# Create a vector of colors\n",
    "colors <- brewer.pal(length(genera), \"Set1\")\n",
    "\n",
    "# Create a mapping from genera to colors\n",
    "genus_to_color <- setNames(colors, genera)\n",
    "\n",
    "# Add a clade label for each genus\n",
    "for (genus in genera) {\n",
    "  # Get the tips that belong to this genus\n",
    "  genus_tips <- data$genome_id[data$Genus == genus]\n",
    "  \n",
    "  # Find the MRCA of these tips\n",
    "  mrca_node <- getMRCA(tree, genus_tips)\n",
    "  \n",
    "  # Highlight this clade\n",
    "  p <- p + geom_hilight(node = mrca_node, fill = genus_to_color[genus], alpha=.6,\n",
    "                        type = \"gradient\", gradient.direction = 'rt',)\n",
    "}\n",
    "\n",
    "# Create a new column that combines the genome_id and Organism fields\n",
    "data$new_label <- paste(data$genome_id, data$Organism_short, sep=\" - \")\n",
    "\n",
    "p <- p %<+% data + geom_tippoint(aes(color=Genus), size=3, show.legend = TRUE) + \n",
    "                   geom_tiplab(aes(label=new_label, offset = 0.5)) + hexpand(.4)\n",
    "\n",
    "# Set the color scale manually\n",
    "p <- p + scale_color_manual(values = genus_to_color)\n",
    "\n",
    "# Move the legend to the bottom\n",
    "p <- p + theme(legend.position = 'bottom')\n",
    "\n",
    "# Display the plot\n",
    "p"
   ]
  },
  {
   "cell_type": "markdown",
   "id": "7ad1a411-682e-42f7-a62d-c45238c83e9f",
   "metadata": {},
   "source": [
    "[Download Tree](assets/data/final_corrected.newick){:target=\"_blank\" .md-button}"
   ]
  },
  {
   "cell_type": "code",
   "execution_count": null,
   "id": "eec1beae-aad1-4736-9aec-84fd57eab970",
   "metadata": {},
   "outputs": [],
   "source": [
    "outfile = Path(\"assets/tables/automlst_tree_table.csv\")\n",
    "outfile.parent.mkdir(parents=True, exist_ok=True)\n",
    "outfile.write_text(df.to_csv(index=False))\n",
    "\n",
    "display(HTML(DT(df.loc[:, [\"genome_id\", \"genus_original\", \"species_original\", \"strain\", \"phylum\", \"class\", \"order\", \"family\", \"genus\", \"species\"]], scrollX=True)))"
   ]
  },
  {
   "cell_type": "markdown",
   "id": "4d8fe1ca-30f9-472a-9e01-4e9db61825b8",
   "metadata": {},
   "source": [
    "[Download Table](assets/tables/automlst_tree_table.csv){:target=\"_blank\" .md-button}\n",
    "\n",
    "## Interactive Visualization with iTOL\n",
    "For an enhanced, interactive visualization experience, users are encouraged to download the tree file and the corresponding metadata table. These files can be uploaded to [iTOL (Interactive Tree Of Life)](https://itol.embl.de/), a web-based tool for the display, manipulation, and annotation of phylogenetic trees.\n",
    "\n",
    "## References\n",
    "<font size=\"2\">\n",
    "\n",
    "- **G Yu**, DK Smith, H Zhu, Y Guan, TTY Lam<sup>\\*</sup>. ggtree: an\n",
    "    R package for visualization and annotation of phylogenetic trees\n",
    "    with their covariates and other associated data. ***Methods in\n",
    "    Ecology and Evolution***. 2017, 8(1):28-36. doi:\n",
    "    [10.1111/2041-210X.12628](https://doi.org/10.1111/2041-210X.12628)\n",
    "\n",
    "{% for i in project().rule_used['automlst-wrapper']['references'] %}\n",
    "- *{{ i }}*\n",
    "{% endfor %}\n",
    "</font>"
   ]
  }
 ],
 "metadata": {
  "kernelspec": {
   "display_name": "Python 3 (ipykernel)",
   "language": "python",
   "name": "python3"
  },
  "language_info": {
   "codemirror_mode": {
    "name": "ipython",
    "version": 3
   },
   "file_extension": ".py",
   "mimetype": "text/x-python",
   "name": "python",
   "nbconvert_exporter": "python",
   "pygments_lexer": "ipython3",
   "version": "3.10.13"
  }
 },
 "nbformat": 4,
 "nbformat_minor": 5
}
