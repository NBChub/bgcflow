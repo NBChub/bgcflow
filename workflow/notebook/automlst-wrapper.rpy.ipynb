{
 "cells": [
  {
   "cell_type": "markdown",
   "id": "aa0f0d95-5e6b-436f-a971-9486d0841329",
   "metadata": {},
   "source": [
    "# autoMLST Wrapper\n",
    "Summary of [AutoMLST Wrapper](https://github.com/KatSteinke/automlst-simplified-wrapper) results from project: `[{{ project().name }}]`\n",
    "\n",
    "## Description\n",
    "A fork of [autoMLST](https://bitbucket.org/ziemertlab/automlst) with a simplified wrapper script bypassing additional organism selection."
   ]
  },
  {
   "cell_type": "code",
   "execution_count": null,
   "id": "d21448bb-afe9-4fdb-b964-2143a0ccd1e4",
   "metadata": {
    "tags": []
   },
   "outputs": [],
   "source": [
    "import pandas as pd\n",
    "from pathlib import Path\n",
    "\n",
    "import warnings\n",
    "warnings.filterwarnings('ignore')\n",
    "\n",
    "%load_ext rpy2.ipython"
   ]
  },
  {
   "cell_type": "code",
   "execution_count": null,
   "id": "53fb8b15-379c-4be1-827e-243602f89d95",
   "metadata": {
    "tags": []
   },
   "outputs": [],
   "source": [
    "report_dir = Path(\"../\")\n",
    "\n",
    "with open(report_dir / \"automlst_wrapper/final.newick\", \"r\") as f:\n",
    "    data = f.readlines()\n",
    "\n",
    "value_to_replace = [i.split(\":\")[0] for i in data[0].replace(\"(\", \"\").split(\",\")]\n",
    "\n",
    "new_dict = {}\n",
    "df = pd.read_csv(\"../automlst_wrapper/df_genomes_tree.csv\")\n",
    "genome_ids = list(df.genome_id)\n",
    "for g in genome_ids:\n",
    "    for v in value_to_replace:\n",
    "        if v.startswith(g.split(\".\")[0]):\n",
    "            new_dict[v] = g\n",
    "            value_to_replace.remove(v)\n",
    "\n",
    "data = data[0]\n",
    "for k in new_dict.keys():\n",
    "    data = data.replace(k, new_dict[k])\n",
    "\n",
    "with open(\"../automlst_wrapper/final_corrected.newick\", \"w\") as f:\n",
    "    f.write(data)"
   ]
  },
  {
   "cell_type": "code",
   "execution_count": null,
   "id": "b6503227-61f9-44e1-8080-6d3c8266e02f",
   "metadata": {},
   "outputs": [],
   "source": [
    "%%R\n",
    "library(\"treeio\")\n",
    "library(\"ggtree\")\n",
    "library(\"tidyverse\")\n",
    "library(\"ggstar\")\n",
    "library(\"ggnewscale\")\n",
    "library(\"ggtreeExtra\")\n",
    "library(\"phangorn\")"
   ]
  },
  {
   "cell_type": "code",
   "execution_count": null,
   "id": "ff8d1fb5-c54b-47e0-89f7-8d8d7f482ac2",
   "metadata": {},
   "outputs": [],
   "source": [
    "%%R  -w 1200 -h 1200\n",
    "tree <- read.tree(\"../automlst_wrapper/final_corrected.newick\")\n",
    "#data <- read.csv(\"../automlst_wrapper/df_genomes_tree.csv\")\n",
    "data <- read.csv(\"../tables/df_gtdb_meta.csv\")\n",
    "\n",
    "# midpoint root\n",
    "tree <- phangorn::midpoint(tree)\n",
    "tree <- ladderize(reorder(tree))\n",
    "\n",
    "# The circular layout tree.\n",
    "p <- ggtree(tree, layout=\"fan\", size=0.1, open.angle=5, branch.length='none')\n",
    "p <- p %<+% data #+ geom_star(\n",
    "                 #       mapping=aes(fill=Genus, starshape=Genus),#, size=genome_size),\n",
    "                  #      position=\"identity\",starstroke=0.1)\n",
    "        \n",
    "p2<- p + new_scale_fill() +\n",
    "         geom_fruit(geom=geom_tile,\n",
    "                  mapping=aes(y=genome_id, x=Genus, fill=Genus),\n",
    "                  color = \"grey50\", offset = 0.01, pwidth=0.02) +\n",
    "         scale_alpha_continuous(range=c(0, 1),\n",
    "                             guide=guide_legend(keywidth = 0.05, \n",
    "                                             keyheight = 0.05, order=5)) \n",
    "p3 <- p2 + \n",
    "         geom_fruit(geom=geom_bar,\n",
    "                    mapping=aes(y=genome_id, x=contig_count, fill=Genus),\n",
    "                    pwidth=0.38, \n",
    "                    orientation=\"y\", \n",
    "                    stat=\"identity\") +\n",
    "            geom_treescale() +\n",
    "        theme()\n",
    "p3"
   ]
  },
  {
   "cell_type": "raw",
   "id": "5384154e-8319-4570-a6db-aaa1e4984f9c",
   "metadata": {},
   "source": [
    "%%R\n",
    "colnames(data)"
   ]
  },
  {
   "cell_type": "markdown",
   "id": "4d8fe1ca-30f9-472a-9e01-4e9db61825b8",
   "metadata": {},
   "source": [
    "## References\n",
    "<font size=\"2\">\n",
    "{% for i in project().rule_used['automlst-wrapper']['references'] %}\n",
    "- *{{ i }}*\n",
    "{% endfor %}\n",
    "</font>"
   ]
  }
 ],
 "metadata": {
  "kernelspec": {
   "display_name": "Python 3 (ipykernel)",
   "language": "python",
   "name": "python3"
  },
  "language_info": {
   "codemirror_mode": {
    "name": "ipython",
    "version": 3
   },
   "file_extension": ".py",
   "mimetype": "text/x-python",
   "name": "python",
   "nbconvert_exporter": "python",
   "pygments_lexer": "ipython3",
   "version": "3.10.6"
  }
 },
 "nbformat": 4,
 "nbformat_minor": 5
}
