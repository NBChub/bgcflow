{
 "cells": [
  {
   "cell_type": "markdown",
   "id": "aa0f0d95-5e6b-436f-a971-9486d0841329",
   "metadata": {},
   "source": [
    "# DeepTFactor\n",
    "Summary of [DeepTFactor](https://bitbucket.org/kaistsystemsbiology/deeptfactor/src/master/) results from project: `[{{ project().name }}]` \n",
    "\n",
    "## Description\n",
    "A deep learning-based tool for the prediction of transcription factors."
   ]
  },
  {
   "cell_type": "code",
   "execution_count": null,
   "id": "d21448bb-afe9-4fdb-b964-2143a0ccd1e4",
   "metadata": {
    "tags": []
   },
   "outputs": [],
   "source": [
    "import pandas as pd\n",
    "from pathlib import Path\n",
    "from IPython.display import display, Markdown, HTML\n",
    "import itables.options as opt\n",
    "from itables import to_html_datatable as DT\n",
    "import plotly.graph_objects as go\n",
    "opt.css = \"\"\"\n",
    ".itables table td { font-style: italic; font-size: .8em;}\n",
    ".itables table th { font-style: oblique; font-size: .8em; }\n",
    "\"\"\"\n",
    "opt.classes = [\"display\", \"compact\"]\n",
    "opt.lengthMenu = [5, 10, 20, 50, 100, 200, 500]\n",
    "\n",
    "import warnings\n",
    "warnings.filterwarnings('ignore')"
   ]
  },
  {
   "cell_type": "code",
   "execution_count": null,
   "id": "53fb8b15-379c-4be1-827e-243602f89d95",
   "metadata": {
    "tags": []
   },
   "outputs": [],
   "source": [
    "report_dir = Path(\"../\")"
   ]
  },
  {
   "cell_type": "code",
   "execution_count": null,
   "id": "4c140148-c9ce-4f56-b113-69ea6a0eafa0",
   "metadata": {
    "tags": []
   },
   "outputs": [],
   "source": [
    "df = pd.read_csv(\"../tables/df_deeptfactor.csv\", index_col=0)\n",
    "df = df[df.deeptfactor_prediction == True]"
   ]
  },
  {
   "cell_type": "code",
   "execution_count": null,
   "id": "8236e8fb-710f-4e8c-8153-fc8984197b6b",
   "metadata": {},
   "outputs": [],
   "source": [
    "faa_dictionary = []\n",
    "df_gtdb = pd.read_csv(\"../tables/df_gtdb_meta.csv\")\n",
    "for genome_id in df_gtdb.genome_id:\n",
    "    with open(f\"../../../interim/prokka/{genome_id}/{genome_id}.faa\", \"r\") as f:\n",
    "        data = f.readlines()\n",
    "    aa_dict = [i.strip(\"\\n\").strip(\">\").split(\" \", 1) for i in data if i.startswith(\">\")]\n",
    "    df_aa = pd.DataFrame(aa_dict, columns=[\"locus_tag\", \"annotation\"]).set_index(\"locus_tag\")\n",
    "    df_aa[\"genome_id\"] = genome_id\n",
    "    faa_dictionary.append(df_aa)\n",
    "df_aa = pd.concat(faa_dictionary)"
   ]
  },
  {
   "cell_type": "code",
   "execution_count": null,
   "id": "321ccedf-5f5e-49e0-8417-ded2a706117e",
   "metadata": {},
   "outputs": [],
   "source": [
    "df_deeptf = pd.merge(df.reset_index().drop(columns='genome_id'), df_aa.reset_index(), on=\"locus_tag\", how=\"outer\")\n",
    "df_deeptf.deeptfactor_prediction = df_deeptf.deeptfactor_prediction.fillna(False)\n",
    "df_deeptf = df_deeptf.fillna(0)"
   ]
  },
  {
   "cell_type": "code",
   "execution_count": null,
   "id": "be0120e7-613b-4e26-93a9-380eb4a62b50",
   "metadata": {},
   "outputs": [],
   "source": [
    "display(HTML(DT(df_deeptf, columnDefs=[{\"className\": \"dt-center\", \"targets\": \"_all\", \"searchable\": True}], maxColumns=df_deeptf.shape[1], maxBytes=0)))"
   ]
  },
  {
   "cell_type": "code",
   "execution_count": null,
   "id": "864665c9-ea6c-4e24-914f-889d7e5563ff",
   "metadata": {},
   "outputs": [],
   "source": [
    "def generate_sunburst_plot(data, outfile_sunburst, outfile_barh):\n",
    "    # Calculate the necessary information\n",
    "    total_annotated = data[\"deeptfactor_prediction\"].sum()\n",
    "    hypothetical_count = data[data[\"deeptfactor_prediction\"] & data[\"annotation\"].str.contains(\"hypothetical\", case=False)].shape[0]\n",
    "    non_annotated_hypothetical_count = data[~data[\"deeptfactor_prediction\"] & data[\"annotation\"].str.contains(\"hypothetical\", case=False)].shape[0]\n",
    "    non_hypothetical_annotated = data[data[\"deeptfactor_prediction\"] & ~data[\"annotation\"].str.contains(\"hypothetical\", case=False)]\n",
    "    annotation_counts = non_hypothetical_annotated[\"annotation\"].value_counts()\n",
    "\n",
    "    # Sunburst plot data\n",
    "    labels = [\"Locus Tags\", \"Annotated by deepTF\", \"Not Annotated\", \n",
    "              \"Hypothetical Proteins\", \"Other Proteins\", \n",
    "              \"Not Annotated - Hypothetical\", \"Not Annotated - Other\"]\n",
    "    parents = [\"\", \"Locus Tags\", \"Locus Tags\", \n",
    "               \"Annotated by deepTF\", \"Annotated by deepTF\", \n",
    "               \"Not Annotated\", \"Not Annotated\"]\n",
    "    values = [len(data), total_annotated, len(data) - total_annotated, \n",
    "              hypothetical_count, total_annotated - hypothetical_count, \n",
    "              non_annotated_hypothetical_count, len(data) - total_annotated - non_annotated_hypothetical_count]\n",
    "\n",
    "    # Create the sunburst plot\n",
    "    fig1 = go.Figure(go.Sunburst(\n",
    "        labels=labels,\n",
    "        parents=parents,\n",
    "        values=values,\n",
    "        maxdepth=2,\n",
    "        marker=dict(colors=['#f5f5f5', '#66b2ff', '#ff9999', '#ffcccc', '#99ccff', '#ffdddd', '#aaddff'])\n",
    "    ))\n",
    "    fig1.update_layout(height=800, title=\"Sunburst Plot of Locus Tags and Protein Types\")\n",
    "    fig1.write_html(outfile_sunburst)\n",
    "\n",
    "    # Create the horizontal bar chart for annotations\n",
    "    fig2 = go.Figure(go.Bar(\n",
    "        y=annotation_counts.index,\n",
    "        x=annotation_counts.values,\n",
    "        marker_color='#66b2ff',\n",
    "        orientation='h'\n",
    "    ))\n",
    "    fig2.update_layout(title=\"Distribution of Annotations for Non-Hypothetical, deepTF-Annotated Entries\", \n",
    "                       yaxis_title=\"Annotation\", \n",
    "                       xaxis_title=\"Count\",\n",
    "                       height=800)\n",
    "    fig2.write_html(outfile_barh)"
   ]
  },
  {
   "cell_type": "code",
   "execution_count": null,
   "id": "bb8b4144-7336-49fc-8f30-cbe837b47de1",
   "metadata": {},
   "outputs": [],
   "source": [
    "outfile1 = Path(f\"assets/figures/deeptf_sunburst.html\")\n",
    "outfile1.parent.mkdir(parents=True, exist_ok=True)\n",
    "\n",
    "outfile2 = Path(f\"assets/figures/deeptf_barh.html\")\n",
    "outfile2.parent.mkdir(parents=True, exist_ok=True)\n",
    "generate_sunburst_plot(df_deeptf, outfile1, outfile2)"
   ]
  },
  {
   "cell_type": "code",
   "execution_count": null,
   "id": "392407dc-77bf-4e07-8e93-ae3114d04af9",
   "metadata": {},
   "outputs": [],
   "source": [
    "display(HTML(filename=str(outfile1)))"
   ]
  },
  {
   "cell_type": "code",
   "execution_count": null,
   "id": "0f7658b2-639e-4553-98ee-c873fc116e30",
   "metadata": {},
   "outputs": [],
   "source": [
    "display(HTML(filename=str(outfile2)))"
   ]
  },
  {
   "cell_type": "markdown",
   "id": "4d8fe1ca-30f9-472a-9e01-4e9db61825b8",
   "metadata": {},
   "source": [
    "## References\n",
    "\n",
    "<font size=\"2\">\n",
    "\n",
    "{% for i in project().rule_used['deeptfactor']['references'] %}\n",
    "- *{{ i }}*\n",
    "{% endfor %}\n",
    "\n",
    "</font>"
   ]
  }
 ],
 "metadata": {
  "kernelspec": {
   "display_name": "Python 3 (ipykernel)",
   "language": "python",
   "name": "python3"
  },
  "language_info": {
   "codemirror_mode": {
    "name": "ipython",
    "version": 3
   },
   "file_extension": ".py",
   "mimetype": "text/x-python",
   "name": "python",
   "nbconvert_exporter": "python",
   "pygments_lexer": "ipython3",
   "version": "3.9.18"
  }
 },
 "nbformat": 4,
 "nbformat_minor": 5
}
