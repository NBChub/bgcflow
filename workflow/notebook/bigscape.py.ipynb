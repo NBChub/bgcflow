{
 "cells": [
  {
   "cell_type": "markdown",
   "id": "ce8cfe38-9a71-4ee7-93fd-3a1f3b4b84bf",
   "metadata": {},
   "source": [
    "# BiG-SCAPE\n",
    "Summary of GCFs found in each genome from project `[{{ project().name }}]` using [BiG-SCAPE](https://github.com/medema-group/BiG-SCAPE)\n",
    "\n",
    "[BiG-SCAPE result]({{ project().file_server() }}/bigscape/result_as{{project().dependency_version()}}){:target=\"_blank\" .md-button}\n",
    "\n",
    "## BGC Distribution\n",
    "[BiG-SCAPE](https://github.com/medema-group/BiG-SCAPE) constructs sequence similarity networks of Biosynthetic Gene Clusters (BGCs) and groups them into Gene Cluster Families (GCFs). BiG-SCAPE does this by rapidly calculating a distance matrix between gene clusters based on a comparison of their protein domain content, order, copy number and sequence identity."
   ]
  },
  {
   "cell_type": "code",
   "execution_count": null,
   "id": "4baba3b7-ed32-4bf7-bbad-02d0c77c6048",
   "metadata": {
    "tags": []
   },
   "outputs": [],
   "source": [
    "import pandas as pd\n",
    "from pathlib import Path\n",
    "import json\n",
    "\n",
    "from IPython.display import display, Markdown, HTML\n",
    "from jinja2 import Template\n",
    "from itables import to_html_datatable as DT\n",
    "import itables.options as opt\n",
    "import altair as alt\n",
    "import seaborn as sns\n",
    "\n",
    "from scipy.cluster.hierarchy import linkage, leaves_list\n",
    "from scipy.spatial.distance import pdist\n",
    "\n",
    "opt.css = \"\"\"\n",
    ".itables table td { font-style: italic; font-size: .8em;}\n",
    ".itables table th { font-style: oblique; font-size: .8em; }\n",
    "\"\"\"\n",
    "opt.classes = [\"display\", \"compact\"]\n",
    "opt.lengthMenu = [5, 10, 20, 50, 100, 200, 500]\n",
    "\n",
    "import warnings\n",
    "warnings.filterwarnings('ignore')\n",
    "\n",
    "report_dir = Path(\"../\")\n",
    "\n",
    "dependency_version = report_dir / \"metadata/dependency_versions.json\"\n",
    "with open(dependency_version, \"r\") as file:\n",
    "    dependency_version = json.load(file)\n",
    "antismash_version = dependency_version[\"antismash\"]"
   ]
  },
  {
   "cell_type": "code",
   "execution_count": null,
   "id": "0d8270fd-78f6-40db-b993-c7948111137c",
   "metadata": {
    "tags": []
   },
   "outputs": [],
   "source": [
    "# Set Cutoff\n",
    "cutoff = \"0.30\"\n",
    "\n",
    "# Read tables that are generated when BiGSCAPE rule is TRUE\n",
    "antismash_table = report_dir / f\"tables/df_antismash_{antismash_version}_summary.csv\"\n",
    "gtdb_table = report_dir / \"tables/df_gtdb_meta.csv\"\n",
    "\n",
    "#ncbi_table = report_dir / \"tables/df_ncbi_meta.csv\"\n",
    "bigscape_dir = report_dir /f\"bigscape/for_cytoscape_antismash_{antismash_version}/\"\n",
    "bgc_table = [i for i in bigscape_dir.glob(\"*_df_clusters_0.30.csv\")][0]\n",
    "gcf_table = [i for i in bigscape_dir.glob(\"*_df_families_0.30.csv\")][0]\n",
    "mibig_table = [i for i in bigscape_dir.glob(\"*_df_known_0.30.csv\")][0]\n",
    "gcf_presence_table = [i for i in bigscape_dir.glob(\"*_df_family_presence_0.30.csv\")][0]\n",
    "network_table = [i for i in bigscape_dir.glob(\"*_df_network_0.30.csv\")][0]\n",
    "\n",
    "df_antismash = pd.read_csv(antismash_table).set_index(\"genome_id\", drop=False)\n",
    "df_gtdb = pd.read_csv(gtdb_table, index_col=0)\n",
    "\n",
    "# correct organism name\n",
    "for idx in df_gtdb.index:\n",
    "    if df_gtdb.loc[idx, \"Organism\"] == \"s__\":\n",
    "        genus = df_gtdb.loc[idx, 'Genus'].split('__')[1]\n",
    "        df_gtdb.loc[idx, 'Organism'] = f\"s__{genus} sp.\" \n",
    "\n",
    "df_bgcs = pd.read_csv(bgc_table, index_col=0)\n",
    "df_gcf_presence = pd.read_csv(gcf_presence_table, index_col=0)\n",
    "df_gcfs = pd.read_csv(gcf_table, index_col=0)\n",
    "df_mibig = pd.read_csv(mibig_table, index_col=0)\n",
    "df_network = pd.read_csv(network_table, index_col=0)"
   ]
  },
  {
   "cell_type": "markdown",
   "id": "c31871f5-31c3-4ad3-8cb0-30df949745a5",
   "metadata": {},
   "source": [
    "## Sequence Similarity Network"
   ]
  },
  {
   "cell_type": "code",
   "execution_count": null,
   "id": "9711e786-ad0e-4931-b2f2-0be2ecd58e5c",
   "metadata": {},
   "outputs": [],
   "source": [
    "import pandas as pd\n",
    "import networkx as nx\n",
    "import plotly.graph_objects as go\n",
    "import numpy as np\n",
    "import scipy.spatial as spatial\n",
    "\n",
    "from pathlib import Path\n",
    "import json, shutil, yaml"
   ]
  },
  {
   "cell_type": "code",
   "execution_count": null,
   "id": "f9fb3050-9e55-47d8-b017-52d61bdd1416",
   "metadata": {},
   "outputs": [],
   "source": [
    "def create_node_trace(G, node_trace_category, color, showtextlabel=False, nodesize=10, nodeopacity=0.8, \n",
    "                      nodesymbol=\"circle\", linewidth=1, linecolor=\"black\", textposition=\"top center\", showlegend=False):\n",
    "    if showtextlabel:\n",
    "        markermode = \"markers+text\"\n",
    "    else:\n",
    "        markermode = \"markers\"\n",
    "    nodes = np.array([node for node in G.nodes() if G.nodes[node][\"node_trace\"] == node_trace_category])\n",
    "    pos = np.array([G.nodes[node]['pos'] for node in nodes.flatten()]).reshape(-1, 2)\n",
    "    xs, ys = pos[:, 0], pos[:, 1]\n",
    "    texts = np.array([G.nodes[node]['text'] for node in nodes])\n",
    "    node_trace = go.Scatter(\n",
    "        x=xs.tolist(),\n",
    "        y=ys.tolist(),\n",
    "        text=texts.tolist(),\n",
    "        textposition=textposition,\n",
    "        mode=markermode,\n",
    "        hoverinfo='text',\n",
    "        name=node_trace_category,\n",
    "        showlegend=showlegend,\n",
    "        marker=dict(\n",
    "            symbol=nodesymbol,\n",
    "            opacity=nodeopacity,\n",
    "            showscale=False,\n",
    "            color=color,\n",
    "            size=nodesize,\n",
    "            line=dict(width=linewidth, color=linecolor)))\n",
    "    return node_trace"
   ]
  },
  {
   "cell_type": "code",
   "execution_count": null,
   "id": "491c58f2-01c2-43ee-819c-9c8271606db5",
   "metadata": {},
   "outputs": [],
   "source": [
    "def create_edge_trace(Graph, name, showlegend=False, color='#888', width=0.5, opacity=0.8, dash=\"solid\"):\n",
    "    edge_trace = go.Scatter(\n",
    "        x=[],\n",
    "        y=[],\n",
    "        name=name,\n",
    "        opacity=opacity,\n",
    "        line=dict(width=width,color=color, dash=dash),\n",
    "        hoverinfo='none',\n",
    "        mode='lines',\n",
    "        showlegend=showlegend)\n",
    "\n",
    "    edges = np.array([edge for edge in Graph.edges() if G.edges[edge][\"relation_type\"] == name])\n",
    "    pos = np.array([Graph.nodes[e]['pos'] for e in edges.flatten()]).reshape(-1, 2)\n",
    "    xs = np.insert(pos[:, 0], np.arange(2, len(pos[:, 0]), 2), None)\n",
    "    ys = np.insert(pos[:, 1], np.arange(2, len(pos[:, 1]), 2), None)\n",
    "    edge_trace['x'] = xs\n",
    "    edge_trace['y'] = ys\n",
    "\n",
    "    return edge_trace"
   ]
  },
  {
   "cell_type": "code",
   "execution_count": null,
   "id": "a5e0a04b-64e2-4176-9981-5fe2e2b4a91a",
   "metadata": {},
   "outputs": [],
   "source": [
    "path_bigscape = report_dir / f\"bigscape/for_cytoscape_antismash_{antismash_version}/\"\n",
    "\n",
    "df_bigscape = pd.read_csv([i for i in path_bigscape.glob(f\"*df_network*{cutoff}*\")][0])\n",
    "df_bigscape_cluster = pd.read_csv([i for i in path_bigscape.glob(f\"*df_cluster*{cutoff}*\")][0])\n",
    "df_regions = pd.read_csv(report_dir / f\"tables/df_regions_antismash_{antismash_version}.csv\")\n",
    "\n",
    "# clean up MIBIG ids with extra .1\n",
    "for i in df_bigscape.index:\n",
    "    if 'BGC' in df_bigscape.loc[i, 'Clustername 1']:\n",
    "        df_bigscape.loc[i, 'Clustername 1'] = df_bigscape.loc[i, 'Clustername 1'].split(\".\")[0]\n",
    "        #print(df_bigscape.loc[i, 'Clustername 1'])\n",
    "    if 'BGC' in df_bigscape.loc[i, 'Clustername 2']:\n",
    "        df_bigscape.loc[i, 'Clustername 2'] = df_bigscape.loc[i, 'Clustername 2'].split(\".\")[0]\n",
    "        #print(df_bigscape.loc[i, 'Clustername 2'])\n",
    "\n",
    "for i in df_bigscape_cluster.index:\n",
    "    if 'BGC' in df_bigscape_cluster.loc[i, 'bgc_id']:\n",
    "        df_bigscape_cluster.loc[i, 'bgc_id'] = df_bigscape_cluster.loc[i, 'bgc_id'].split(\".\")[0]"
   ]
  },
  {
   "cell_type": "code",
   "execution_count": null,
   "id": "96f423d6-4e71-4def-8a31-bc5cd8e37674",
   "metadata": {},
   "outputs": [],
   "source": [
    "edge_bigscape = df_bigscape.rename(columns={'Clustername 1' : 'source',\n",
    "                                              'Clustername 2' : 'target'})\n",
    "edge_bigscape['relation_type'] = 'bigscape_similarity'\n",
    "edge_bigscape['weight'] = edge_bigscape['Jaccard index'] * 30 # scale to cytoscape"
   ]
  },
  {
   "cell_type": "code",
   "execution_count": null,
   "id": "46716bfd-66b0-4663-8e9c-5d28fe8751bf",
   "metadata": {},
   "outputs": [],
   "source": [
    "if 'most_similar_known_cluster_id' in df_regions.columns:\n",
    "    edge_knownclusterblast = df_regions.loc[:, [\"bgc_id\", 'most_similar_known_cluster_id',\n",
    "                                                'most_similar_known_cluster_description', 'most_similar_known_cluster_type',\n",
    "                                                \"similarity\"]]\n",
    "    edge_knownclusterblast = edge_knownclusterblast.rename(columns={'bgc_id' : 'source',\n",
    "                                                                    'most_similar_known_cluster_id' : 'target',\n",
    "                                                                    'most_similar_known_cluster_description' : 'fam_known_compounds_0.30',\n",
    "                                                                    'most_similar_known_cluster_type' : 'product'}).dropna()\n",
    "    edge_knownclusterblast['relation_type'] = 'knownclusterblast'\n",
    "    edge_knownclusterblast['weight'] = edge_knownclusterblast['similarity'] * 30 # scale to cytoscape\n",
    "    edge_bigscape = pd.concat([edge_bigscape, edge_knownclusterblast])"
   ]
  },
  {
   "cell_type": "code",
   "execution_count": null,
   "id": "c66825fd-3d9d-49a1-bb4d-4e9fcf55e432",
   "metadata": {},
   "outputs": [],
   "source": [
    "G = nx.from_pandas_edgelist(edge_bigscape, source='source', target='target', edge_attr=[c for c in edge_bigscape.columns if c not in [\"source\", \"target\"]])\n",
    "\n",
    "tax_dict = df_gtdb.loc[:, ['gtdb_release', 'Domain', 'Phylum', 'Class', 'Order', 'Family', 'Genus', 'Species', 'Organism']].T.to_dict()\n",
    "\n",
    "# Iterate through the DataFrame rows and add each row as a node to the graph\n",
    "for dfs in [df_bigscape_cluster, df_regions, df_mibig.reset_index()]:\n",
    "    for index, row in dfs.iterrows():\n",
    "        node_id = row['bgc_id']\n",
    "        attributes = row.drop('bgc_id').to_dict()\n",
    "        if node_id in G.nodes:\n",
    "            G.add_node(node_id, **attributes)\n",
    "\n",
    "# Add taxonomy information\n",
    "for node_id in G.nodes:\n",
    "    if node_id not in df_mibig.index:\n",
    "        if \"genome_id\" in G.nodes[node_id].keys():\n",
    "            genome_id = G.nodes[node_id][\"genome_id\"]\n",
    "            for k, v in tax_dict[genome_id].items():\n",
    "                G.nodes[node_id][k] = v\n",
    "        else:\n",
    "            G.nodes[node_id]['node_trace'] = \"MIBIG_knownclusterblast\"\n",
    "\n",
    "# Display nodes with their attributes\n",
    "nodes_with_attributes = [{node: G.nodes[node]} for node in G.nodes()]\n",
    "nodes_with_attributes\n",
    "\n",
    "outfile = Path(f\"assets/data/bigscape_{cutoff}_as{antismash_version}.graphml\")\n",
    "outfile.parent.mkdir(parents=True, exist_ok=True)\n",
    "nx.write_graphml(G, outfile)"
   ]
  },
  {
   "cell_type": "code",
   "execution_count": null,
   "id": "54e81286-3f16-4899-98fc-bc5e373c0a04",
   "metadata": {},
   "outputs": [],
   "source": [
    "# define layout options\n",
    "options = {\n",
    "    'prog': 'neato',\n",
    "    'args': ' '.join(['-Gstart=10', '-Goverlap_scaling=-100'])\n",
    "}\n",
    "\n",
    "# position nodes\n",
    "pos = nx.nx_agraph.graphviz_layout(G, **options)#, args='-Goverlap=false -Elen=weight')\n",
    "\n",
    "bigscape_class_labels = df_bigscape_cluster.bigscape_class.unique()\n",
    "bigscape_class_colors = sns.color_palette(\"colorblind\", len(bigscape_class_labels)).as_hex()\n",
    "\n",
    "for n, p in pos.items():\n",
    "    G.nodes[n]['pos'] = p\n",
    "    text = \"<br>\".join([n]+[f\"{k} : {v}\" for k, v in G.nodes[n].items() if k in ['product', \n",
    "                                                                                 'bigscape_class', \n",
    "                                                                                 'genome_id', \n",
    "                                                                                 'accn_id', \n",
    "                                                                                 'gcf_0.30', \n",
    "                                                                                 'fam_id_0.30', \n",
    "                                                                                 'fam_type_0.30', \n",
    "                                                                                 'fam_known_compounds_0.30', \n",
    "                                                                                 'region', \n",
    "                                                                                 'contig_edge', \n",
    "                                                                                 'region_length', \n",
    "                                                                                 'Organism']])\n",
    "    G.nodes[n]['text'] = text\n",
    "    \n",
    "    if 'node_trace' in G.nodes[n].keys():\n",
    "        pass\n",
    "    elif n in df_mibig.index:\n",
    "        G.nodes[n]['node_trace'] = \"MIBIG\"\n",
    "    else:\n",
    "        G.nodes[n]['node_trace'] = G.nodes[n]['bigscape_class']\n",
    "\n",
    "# define visualization\n",
    "edge_annotation_map = {'bigscape_similarity' : {'color':'black',\n",
    "                                                'width':10\n",
    "                                               },\n",
    "                       'knownclusterblast' : {'color':'grey',\n",
    "                                                'width':0.1\n",
    "                                               },\n",
    "                      }\n",
    "\n",
    "node_annotation_map = {'MIBIG' : {'color':'blue',\n",
    "                                  'node_symbol' : 'star'},\n",
    "                       'MIBIG_knownclusterblast': {'color':'blue',\n",
    "                                  'node_symbol' : 'asterisk'}, \n",
    "                       \"BGC\" : {'color':'blue',\n",
    "                                'node_symbol' : 'circle'}\n",
    "                      }\n",
    "\n",
    "for num, bigscape_class_label in enumerate(bigscape_class_labels):\n",
    "    node_annotation_map[bigscape_class_label] = {'color' : bigscape_class_colors[num],\n",
    "                                                 'node_symbol' : 'circle'}\n",
    "\n",
    "traces = []\n",
    "node_trace = []\n",
    "edge_trace = []\n",
    "\n",
    "for e in edge_annotation_map.keys():\n",
    "    dash = \"solid\"\n",
    "    if 'knownclusterblast' in e:\n",
    "        dash = \"dot\"\n",
    "    edge_trace = create_edge_trace(G, e, color=edge_annotation_map[e]['color'], dash=dash, showlegend=True)\n",
    "    traces.append(edge_trace)\n",
    "\n",
    "for trace in node_annotation_map.keys():\n",
    "    nodeopacity = 0.5\n",
    "    showtextlabel = False\n",
    "    linecolor = \"black\"\n",
    "    linewidth = 0.5\n",
    "    textposition=\"top left\"\n",
    "    node_size = 8\n",
    "    if trace in bigscape_class_labels:\n",
    "        nodeopacity = 0.8\n",
    "    node_trace = create_node_trace(G, trace, node_annotation_map[trace]['color'], showtextlabel=showtextlabel, \n",
    "                                   nodesymbol=node_annotation_map[trace]['node_symbol'], nodeopacity=nodeopacity, \n",
    "                                   showlegend=True, linecolor=linecolor, linewidth=linewidth, nodesize=node_size,\n",
    "                                   textposition=textposition)\n",
    "    traces.append(node_trace)\n",
    "\n",
    "fig = go.Figure(data=traces,\n",
    "                layout=go.Layout(\n",
    "                    paper_bgcolor='rgba(0,0,0,0)',\n",
    "                    plot_bgcolor='white',\n",
    "                    showlegend=True,\n",
    "                    hovermode='closest',\n",
    "                    margin=dict(b=20,l=5,r=5,t=40),\n",
    "                    xaxis=dict(showgrid=False, zeroline=False, showticklabels=False, linecolor='black', mirror=True, linewidth=1),\n",
    "                    yaxis=dict(showgrid=False, zeroline=False, showticklabels=False, linecolor='black', mirror=True, linewidth=1),\n",
    "                    width=800, height=600)\n",
    "                )\n",
    "\n",
    "outfile = Path(\"assets/figures/bigscape.html\")\n",
    "outfile.parent.mkdir(parents=True, exist_ok=True)\n",
    "fig.write_html(outfile)\n",
    "\n",
    "display(HTML(filename=str(outfile)))"
   ]
  },
  {
   "cell_type": "markdown",
   "id": "4a3e340c-36e3-4f40-9a9b-75a8c8d00b54",
   "metadata": {},
   "source": [
    "[Cytoscape Network](assets/data/bigscape_0.30_as{{project().dependency_version()}}.graphml){:target=\"_blank\" .md-button}\n",
    "\n",
    "Download the graphml file using the button above and import it into Cytoscape for interactive visualisation of the network."
   ]
  },
  {
   "cell_type": "markdown",
   "id": "f3e6df96-8363-46e2-9536-1fe6f24f1169",
   "metadata": {},
   "source": [
    "## Result Summary"
   ]
  },
  {
   "cell_type": "code",
   "execution_count": null,
   "id": "80b8af45-7c98-4de5-a002-0f343f3b36b1",
   "metadata": {
    "tags": []
   },
   "outputs": [],
   "source": [
    "text_line1 = f\"\"\"BiG-SCAPE detected **{int(df_gcfs.shape[0])}** GCFs of the **{int(df_bgcs.shape[0])}** BGCs\"\"\"\n",
    "display(Markdown(text_line1))\n",
    "\n",
    "try:\n",
    "    text_line2 = f\"\"\"- Number of known GCFs: **{int(df_gcfs.value_counts('fam_type')[\"known_family\"])}**\"\"\"\n",
    "except KeyError:\n",
    "    text_line2 = \"- Number of known GCFs: 0\"\n",
    "    pass\n",
    "display(Markdown(text_line2))\n",
    "\n",
    "text_line3 = f\"\"\"- Number of unknown GCFs: **{int(df_gcfs.value_counts('fam_type')[\"unknown_family\"])}**\"\"\"\n",
    "display(Markdown(text_line3))\n",
    "\n",
    "text_line4 = f\"\"\"- Number of unique GCFs: **{int(df_gcfs[df_gcfs.clusters_in_fam==1].shape[0])}**\"\"\"\n",
    "display(Markdown(text_line4))"
   ]
  },
  {
   "cell_type": "code",
   "execution_count": null,
   "id": "10c665db-7457-4964-8154-e463aa4491cf",
   "metadata": {
    "tags": []
   },
   "outputs": [],
   "source": [
    "H = 600\n",
    "W = 250\n",
    "\n",
    "source = df_bgcs.copy()\n",
    "for idx in source.index:\n",
    "    genome_id = source.loc[idx, \"genome_id\"]\n",
    "    try:\n",
    "        source.loc[idx, 'Genus'] = df_gtdb.loc[genome_id, 'Genus'].split(\"__\")[-1]\n",
    "        source.loc[idx, 'Organism'] = df_gtdb.loc[genome_id, 'Organism'].split(\"__\")[-1]\n",
    "    except:\n",
    "        pass\n",
    "\n",
    "alt.data_transformers.disable_max_rows()\n",
    "chart_class = alt.Chart(source).mark_bar().encode(\n",
    "    y= alt.Y('genome_id', axis=alt.Axis(title='Genome ID'), \n",
    "             sort=alt.EncodingSortField(field=\"Genus\", op=\"count\", order='descending')),\n",
    "    x= alt.X('count(product)', axis=alt.Axis(title='Number of BGCs')),\n",
    "    color='bigscape_class',\n",
    "    tooltip=['genome_id', 'bigscape_class','count(bigscape_class)', 'product', 'Organism']\n",
    ").properties(\n",
    "    width=W,\n",
    "    height=H,\n",
    "    title = \"BGCs count overview\",\n",
    ").interactive()\n",
    "# chart_class = chart.configure_title(fontSize=20, offset=10, orient='top', anchor='middle')\n",
    "\n",
    "source['fam_type'] = source['fam_type_0.30']\n",
    "\n",
    "chart_known = alt.Chart(source).mark_bar().encode(\n",
    "    y= alt.Y('genome_id', axis=alt.Axis(title='', labels=False),\n",
    "             sort=alt.EncodingSortField(field=\"Genus\", op=\"count\", order='descending')),\n",
    "    x= alt.X('count(product)', axis=alt.Axis(title='Number of BGCs')),\n",
    "    color='fam_type',\n",
    "    tooltip=['genome_id', 'fam_type', 'count(fam_type)', 'product', 'Organism']\n",
    ").properties(\n",
    "    width=W,\n",
    "    height=H,\n",
    "    title = \"Known BGCs count\",\n",
    ").interactive()\n",
    "\n",
    "chart = alt.hconcat(chart_class, chart_known)\n",
    "chart = chart.configure_title(fontSize=10, offset=10, orient='top', anchor='middle')\n",
    "chart = chart.configure_axisY(labelFontSize=8)\n",
    "chart"
   ]
  },
  {
   "cell_type": "markdown",
   "id": "27fe87a5-a05f-4dd2-a6ba-7c9c8c33c20d",
   "metadata": {},
   "source": [
    "## Summary Tables"
   ]
  },
  {
   "cell_type": "markdown",
   "id": "4828f230-191c-447e-a636-f01067a40c08",
   "metadata": {},
   "source": [
    "### Genome overview\n",
    "Number of BGCs of various types (known, unknown, unique) present in each genome. Additionally, number of BGCs of each of the BiG-SCAPE defined biosynthetic classes are also listed."
   ]
  },
  {
   "cell_type": "code",
   "execution_count": null,
   "id": "d10f3391-951d-4f6e-a752-78baa3b95fad",
   "metadata": {},
   "outputs": [],
   "source": [
    "df_genomes = pd.DataFrame()\n",
    "df_genomes[\"Genome ID\"] = df_antismash['genome_id']\n",
    "df_genomes = df_genomes.set_index(\"Genome ID\", drop=False)"
   ]
  },
  {
   "cell_type": "code",
   "execution_count": null,
   "id": "4590ac7c-ec43-4008-805c-cf14905b90ad",
   "metadata": {},
   "outputs": [],
   "source": [
    "df_genomes['GTDB species'] = [df_gtdb.loc[idx, 'Organism'].split('__')[1] for idx in df_genomes.index]\n",
    "df_genomes['BGCs'] = df_antismash.loc[df_genomes.index, 'bgcs_count']\n",
    "\n",
    "bigscape_class_list = df_bgcs.bigscape_class.unique()\n",
    "\n",
    "for i in df_genomes.index:\n",
    "    gid = df_genomes.loc[i, 'Genome ID']\n",
    "    if \"known_family\" in df_bgcs['fam_type_0.30']:\n",
    "        df_genomes.loc[gid, 'Known BGCs'] = df_bgcs[df_bgcs.genome_id == gid].value_counts('fam_type_0.30')['known_family']\n",
    "    if \"unknown_family\" in df_bgcs['fam_type_0.30']:\n",
    "        df_genomes.loc[gid, 'Unknown BGCs'] = df_bgcs[df_bgcs.genome_id == gid].value_counts('fam_type_0.30')['unknown_family']\n",
    "    df_genomes.loc[gid, 'Unique BGCs'] = df_gcf_presence.loc[:, [str(idx) for idx in df_gcfs[df_gcfs.clusters_in_fam==1].index]].sum(1)[gid]\n",
    "    \n",
    "    df_bigscape_class_counts = df_bgcs[df_bgcs.genome_id == gid].value_counts('bigscape_class')\n",
    "    for bigscape_class in bigscape_class_list:\n",
    "        if bigscape_class in df_bigscape_class_counts.index:\n",
    "            df_genomes.loc[gid, bigscape_class] = df_bigscape_class_counts[bigscape_class]\n",
    "\n",
    "    server_path = \"<a href='{{ project().file_server() }}/antismash/{{project().dependency_version()}}/\"\n",
    "    df_genomes.loc[i, \"Genome ID\"] = server_path + f\"{gid}/index.html' target='_blank''>{gid}</a>\"\n",
    "df_genomes = df_genomes.reset_index(drop=True)"
   ]
  },
  {
   "cell_type": "code",
   "execution_count": null,
   "id": "a34b6fee-a02b-419d-8d7c-35ebc9f6b2fb",
   "metadata": {},
   "outputs": [],
   "source": [
    "# Fill NaN with 0\n",
    "df_genomes = df_genomes.fillna(0)\n",
    "\n",
    "# Convert numeric columns to integer\n",
    "numeric_cols = [c for c in df_genomes.columns if c not in ['Genome ID', 'GTDB species']]\n",
    "for col in numeric_cols:\n",
    "    df_genomes[col] = df_genomes[col].astype(int)"
   ]
  },
  {
   "cell_type": "code",
   "execution_count": null,
   "id": "f2218d92-69e5-4950-91d0-a94bb4d37ce7",
   "metadata": {},
   "outputs": [],
   "source": [
    "cm = sns.light_palette(\"green\", as_cmap=True)\n",
    "# Apply heatmap styling\n",
    "df_genomes_styled = df_genomes.style.background_gradient(cmap=cm, axis=None)"
   ]
  },
  {
   "cell_type": "code",
   "execution_count": null,
   "id": "5ee20b48-513f-438c-914d-4dbe2b367159",
   "metadata": {
    "tags": []
   },
   "outputs": [],
   "source": [
    "display(HTML(DT(df_genomes_styled, columnDefs=[{\"className\": \"dt-center\", \"targets\": \"_all\"}], scrollX=True)))"
   ]
  },
  {
   "cell_type": "code",
   "execution_count": null,
   "id": "df9e839f-d4c7-4009-aafa-ac43cf382294",
   "metadata": {},
   "outputs": [],
   "source": [
    "regions_table = report_dir / f\"tables/df_regions_antismash_{antismash_version}.csv\"\n",
    "df_regions = pd.read_csv(regions_table).set_index(\"bgc_id\")"
   ]
  },
  {
   "cell_type": "code",
   "execution_count": null,
   "id": "a1048ff8-c6f6-46e8-b681-0c04b2e23312",
   "metadata": {},
   "outputs": [],
   "source": [
    "for i in df_bgcs.index:\n",
    "    gid = df_bgcs.loc[i, 'genome_id']\n",
    "    r, c = str(df_regions.loc[i, \"region\"]).split(\".\")\n",
    "    as_tag = f\"#r{r}c{c}\"\n",
    "    server_path = \"<a href='{{ project().file_server() }}/antismash/{{project().dependency_version()}}/\"\n",
    "    df_bgcs.loc[i, \"BGC ID\"] = server_path + f\"{gid}/index.html{as_tag}' target='_blank''>{i}</a>\"\n",
    "    df_bgcs.loc[i, \"Genome ID\"] = server_path + f\"{gid}/index.html' target='_blank''>{gid}</a>\""
   ]
  },
  {
   "cell_type": "markdown",
   "id": "9908e350-3d09-4958-a57c-724028a6b217",
   "metadata": {},
   "source": [
    "### BGC overview\n",
    "BGCs table with assignment of the GCFs based on the BiG-SCAPE."
   ]
  },
  {
   "cell_type": "code",
   "execution_count": null,
   "id": "3d5c4544-a861-40ec-86c7-c831cbafdf58",
   "metadata": {},
   "outputs": [],
   "source": [
    "rename_columns = {\"product\" : \"antiSMASH Product\",\n",
    "                  \"bigscape_class\" : \"BiG-SCAPE Class\"}\n",
    "\n",
    "df_bgcs = df_bgcs.rename(columns=rename_columns)\n",
    "columns_to_display = [\"antiSMASH Product\", \"BiG-SCAPE Class\", \"Genome ID\", \"gcf_0.30\", \"fam_id_0.30\", \"fam_type_0.30\", \"fam_known_compounds_0.30\"]\n",
    "display(HTML(DT(df_bgcs.set_index(\"BGC ID\").loc[:, columns_to_display], columnDefs=[{\"className\": \"dt-center\", \"targets\": \"_all\", \"searchable\": True}], maxColumns=df_bgcs.shape[1], maxBytes=0, scrollX=True)))"
   ]
  },
  {
   "cell_type": "markdown",
   "id": "d6cf3b61-e402-4a28-a919-a2bf2f1dcecd",
   "metadata": {},
   "source": [
    "### GCF overview\n",
    "GCFs table with metadata and statistics."
   ]
  },
  {
   "cell_type": "code",
   "execution_count": null,
   "id": "63a4b085-8563-49f2-8458-566951568518",
   "metadata": {},
   "outputs": [],
   "source": [
    "df_gcfs_styled = df_gcfs.style.background_gradient(cmap=cm, axis=None)\n",
    "\n",
    "display(HTML(DT(df_gcfs_styled, columnDefs=[{\"className\": \"dt-center\", \"targets\": \"_all\", \"searchable\": True}], scrollX=True)))"
   ]
  },
  {
   "cell_type": "markdown",
   "id": "b896fce9-7b8a-4b61-917a-2fa1c54e20e6",
   "metadata": {},
   "source": [
    "### GCF-presence matrix\n",
    "GCF presence absence matrix across all the genomes. Note that the columns are represented by the GCF IDs that can be found in GCF overview table above.\n"
   ]
  },
  {
   "cell_type": "code",
   "execution_count": null,
   "id": "a4cf12c3-aea8-4660-b4ce-182bb72a949e",
   "metadata": {},
   "outputs": [],
   "source": [
    "df_gcf_presence_raw = pd.DataFrame(index=df_antismash.index, columns=[\"Genome ID\"])\n",
    "\n",
    "non_unique_families = [str(idx) for idx in df_gcfs[df_gcfs.clusters_in_fam>1].index]\n",
    "df_gcf_presence_raw[non_unique_families] = df_gcf_presence[non_unique_families]\n",
    "\n",
    "df_gcf_presence_final = df_gcf_presence_raw.copy()\n",
    "df_gcf_presence_raw = df_gcf_presence_raw.drop(columns=[\"Genome ID\"])\n",
    "\n",
    "for gid in df_gcf_presence_final.index:\n",
    "    server_path = \"<a href='{{ project().file_server() }}/antismash/{{project().dependency_version()}}/\"\n",
    "    df_gcf_presence_final.loc[gid, \"Genome ID\"] = server_path + f\"{gid}/index.html' target='_blank''>{gid}</a>\"\n",
    "    \n",
    "df_gcf_presence_final = df_gcf_presence_final.reset_index(drop=True)"
   ]
  },
  {
   "cell_type": "code",
   "execution_count": null,
   "id": "1f909057-a454-451a-933f-19a7c3bb21ff",
   "metadata": {},
   "outputs": [],
   "source": [
    "# Perform hierarchical clustering and get an ordered list of index and column names\n",
    "linkage_matrix = linkage(pdist(df_gcf_presence_raw.values))\n",
    "df_gcf_presence_ordered = df_gcf_presence_raw.copy()\n",
    "df_gcf_presence_ordered = df_gcf_presence_raw.iloc[leaves_list(linkage_matrix)]\n",
    "\n",
    "# sort the x axis based on sum\n",
    "df_gcf_presence_ordered['sum'] = df_gcf_presence_ordered.sum(axis=1)\n",
    "\n",
    "# Sort the DataFrame based on the sum\n",
    "df_gcf_presence_sorted = df_gcf_presence_ordered.sort_values('sum', ascending=False)\n",
    "\n",
    "# Drop the sum column\n",
    "df_gcf_presence_sorted = df_gcf_presence_sorted.drop(columns='sum')\n",
    "\n",
    "# Melt the DataFrame to long format for Altair\n",
    "source = df_gcf_presence_ordered.drop(columns='sum').reset_index().melt(id_vars='genome_id', var_name='gcf_id', value_name='count')\n",
    "\n",
    "# Calculate the percentage distribution of each gcf_id\n",
    "source_bar = df_gcf_presence_ordered.drop(columns='sum').sum(axis=0) / len(df_gcf_presence_ordered.index)\n",
    "\n",
    "# Create a DataFrame from source_bar\n",
    "df_bar = source_bar.reset_index()\n",
    "\n",
    "# Rename the columns\n",
    "df_bar.columns = ['gcf_id', 'percentage_distribution']"
   ]
  },
  {
   "cell_type": "code",
   "execution_count": null,
   "id": "8a349a03-7d33-4008-b42c-cc03527980c2",
   "metadata": {},
   "outputs": [],
   "source": [
    "# Create an ordered list of gcf_id values based on the percentage distribution\n",
    "ordered_gcf_ids = df_gcf_presence_raw.iloc[leaves_list(linkage_matrix)].columns.to_list()\n",
    "ordered_genome_ids = df_gcf_presence_raw.iloc[leaves_list(linkage_matrix)].index.to_list()\n",
    "\n",
    "# Create a selection slider\n",
    "slider = alt.binding_range(min=0, max=1, step=0.05, name='Minimum GCF Distributon Across Genome: ')\n",
    "slider_selection = alt.selection_single(name=\"Percentage\", fields=['percentage_distribution'], bind=slider, value=[{'percentage_distribution': 0}])\n",
    "\n",
    "# Create the heatmap\n",
    "base = alt.Chart(source).properties(height=600)  # Set the height and width of the heatmap\n",
    "heatmap = base.mark_rect().encode(\n",
    "    alt.Y('genome_id:O', title=\"Genome IDs\", sort=ordered_genome_ids),\n",
    "    alt.X('gcf_id:O', title=\"GCF IDs\", sort=ordered_gcf_ids),\n",
    "    color='count:Q'\n",
    ").transform_lookup(\n",
    "    lookup='gcf_id',\n",
    "    from_=alt.LookupData(df_bar, 'gcf_id', ['percentage_distribution'])\n",
    ").add_selection(\n",
    "    slider_selection\n",
    ").transform_filter(\n",
    "    'datum.percentage_distribution >= Percentage.percentage_distribution'\n",
    ")\n",
    "\n",
    "bar_base = alt.Chart(df_bar).properties(height=100)  # Set the height and width of the bar chart\n",
    "# Create the bar chart\n",
    "bar_chart = bar_base.mark_bar().encode(\n",
    "    alt.X('gcf_id:O', title=\"\", sort=ordered_gcf_ids),\n",
    "    alt.Y('percentage_distribution:Q', title=\"GCF Distribution\").axis(format='%'),\n",
    ").add_selection(\n",
    "    slider_selection\n",
    ").transform_filter(\n",
    "    'datum.percentage_distribution >= Percentage.percentage_distribution'\n",
    ")\n",
    "\n",
    "# Bind the x-axis of the heatmap and the bar chart\n",
    "chart = alt.vconcat(bar_chart, heatmap).resolve_scale(x='shared')\n",
    "\n",
    "outfile = Path(\"assets/figures/bigscape_gcf_presence.html\")\n",
    "outfile.parent.mkdir(exist_ok=True, parents=True)\n",
    "chart.save(outfile)\n",
    "\n",
    "with open(str(outfile), 'r') as f:\n",
    "    html_string = f.read()\n",
    "\n",
    "html_string = '<div style=\"width:100%; overflow:auto\">' + html_string + '</div>'\n",
    "\n",
    "display(HTML(html_string))"
   ]
  },
  {
   "cell_type": "markdown",
   "id": "c8900b28-71bc-4ba8-a0d2-baa2b33860b7",
   "metadata": {},
   "source": [
    "### MIBIG overview\n",
    "Information on the known clusters from MIBIG database detected in the genomes using BiG-SCAPE."
   ]
  },
  {
   "cell_type": "code",
   "execution_count": null,
   "id": "3e173c07-634f-4596-936f-753283e03933",
   "metadata": {},
   "outputs": [],
   "source": [
    "mibig_columns = {'product' : 'BGC type',\n",
    "                 'compounds' : 'Compounds',\n",
    "                 'chem_acts' : 'Activity',\n",
    "                 'bgc_id' : 'MIBIG ID',\n",
    "                 'Genomes' : 'Genomes'\n",
    "                }\n",
    "\n",
    "df_mibig_final = df_mibig[df_mibig.index.isin(df_gcfs.mibig_ids.unique())].reset_index()\n",
    "df_mibig_final[\"Genomes\"] = pd.Series()\n",
    "df_mibig_final = df_mibig_final.rename(columns=mibig_columns)"
   ]
  },
  {
   "cell_type": "code",
   "execution_count": null,
   "id": "384dbffd-a94c-4d3f-b2ba-91ce3aa638ad",
   "metadata": {},
   "outputs": [],
   "source": [
    "for mibig_id in df_mibig_final.index:\n",
    "    try:\n",
    "        fam_id = str(int((df_mibig.loc[mibig_id, 'fam_id_0.30'])))\n",
    "        df_mibig_final.loc[mibig_id, 'Genomes'] = df_gcf_presence[fam_id].sum()\n",
    "        df_mibig_final.loc[mibig_id, 'GCF ID'] = fam_id\n",
    "    except KeyError:\n",
    "        fam_id = None\n",
    "\n",
    "    server_path = \"<a href='https://mibig.secondarymetabolites.org/repository/\" \n",
    "    df_mibig_final.loc[mibig_id, \"MIBIG ID\"] = server_path + f\"{mibig_id}/' target='_blank''>{mibig_id}</a>\"\n",
    "\n",
    "df_mibig_final['Genomes'] = df_mibig_final['Genomes'].fillna(0).astype(int)\n",
    "df_mibig_final = df_mibig_final.reset_index(drop=True)"
   ]
  },
  {
   "cell_type": "code",
   "execution_count": null,
   "id": "6aebab3d-7288-4b27-85c7-581b90afd32c",
   "metadata": {
    "tags": []
   },
   "outputs": [],
   "source": [
    "df_mibig_final_styled = df_mibig_final.style.background_gradient(cmap=cm, axis=None)\n",
    "\n",
    "\n",
    "display(HTML(DT(df_mibig_final_styled, columnDefs=[{\"className\": \"dt-center\", \"targets\": \"_all\", \"searchable\": True}], scrollX=True)))"
   ]
  },
  {
   "cell_type": "markdown",
   "id": "a9111659-b673-4842-8ef3-d0fa9b52aa8c",
   "metadata": {},
   "source": [
    "## References\n",
    "<font size=\"2\">\n",
    "{% for i in project().rule_used['bigscape']['references'] %}\n",
    "- {{ i }} \n",
    "{% endfor %}\n",
    "</font>"
   ]
  }
 ],
 "metadata": {
  "kernelspec": {
   "display_name": "Python 3 (ipykernel)",
   "language": "python",
   "name": "python3"
  },
  "language_info": {
   "codemirror_mode": {
    "name": "ipython",
    "version": 3
   },
   "file_extension": ".py",
   "mimetype": "text/x-python",
   "name": "python",
   "nbconvert_exporter": "python",
   "pygments_lexer": "ipython3",
   "version": "3.9.18"
  }
 },
 "nbformat": 4,
 "nbformat_minor": 5
}
