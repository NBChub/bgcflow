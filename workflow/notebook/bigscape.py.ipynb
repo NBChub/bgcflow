{
 "cells": [
  {
   "cell_type": "markdown",
   "id": "aa0f0d95-5e6b-436f-a971-9486d0841329",
   "metadata": {},
   "source": [
    "# BiG-SCAPE\n",
    "Summary of [BiG-SCAPE](https://github.com/medema-group/BiG-SCAPE) results from project: `[{{ project().name }}]`\n",
    "\n",
    "[BiG-SCAPE result]({{ project().file_server() }}/bigscape/result_as6.1.1){:target=\"_blank\" .md-button}\n",
    "\n",
    "## BGC Distribution\n",
    "[BiG-SCAPE](https://github.com/medema-group/BiG-SCAPE) constructs sequence similarity networks of Biosynthetic Gene Clusters (BGCs) and groups them into Gene Cluster Families (GCFs). BiG-SCAPE does this by rapidly calculating a distance matrix between gene clusters based on a comparison of their protein domain content, order, copy number and sequence identity."
   ]
  },
  {
   "cell_type": "code",
   "execution_count": null,
   "id": "d21448bb-afe9-4fdb-b964-2143a0ccd1e4",
   "metadata": {},
   "outputs": [],
   "source": [
    "import pandas as pd\n",
    "from pathlib import Path\n",
    "\n",
    "from IPython.display import display, Markdown, HTML\n",
    "from jinja2 import Template\n",
    "from itables import to_html_datatable as DT\n",
    "import itables.options as opt\n",
    "opt.classes = [\"display\", \"compact\"]\n",
    "opt.lengthMenu = [5, 10, 20, 50, 100, 200, 500]\n",
    "\n",
    "import warnings\n",
    "warnings.filterwarnings('ignore')"
   ]
  },
  {
   "cell_type": "code",
   "execution_count": null,
   "id": "4a427a78-f4f5-43cb-915d-e0531bdd5ae3",
   "metadata": {},
   "outputs": [],
   "source": [
    "# Report dir: Processed folder of each BGCFlow project\n",
    "# Change this variable according to your needs\n",
    "report_dir = Path(\"../\")"
   ]
  },
  {
   "cell_type": "code",
   "execution_count": null,
   "id": "53fb8b15-379c-4be1-827e-243602f89d95",
   "metadata": {
    "tags": []
   },
   "outputs": [],
   "source": [
    "bigscape_dir = report_dir / \"bigscape/for_cytoscape_antismash_6.1.1/\"\n",
    "gtdb_table = report_dir / \"tables/df_gtdb_meta.csv\""
   ]
  },
  {
   "cell_type": "code",
   "execution_count": null,
   "id": "a53dfd95-d58c-41a1-9951-d69c5f5b5fbf",
   "metadata": {},
   "outputs": [],
   "source": [
    "df_cluster = [i for i in bigscape_dir.glob(\"*_df_clusters_0.30.csv\")][0]\n",
    "df_cluster = pd.read_csv(df_cluster, index_col=0)"
   ]
  },
  {
   "cell_type": "code",
   "execution_count": null,
   "id": "ed2ab93e-f80d-4207-9a2e-cb34a1917607",
   "metadata": {},
   "outputs": [],
   "source": [
    "for bgc_id in df_cluster.index:\n",
    "    gid = df_cluster.loc[bgc_id, 'genome_id']\n",
    "    server_path = \"<a href='{{ project().file_server() }}/antismash/6.1.1/\"\n",
    "    df_cluster.loc[bgc_id, \"genome_id\"] = server_path + f\"{gid}/' target='_blank'>{gid}</a>\"\n",
    "\n",
    "display(HTML(DT(df_cluster.loc[:, ['product', 'bigscape_class', 'genome_id', 'gcf_0.30',\n",
    "                                   'Clan Number', 'fam_id_0.30', 'fam_type_0.30',\n",
    "                                   'fam_known_compounds_0.30']], \n",
    "                scrollX=\"200px\",\n",
    "                columnDefs=[{\"width\": \"80%\", \"targets\": \"_all\"}, \n",
    "                            {\"className\": \"dt-center\", \"targets\": \"_all\"}],)))"
   ]
  },
  {
   "cell_type": "markdown",
   "id": "4d8fe1ca-30f9-472a-9e01-4e9db61825b8",
   "metadata": {},
   "source": [
    "## References\n",
    "<font size=\"2\">\n",
    "{% for i in project().rule_used['bigscape']['references'] %}\n",
    "  - *{{ i }}*\n",
    "{% endfor %}\n",
    "</font>"
   ]
  }
 ],
 "metadata": {
  "kernelspec": {
   "display_name": "Python 3 (ipykernel)",
   "language": "python",
   "name": "python3"
  },
  "language_info": {
   "codemirror_mode": {
    "name": "ipython",
    "version": 3
   },
   "file_extension": ".py",
   "mimetype": "text/x-python",
   "name": "python",
   "nbconvert_exporter": "python",
   "pygments_lexer": "ipython3",
   "version": "3.10.6"
  }
 },
 "nbformat": 4,
 "nbformat_minor": 5
}
