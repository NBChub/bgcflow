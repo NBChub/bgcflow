{
 "cells": [
  {
   "cell_type": "markdown",
   "id": "ce8cfe38-9a71-4ee7-93fd-3a1f3b4b84bf",
   "metadata": {},
   "source": [
    "# BiG-SCAPE\n",
    "Summary of GCFs found in each genome from project: `[{{ project().name }}]` using [BiG-SCAPE](https://github.com/medema-group/BiG-SCAPE)\n",
    "\n",
    "Download all [BiG-SCAPE result]({{ project().file_server() }}/bigscape/result_as6.1.1){:target=\"_blank\" .md-button}\n",
    "\n",
    "## BGC Distribution\n",
    "[BiG-SCAPE](https://github.com/medema-group/BiG-SCAPE) constructs sequence similarity networks of Biosynthetic Gene Clusters (BGCs) and groups them into Gene Cluster Families (GCFs). BiG-SCAPE does this by rapidly calculating a distance matrix between gene clusters based on a comparison of their protein domain content, order, copy number and sequence identity."
   ]
  },
  {
   "cell_type": "code",
   "execution_count": null,
   "id": "0a9ebdaf-3412-41d7-8c51-1d9b14cad4d1",
   "metadata": {
    "tags": []
   },
   "outputs": [],
   "source": [
    "import pandas as pd\n",
    "from pathlib import Path\n",
    "\n",
    "from IPython.display import display, Markdown, HTML\n",
    "from jinja2 import Template\n",
    "from itables import to_html_datatable as DT\n",
    "import itables.options as opt\n",
    "import altair as alt\n",
    "opt.classes = [\"display\", \"compact\"]\n",
    "opt.lengthMenu = [5, 10, 20, 50, 100, 200, 500]\n",
    "\n",
    "import warnings\n",
    "warnings.filterwarnings('ignore')\n",
    "\n",
    "report_dir = Path(\"../\")"
   ]
  },
  {
   "cell_type": "code",
   "execution_count": null,
   "id": "0d8270fd-78f6-40db-b993-c7948111137c",
   "metadata": {
    "tags": []
   },
   "outputs": [],
   "source": [
    "# Read tables that are generated when BiGSCAPE rule is TRUE\n",
    "antismash_table = report_dir / \"tables/df_antismash_6.1.1_summary.csv\"\n",
    "gtdb_table = report_dir / \"tables/df_gtdb_meta.csv\"\n",
    "ncbi_table = report_dir / \"tables/df_ncbi_meta.csv\"\n",
    "bigscape_dir = report_dir / \"bigscape/for_cytoscape_antismash_6.1.1/\"\n",
    "bgc_table = [i for i in bigscape_dir.glob(\"*_df_clusters_0.30.csv\")][0]\n",
    "gcf_table = [i for i in bigscape_dir.glob(\"*_df_families_0.30.csv\")][0]\n",
    "mibig_table = [i for i in bigscape_dir.glob(\"*_df_known_0.30.csv\")][0]\n",
    "gcf_presence_table = [i for i in bigscape_dir.glob(\"*_df_family_presence_0.30.csv\")][0]\n",
    "\n",
    "df_antismash = pd.read_csv(antismash_table, index_col=0)\n",
    "df_gtdb = pd.read_csv(gtdb_table, index_col=0)\n",
    "df_ncbi = pd.read_csv(ncbi_table, index_col=0)\n",
    "\n",
    "df_bgcs = pd.read_csv(bgc_table, index_col=0)\n",
    "df_gcf_presence = pd.read_csv(gcf_presence_table, index_col=0)\n",
    "df_gcfs = pd.read_csv(gcf_table, index_col=0)\n",
    "df_mibig = pd.read_csv(mibig_table, index_col=0)"
   ]
  },
  {
   "cell_type": "markdown",
   "id": "f3e6df96-8363-46e2-9536-1fe6f24f1169",
   "metadata": {},
   "source": [
    "## Result Summary"
   ]
  },
  {
   "cell_type": "code",
   "execution_count": null,
   "id": "80b8af45-7c98-4de5-a002-0f343f3b36b1",
   "metadata": {
    "tags": []
   },
   "outputs": [],
   "source": [
    "text_line1 = f\"\"\"BiG-SCAPE detected {int(df_gcfs.shape[0])} GCFs of the {int(df_bgcs.shape[0])} BGCs\"\"\"\n",
    "text_line2 = f\"\"\"Number of known GCFs: {int(df_gcfs.value_counts('fam_type')[\"known_family\"])}\"\"\"\n",
    "text_line3 = f\"\"\"Number of unknown GCFs: {int(df_gcfs.value_counts('fam_type')[\"unknown_family\"])}\"\"\"\n",
    "text_line4 = f\"\"\"Number of unique GCFs: {int(df_gcfs[df_gcfs.clusters_in_fam==1].shape[0])}\"\"\"\n",
    "\n",
    "display(Markdown(text_line1))\n",
    "display(Markdown(text_line2))\n",
    "display(Markdown(text_line3))\n",
    "display(Markdown(text_line4))"
   ]
  },
  {
   "cell_type": "code",
   "execution_count": null,
   "id": "10c665db-7457-4964-8154-e463aa4491cf",
   "metadata": {
    "tags": []
   },
   "outputs": [],
   "source": [
    "source = df_bgcs.copy()\n",
    "alt.data_transformers.disable_max_rows()\n",
    "chart_class = alt.Chart(source).mark_bar().encode(\n",
    "    x= alt.X('genome_id', axis=alt.Axis(title='Genome ID')),\n",
    "    y= alt.Y('count(product)', axis=alt.Axis(title='Number of BGCs')),\n",
    "    color='bigscape_class',\n",
    "    tooltip=['genome_id', 'bigscape_class','count(bigscape_class)']\n",
    ").properties(\n",
    "    width=300,\n",
    "    height=300,\n",
    "    title = \"BGCs count overview\",\n",
    ").interactive()\n",
    "# chart_class = chart.configure_title(fontSize=20, offset=10, orient='top', anchor='middle')\n",
    "\n",
    "source['fam_type'] = source['fam_type_0.30']\n",
    "\n",
    "chart_known = alt.Chart(source).mark_bar().encode(\n",
    "    x= alt.X('genome_id', axis=alt.Axis(title='')),\n",
    "    y= alt.Y('count(product)', axis=alt.Axis(title='Number of BGCs')),\n",
    "    color='fam_type',\n",
    "    tooltip=['genome_id', 'fam_type', 'count(fam_type)']\n",
    ").properties(\n",
    "    width=300,\n",
    "    height=300,\n",
    "    title = \"BGCs count overview\",\n",
    ").interactive()\n",
    "\n",
    "chart = alt.hconcat(chart_class, chart_known)\n",
    "chart = chart.configure_title(fontSize=20, offset=10, orient='top', anchor='middle')\n",
    "chart"
   ]
  },
  {
   "cell_type": "markdown",
   "id": "27fe87a5-a05f-4dd2-a6ba-7c9c8c33c20d",
   "metadata": {},
   "source": [
    "## Summary Tables"
   ]
  },
  {
   "cell_type": "markdown",
   "id": "4828f230-191c-447e-a636-f01067a40c08",
   "metadata": {},
   "source": [
    "### Genome overview\n",
    "Number of BGCs of various types (known, unknown, unique) present in each genome. Additionally, number of BGCs of each of the BiG-SCAPE defined biosynthetic classes are also listed."
   ]
  },
  {
   "cell_type": "code",
   "execution_count": null,
   "id": "4590ac7c-ec43-4008-805c-cf14905b90ad",
   "metadata": {},
   "outputs": [],
   "source": [
    "df_genomes = pd.DataFrame(index=df_antismash.index)\n",
    "df_genomes[\"Genome ID\"] = df_antismash['genome_id']\n",
    "df_genomes['Organism name'] = df_ncbi.loc[df_genomes.index, 'organism']\n",
    "df_genomes['GTDB species'] = [df_gtdb.loc[idx, 'Organism'].split('__')[1] for idx in df_genomes.index]\n",
    "df_genomes['BGCs'] = df_antismash.loc[df_genomes.index, 'bgcs_count']\n",
    "\n",
    "bigscape_class_list = df_bgcs.bigscape_class.unique()\n",
    "\n",
    "for i in df_genomes.index:\n",
    "    gid = df_genomes.loc[i, 'Genome ID']\n",
    "    if \"known_family\" in df_bgcs['fam_type_0.30']:\n",
    "        df_genomes.loc[gid, 'Known BGCs'] = df_bgcs[df_bgcs.genome_id == gid].value_counts('fam_type_0.30')['known_family']\n",
    "    if \"unknown_family\" in df_bgcs['fam_type_0.30']:\n",
    "        df_genomes.loc[gid, 'Unknown BGCs'] = df_bgcs[df_bgcs.genome_id == gid].value_counts('fam_type_0.30')['unknown_family']\n",
    "    df_genomes.loc[gid, 'Unique BGCs'] = df_gcf_presence.loc[:, [str(idx) for idx in df_gcfs[df_gcfs.clusters_in_fam==1].index]].sum(1)[gid]\n",
    "    \n",
    "    df_bigscape_class_counts = df_bgcs[df_bgcs.genome_id == gid].value_counts('bigscape_class')\n",
    "    for bigscape_class in bigscape_class_list:\n",
    "        if bigscape_class in df_bigscape_class_counts.index:\n",
    "            df_genomes.loc[gid, bigscape_class] = df_bigscape_class_counts[bigscape_class]\n",
    "\n",
    "    server_path = \"<a href='{{ project().file_server() }}/antismash/6.1.1/\"\n",
    "    df_genomes.loc[i, \"Genome ID\"] = server_path + f\"{gid}/index.html' target='_blank''>{gid}</a>\"\n",
    "df_genomes = df_genomes.reset_index(drop=True)"
   ]
  },
  {
   "cell_type": "code",
   "execution_count": null,
   "id": "5ee20b48-513f-438c-914d-4dbe2b367159",
   "metadata": {
    "tags": []
   },
   "outputs": [],
   "source": [
    "display(HTML(DT(df_genomes, columnDefs=[{\"className\": \"dt-center\", \"targets\": \"_all\", \"searchable\": True}], maxColumns=df_genomes.shape[1], maxBytes=0, scrollX=True)))"
   ]
  },
  {
   "cell_type": "markdown",
   "id": "9908e350-3d09-4958-a57c-724028a6b217",
   "metadata": {},
   "source": [
    "### BGC overview\n",
    "BGCs table with assignment of the GCFs based on the BiG-SCAPE."
   ]
  },
  {
   "cell_type": "code",
   "execution_count": null,
   "id": "3d5c4544-a861-40ec-86c7-c831cbafdf58",
   "metadata": {},
   "outputs": [],
   "source": [
    "display(HTML(DT(df_bgcs, columnDefs=[{\"className\": \"dt-center\", \"targets\": \"_all\", \"searchable\": True}], maxColumns=df_bgcs.shape[1], maxBytes=0, scrollX=True)))"
   ]
  },
  {
   "cell_type": "markdown",
   "id": "d6cf3b61-e402-4a28-a919-a2bf2f1dcecd",
   "metadata": {},
   "source": [
    "### GCF overview\n",
    "GCFs table with metadata and statistics."
   ]
  },
  {
   "cell_type": "code",
   "execution_count": null,
   "id": "63a4b085-8563-49f2-8458-566951568518",
   "metadata": {},
   "outputs": [],
   "source": [
    "display(HTML(DT(df_gcfs, columnDefs=[{\"className\": \"dt-center\", \"targets\": \"_all\", \"searchable\": True}], maxColumns=df_gcfs.shape[1], maxBytes=0, scrollX=True)))"
   ]
  },
  {
   "cell_type": "markdown",
   "id": "b896fce9-7b8a-4b61-917a-2fa1c54e20e6",
   "metadata": {},
   "source": [
    "### GCF-presence matrix\n",
    "GCF presence absence matrix across all the genomes. Note that the columns are represented by the GCF IDs that can be found in GCF overview table above.\n"
   ]
  },
  {
   "cell_type": "code",
   "execution_count": null,
   "id": "a4cf12c3-aea8-4660-b4ce-182bb72a949e",
   "metadata": {},
   "outputs": [],
   "source": [
    "df_gcf_presence_final = pd.DataFrame(index=df_antismash.index, columns=[\"Genome ID\"])\n",
    "\n",
    "non_unique_families = [str(idx) for idx in df_gcfs[df_gcfs.clusters_in_fam>1].index]\n",
    "df_gcf_presence_final[non_unique_families] = df_gcf_presence[non_unique_families]\n",
    "\n",
    "for gid in df_gcf_presence_final.index:\n",
    "    server_path = \"<a href='{{ project().file_server() }}/antismash/6.1.1/\"\n",
    "    df_gcf_presence_final.loc[gid, \"Genome ID\"] = server_path + f\"{gid}/index.html' target='_blank''>{gid}</a>\"\n",
    "    \n",
    "df_gcf_presence_final = df_gcf_presence_final.reset_index(drop=True)"
   ]
  },
  {
   "cell_type": "code",
   "execution_count": null,
   "id": "65acb557-bc21-4db9-8130-3100134e0620",
   "metadata": {
    "tags": []
   },
   "outputs": [],
   "source": [
    "display(HTML(DT(df_gcf_presence_final, columnDefs=[{\"className\": \"dt-center\", \"targets\": \"_all\", \"searchable\": True}], maxColumns=df_gcf_presence_final.shape[1], maxBytes=0, scrollX=True)))"
   ]
  },
  {
   "cell_type": "markdown",
   "id": "c8900b28-71bc-4ba8-a0d2-baa2b33860b7",
   "metadata": {},
   "source": [
    "### MIBIG overview\n",
    "Information on the known clusters from MIBIG database detected in the genomes using BiG-SCAPE."
   ]
  },
  {
   "cell_type": "code",
   "execution_count": null,
   "id": "384dbffd-a94c-4d3f-b2ba-91ce3aa638ad",
   "metadata": {},
   "outputs": [],
   "source": [
    "df_mibig = df_mibig[~df_mibig['fam_id_0.30'].isna()]\n",
    "\n",
    "df_mibig_final = pd.DataFrame(index=df_mibig.index)\n",
    "df_mibig_final['MIBIG ID'] = df_mibig.index\n",
    "df_mibig_final['BGC type'] = df_mibig['product'] \n",
    "df_mibig_final['Compounds'] = df_mibig['compounds'] \n",
    "df_mibig_final['Activity'] = df_mibig['chem_acts']\n",
    "\n",
    "for mibig_id in df_mibig_final.index:\n",
    "    fam_id = str(int((df_mibig.loc[mibig_id, 'fam_id_0.30'])))\n",
    "    df_mibig_final.loc[mibig_id, 'Genomes'] = df_gcf_presence[fam_id].sum()\n",
    "    df_mibig_final.loc[mibig_id, 'GCF ID'] = fam_id\n",
    "    server_path = \"<a href='https://mibig.secondarymetabolites.org/repository/\" \n",
    "    df_mibig_final.loc[mibig_id, \"MIBIG ID\"] = server_path + f\"{mibig_id[:-2]}/' target='_blank''>{mibig_id}</a>\"\n",
    "\n",
    "df_mibig_final = df_mibig_final.reset_index(drop=True)"
   ]
  },
  {
   "cell_type": "code",
   "execution_count": null,
   "id": "6aebab3d-7288-4b27-85c7-581b90afd32c",
   "metadata": {
    "tags": []
   },
   "outputs": [],
   "source": [
    "display(HTML(DT(df_mibig_final, columnDefs=[{\"className\": \"dt-center\", \"targets\": \"_all\", \"searchable\": True}], maxColumns=df_mibig_final.shape[1], maxBytes=0, scrollX=True)))"
   ]
  },
  {
   "cell_type": "markdown",
   "id": "a9111659-b673-4842-8ef3-d0fa9b52aa8c",
   "metadata": {},
   "source": [
    "## References\n",
    "<font size=\"2\">\n",
    "{% for i in project().rule_used['antismash']['references'] %}\n",
    "- {{ i }} \n",
    "{% endfor %}\n",
    "</font>"
   ]
  }
 ],
 "metadata": {
  "kernelspec": {
   "display_name": "Python 3 (ipykernel)",
   "language": "python",
   "name": "python3"
  },
  "language_info": {
   "codemirror_mode": {
    "name": "ipython",
    "version": 3
   },
   "file_extension": ".py",
   "mimetype": "text/x-python",
   "name": "python",
   "nbconvert_exporter": "python",
   "pygments_lexer": "ipython3",
   "version": "3.10.5"
  }
 },
 "nbformat": 4,
 "nbformat_minor": 5
}
