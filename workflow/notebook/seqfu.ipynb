{
 "cells": [
  {
   "cell_type": "markdown",
   "id": "aa0f0d95-5e6b-436f-a971-9486d0841329",
   "metadata": {},
   "source": [
    "# SeqFu\n",
    "Summary of [Seqfu](https://github.com/telatin/seqfu2) results from {{ project().description }}. \n",
    "\n",
    "## QC Statistics\n",
    "[Seqfu](https://github.com/telatin/seqfu2) provides a sequence statistic overview of the genomes in the dataset."
   ]
  },
  {
   "cell_type": "code",
   "execution_count": null,
   "id": "d21448bb-afe9-4fdb-b964-2143a0ccd1e4",
   "metadata": {},
   "outputs": [],
   "source": [
    "import pandas as pd\n",
    "import altair as alt\n",
    "import warnings\n",
    "warnings.filterwarnings('ignore')"
   ]
  },
  {
   "cell_type": "code",
   "execution_count": null,
   "id": "140d2a1d-2b2e-4acc-b1ed-f9350ed15360",
   "metadata": {},
   "outputs": [],
   "source": [
    "df = pd.read_csv(\"../tables/df_seqfu_stats.csv\")\n",
    "df = df.rename(columns={'File' : 'genome_id'})\n",
    "\n",
    "source = df\n",
    "\n",
    "chart = alt.Chart(source).mark_circle().encode(\n",
    "    alt.X(alt.repeat(\"column\"), type='quantitative', scale=alt.Scale(zero=False)),\n",
    "    alt.Y(alt.repeat(\"row\"), type='quantitative', scale=alt.Scale(zero=False)),\n",
    "    color='%GC',\n",
    "    tooltip=['genome_id', '#Seq', 'Total bp', '%GC', 'N50', 'N75', 'N90', 'auN', 'Min', 'Max']\n",
    ").properties(\n",
    "    width=150,\n",
    "    height=150,\n",
    ").repeat(\n",
    "    row=['#Seq', 'Total bp', 'N50'],\n",
    "    column=['#Seq', 'Total bp', 'N50'],\n",
    ").properties(\n",
    "    title = \"Genome QC Statistics\",\n",
    ").interactive()\n",
    "\n",
    "chart = chart.configure_title(fontSize=20, offset=10, orient='top', anchor='middle')\n",
    "\n",
    "chart"
   ]
  }
 ],
 "metadata": {
  "kernelspec": {
   "display_name": "Python 3 (ipykernel)",
   "language": "python",
   "name": "python3"
  },
  "language_info": {
   "codemirror_mode": {
    "name": "ipython",
    "version": 3
   },
   "file_extension": ".py",
   "mimetype": "text/x-python",
   "name": "python",
   "nbconvert_exporter": "python",
   "pygments_lexer": "ipython3",
   "version": "3.10.6"
  }
 },
 "nbformat": 4,
 "nbformat_minor": 5
}
