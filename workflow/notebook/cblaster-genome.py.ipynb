{
 "cells": [
  {
   "cell_type": "markdown",
   "id": "aa0f0d95-5e6b-436f-a971-9486d0841329",
   "metadata": {},
   "source": [
    "# cblaster-genome\n",
    "Summary of [cblaster-genome](https://github.com/gamcil/cblaster) results from project: `[{{ project().name }}]` \n",
    "\n",
    "## Description\n",
    "Build a diamond database of all genomes in the project for clustered hits from a BLAST search using [`cblaster`](https://github.com/gamcil/cblaster)."
   ]
  },
  {
   "cell_type": "code",
   "execution_count": null,
   "id": "d21448bb-afe9-4fdb-b964-2143a0ccd1e4",
   "metadata": {},
   "outputs": [],
   "source": [
    "import pandas as pd\n",
    "from pathlib import Path\n",
    "\n",
    "import warnings\n",
    "warnings.filterwarnings('ignore')"
   ]
  },
  {
   "cell_type": "code",
   "execution_count": null,
   "id": "53fb8b15-379c-4be1-827e-243602f89d95",
   "metadata": {},
   "outputs": [],
   "source": [
    "report_dir = Path(\"../\")"
   ]
  },
  {
   "attachments": {},
   "cell_type": "markdown",
   "id": "412c1087",
   "metadata": {},
   "source": [
    "## How to run query from local database\n",
    "* Download all files from the CBlaster result:\n",
    "\n",
    "[CBlaster database]({{ project().file_server() }}/cblaster/genomes){:target=\"_blank\" .md-button}\n",
    "\n",
    "* Install CBlaster conda environment using this yaml configuration (create a file called `env.yaml` and copy paste the following items to the file). See the conda guide [here](https://conda.io/projects/conda/en/latest/user-guide/tasks/manage-environments.html#creating-an-environment-from-an-environment-yml-file):\n",
    "```yaml\n",
    "name: cblaster\n",
    "channels:\n",
    "  - conda-forge\n",
    "  - default\n",
    "  - bioconda\n",
    "dependencies:\n",
    "  - diamond==2.0.15\n",
    "  - pip\n",
    "  - pip:\n",
    "    - cblaster==1.3.12\n",
    "```\n",
    "* After having the environment installed, `cd` to the directory containing all the files, activate the environment, and run queries by:\n",
    "```bash\n",
    "# activate environment\n",
    "conda activate cblaster\n",
    "cblaster search -m local -db cblaster_genome_db.dmnd -qf <query.faa>\n",
    "```\n",
    "* See CBlaster guide for running local queries [here](https://cblaster.readthedocs.io/en/latest/guide/search_module.html#searches-against-local-sequence-data)"
   ]
  },
  {
   "cell_type": "markdown",
   "id": "4d8fe1ca-30f9-472a-9e01-4e9db61825b8",
   "metadata": {},
   "source": [
    "## References\n",
    "\n",
    "<font size=\"2\">\n",
    "\n",
    "{% for i in project().rule_used['cblaster-genome']['references'] %}\n",
    "- *{{ i }}*\n",
    "{% endfor %}\n",
    "\n",
    "</font>"
   ]
  }
 ],
 "metadata": {
  "kernelspec": {
   "display_name": "Python 3 (ipykernel)",
   "language": "python",
   "name": "python3"
  },
  "language_info": {
   "codemirror_mode": {
    "name": "ipython",
    "version": 3
   },
   "file_extension": ".py",
   "mimetype": "text/x-python",
   "name": "python",
   "nbconvert_exporter": "python",
   "pygments_lexer": "ipython3",
   "version": "3.11.0"
  }
 },
 "nbformat": 4,
 "nbformat_minor": 5
}
