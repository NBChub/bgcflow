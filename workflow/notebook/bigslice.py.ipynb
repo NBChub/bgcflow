{
 "cells": [
  {
   "cell_type": "markdown",
   "id": "aa0f0d95-5e6b-436f-a971-9486d0841329",
   "metadata": {},
   "source": [
    "# BiG-SLICE\n",
    "Summary of [BiG-SLICE](https://github.com/medema-group/bigslice) results from project: `[{{ project().name }}]` \n",
    "\n",
    "## Description\n",
    "A highly scalable, user-interactive tool for the large scale analysis of Biosynthetic Gene Clusters data."
   ]
  },
  {
   "cell_type": "code",
   "execution_count": null,
   "id": "d21448bb-afe9-4fdb-b964-2143a0ccd1e4",
   "metadata": {},
   "outputs": [],
   "source": [
    "import pandas as pd\n",
    "from pathlib import Path\n",
    "import shutil, json\n",
    "from IPython.display import display, Markdown\n",
    "\n",
    "import warnings\n",
    "warnings.filterwarnings('ignore')"
   ]
  },
  {
   "cell_type": "code",
   "execution_count": null,
   "id": "53fb8b15-379c-4be1-827e-243602f89d95",
   "metadata": {},
   "outputs": [],
   "source": [
    "report_dir = Path(\"../\")\n",
    "bgcflow_dir = report_dir / (\"../../../\")\n",
    "envs = bgcflow_dir / \"workflow/envs/bigslice.yaml\"\n",
    "\n",
    "metadata = report_dir / \"metadata/dependency_versions.json\"\n",
    "with open(metadata, \"r\") as f:\n",
    "    dependency_version = json.load(f)\n",
    "\n",
    "# Define the destination path\n",
    "destination_path = Path(\"assets/envs/bigslice.yaml\")\n",
    "\n",
    "# Ensure the destination directory exists\n",
    "destination_path.parent.mkdir(parents=True, exist_ok=True)\n",
    "\n",
    "# Copy the file\n",
    "shutil.copy(envs, destination_path);"
   ]
  },
  {
   "cell_type": "markdown",
   "id": "43ca282f",
   "metadata": {},
   "source": [
    "## Usage\n",
    "\n",
    "You can start the BiG-SLICE flask app to view the clustering result.\n",
    "\n",
    "Steps:"
   ]
  },
  {
   "cell_type": "code",
   "execution_count": null,
   "id": "ed378d7c-7d1a-4715-a06d-8850c1344387",
   "metadata": {},
   "outputs": [],
   "source": [
    "run_bigslice=f\"\"\"- Install the conda environment:\n",
    "\n",
    "```bash\n",
    "    conda install -f {report_dir.resolve()}/docs/assets/envs/bigslice.yaml\n",
    "```\n",
    "\n",
    "- Run the app\n",
    "\n",
    "```bash\n",
    "    port='5001'\n",
    "    conda run -n bigslice bash {report_dir.resolve()}/cluster_as_{dependency_version[\"antismash\"]}/start_server.sh $port\n",
    "```\n",
    "\"\"\"\n",
    "display(Markdown(run_bigslice))"
   ]
  },
  {
   "cell_type": "markdown",
   "id": "4d8fe1ca-30f9-472a-9e01-4e9db61825b8",
   "metadata": {},
   "source": [
    "## References\n",
    "\n",
    "<font size=\"2\">\n",
    "\n",
    "{% for i in project().rule_used['bigslice']['references'] %}\n",
    "- *{{ i }}*\n",
    "{% endfor %}\n",
    "\n",
    "</font>"
   ]
  }
 ],
 "metadata": {
  "kernelspec": {
   "display_name": "Python 3 (ipykernel)",
   "language": "python",
   "name": "python3"
  },
  "language_info": {
   "codemirror_mode": {
    "name": "ipython",
    "version": 3
   },
   "file_extension": ".py",
   "mimetype": "text/x-python",
   "name": "python",
   "nbconvert_exporter": "python",
   "pygments_lexer": "ipython3",
   "version": "3.9.18"
  }
 },
 "nbformat": 4,
 "nbformat_minor": 5
}
