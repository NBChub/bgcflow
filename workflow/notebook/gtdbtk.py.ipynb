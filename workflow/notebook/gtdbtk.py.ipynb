{
 "cells": [
  {
   "cell_type": "markdown",
   "id": "aa0f0d95-5e6b-436f-a971-9486d0841329",
   "metadata": {},
   "source": [
    "# GTDB-Tk\n",
    "Summary of [GTDB-tk](https://ecogenomics.github.io/GTDBTk/index.html) results from project: `[{{ project().name }}]` \n",
    "\n",
    "## Description\n",
    "[GTDB-tk](https://ecogenomics.github.io/GTDBTk/index.html) is a software toolkit for assigning objective taxonomic classifications to bacterial and archaeal genomes based on the Genome Database Taxonomy [GTDB](https://gtdb.ecogenomic.org/)\n",
    "\n",
    "## GTDB Taxonomy overview"
   ]
  },
  {
   "cell_type": "code",
   "execution_count": null,
   "id": "d21448bb-afe9-4fdb-b964-2143a0ccd1e4",
   "metadata": {
    "tags": []
   },
   "outputs": [],
   "source": [
    "# Load libraries\n",
    "from pathlib import Path\n",
    "import pandas as pd\n",
    "import seaborn as sns\n",
    "import matplotlib.pyplot as plt\n",
    "sns.set_context(\"paper\")\n",
    "import altair as alt\n",
    "import warnings\n",
    "warnings.filterwarnings('ignore')\n",
    "\n",
    "from IPython.display import display, Markdown, HTML\n",
    "from itables import to_html_datatable as DT\n",
    "import itables.options as opt\n",
    "opt.css = \"\"\"\n",
    ".itables table td { font-style: italic; font-size: .8em;}\n",
    ".itables table th { font-style: oblique; font-size: .8em; }\n",
    "\"\"\"\n",
    "opt.classes = [\"display\", \"compact\"]\n",
    "opt.lengthMenu = [5, 10, 20, 50, 100, 200, 500]\n",
    "\n",
    "def update_gtdb(df_gtdb, df_gtdbtk):\n",
    "    df = df_gtdb.copy()\n",
    "    tax_mapping = {'d' : 'Domain',\n",
    "               'p' : 'Phylum',\n",
    "               'c' : 'Class',\n",
    "               'o' : 'Order',\n",
    "               'f' : 'Family',\n",
    "               'g' : 'Genus',\n",
    "               's' : 'Organism'\n",
    "              }\n",
    "    for i in df_gtdbtk.index:\n",
    "        for item in df_gtdbtk.loc[i, \"classification\"].split(\";\"):\n",
    "            try:\n",
    "                key, value = item.split(\"__\", 1)\n",
    "            except ValueError:\n",
    "                assert item == \"Unclassified Bacteria\"\n",
    "                print(i, item, df_gtdbtk.loc[i, \"classification\"])\n",
    "            if key == 's':\n",
    "                try:\n",
    "                    species = value.split(\" \", 1)[-1]\n",
    "                    if len(species) > 0:\n",
    "                        df.loc[i, 'Species'] = species\n",
    "                        df.loc[i, 'Organism'] = item\n",
    "                    else:\n",
    "                        df.loc[i, 'Species'] = \"sp.\"\n",
    "                        df.loc[i, 'Organism'] = \"s__\" + df.loc[i, 'Genus'].split(\"__\")[1] + \" sp.\"\n",
    "                    \n",
    "                except IndexError:\n",
    "                    print(species)\n",
    "                    pass\n",
    "            else:\n",
    "                df.loc[i, tax_mapping[key]] = item\n",
    "    return df"
   ]
  },
  {
   "cell_type": "code",
   "execution_count": null,
   "id": "53fb8b15-379c-4be1-827e-243602f89d95",
   "metadata": {
    "tags": []
   },
   "outputs": [],
   "source": [
    "report_dir = Path(\"../\")\n",
    "#seqfu_table = report_dir / \"tables/df_seqfu_stats.csv\"\n",
    "gtdb_table = report_dir / \"tables/df_gtdb_meta.csv\"\n",
    "gtdbtk_table = report_dir / \"tables/gtdbtk.bac120.summary.tsv\"\n",
    "gtdb_gtdbtk_table = report_dir / \"tables/df_gtdb_gtdbtk_meta.csv\"\n",
    "#df_seqfu = pd.read_csv(seqfu_table)\n",
    "#df_seqfu = df_seqfu.rename(columns={'File' : 'genome_id'}).set_index('genome_id')\n",
    "df_gtdb = pd.read_csv(gtdb_table).set_index('genome_id')\n",
    "df_gtdbtk = pd.read_csv(gtdbtk_table, sep=\"\\t\").set_index('user_genome', drop=False)\n",
    "# update gtdb information with gtdbtk results\n",
    "df_gtdb = update_gtdb(df_gtdb, df_gtdbtk)\n",
    "df_gtdb.to_csv(gtdb_gtdbtk_table)\n",
    "df = df_gtdb.reset_index()\n",
    "#df = pd.concat([df_seqfu, df_gtdb], axis=1).reset_index()"
   ]
  },
  {
   "cell_type": "code",
   "execution_count": null,
   "id": "cc6c39d0-49fd-4567-8b41-bba6ab170e7a",
   "metadata": {
    "tags": []
   },
   "outputs": [],
   "source": [
    "display(HTML(DT(df.loc[:, ['genome_id', 'Phylum', 'Class', 'Order',\n",
    "       'Family', 'Genus', 'Organism']], columnDefs=[{\"className\": \"dt-center\", \"targets\": \"_all\"}],)))"
   ]
  },
  {
   "cell_type": "code",
   "execution_count": null,
   "id": "140d2a1d-2b2e-4acc-b1ed-f9350ed15360",
   "metadata": {
    "tags": []
   },
   "outputs": [],
   "source": [
    "source = df\n",
    "\n",
    "chart = alt.Chart(source).mark_bar().encode(\n",
    "    x='count(Organism)',\n",
    "    y=alt.Y('Genus', sort='-x'),\n",
    "    color='Species',\n",
    "    tooltip=['genome_id', 'Genus', 'Species', 'Organism']   \n",
    ").properties(\n",
    "    title = \"GTDB Species Distribution\",\n",
    ").properties(\n",
    "    width=300,\n",
    "    height=500,\n",
    ").interactive()\n",
    "\n",
    "chart = chart.configure_title(fontSize=20, offset=10, orient='top', anchor='middle')\n",
    "\n",
    "chart"
   ]
  },
  {
   "cell_type": "markdown",
   "id": "4d8fe1ca-30f9-472a-9e01-4e9db61825b8",
   "metadata": {},
   "source": [
    "[Download Table]({{ project().file_server() }}/tables/gtdbtk.bac120.summary.tsv){:target=\"_blank\" .md-button}"
   ]
  },
  {
   "cell_type": "markdown",
   "id": "bd8f5e31-1789-4d88-8e33-13be2678e81a",
   "metadata": {},
   "source": [
    "## References\n",
    "<font size=\"2\">\n",
    "{% for i in project().rule_used['seqfu']['references'] %}\n",
    "- *{{ i }}*\n",
    "{% endfor %}\n",
    "</font>"
   ]
  }
 ],
 "metadata": {
  "kernelspec": {
   "display_name": "Python 3 (ipykernel)",
   "language": "python",
   "name": "python3"
  },
  "language_info": {
   "codemirror_mode": {
    "name": "ipython",
    "version": 3
   },
   "file_extension": ".py",
   "mimetype": "text/x-python",
   "name": "python",
   "nbconvert_exporter": "python",
   "pygments_lexer": "ipython3",
   "version": "3.9.16"
  }
 },
 "nbformat": 4,
 "nbformat_minor": 5
}
