{
 "cells": [
  {
   "cell_type": "markdown",
   "id": "aa0f0d95-5e6b-436f-a971-9486d0841329",
   "metadata": {},
   "source": [
    "# SeqFu\n",
    "Summary of [Seqfu](https://github.com/telatin/seqfu2) results from project: [{{ project().name }}] \n",
    "\n",
    "## QC Statistics\n",
    "[Seqfu](https://github.com/telatin/seqfu2) provides a sequence statistic overview of the genomes in the dataset."
   ]
  },
  {
   "cell_type": "code",
   "execution_count": null,
   "id": "d21448bb-afe9-4fdb-b964-2143a0ccd1e4",
   "metadata": {},
   "outputs": [],
   "source": [
    "import pandas as pd\n",
    "from pathlib import Path\n",
    "import altair as alt\n",
    "import warnings\n",
    "warnings.filterwarnings('ignore')"
   ]
  },
  {
   "cell_type": "code",
   "execution_count": null,
   "id": "53fb8b15-379c-4be1-827e-243602f89d95",
   "metadata": {},
   "outputs": [],
   "source": [
    "report_dir = Path(\"../\")\n",
    "seqfu_table = report_dir / \"tables/df_seqfu_stats.csv\"\n",
    "gtdb_table = report_dir / \"tables/df_gtdb_meta.csv\"\n",
    "df_seqfu = pd.read_csv(seqfu_table)\n",
    "df_seqfu = df_seqfu.rename(columns={'File' : 'genome_id'}).set_index('genome_id')\n",
    "df_gtdb = pd.read_csv(gtdb_table).set_index('genome_id')\n",
    "df = pd.concat([df_seqfu, df_gtdb], axis=1).reset_index()"
   ]
  },
  {
   "cell_type": "code",
   "execution_count": null,
   "id": "140d2a1d-2b2e-4acc-b1ed-f9350ed15360",
   "metadata": {},
   "outputs": [],
   "source": [
    "source = df\n",
    "\n",
    "chart = alt.Chart(source).mark_circle().encode(\n",
    "    alt.X(alt.repeat(\"column\"), type='quantitative', scale=alt.Scale(zero=False)),\n",
    "    alt.Y(alt.repeat(\"row\"), type='quantitative', scale=alt.Scale(zero=False)),\n",
    "    color='Total',\n",
    "    tooltip=['genome_id', 'Count', 'Total', 'gc', 'N50', 'N75', 'N90', 'AuN', 'Min', 'Max']\n",
    ").properties(\n",
    "    width=150,\n",
    "    height=150,\n",
    ").repeat(\n",
    "    row=['Count', 'Total', 'N50'],\n",
    "    column=['Count', 'Total', 'N50'],\n",
    ").properties(\n",
    "    title = \"Genome QC Statistics\",\n",
    ").interactive()\n",
    "\n",
    "chart = chart.configure_title(fontSize=20, offset=10, orient='top', anchor='middle')\n",
    "\n",
    "chart"
   ]
  },
  {
   "cell_type": "markdown",
   "id": "4d8fe1ca-30f9-472a-9e01-4e9db61825b8",
   "metadata": {},
   "source": [
    "## References\n",
    "{% for i in project().rule_used['seqfu']['references'] %}\n",
    "  - *{{ i }}*\n",
    "{% endfor %}"
   ]
  }
 ],
 "metadata": {
  "kernelspec": {
   "display_name": "Python 3 (ipykernel)",
   "language": "python",
   "name": "python3"
  },
  "language_info": {
   "codemirror_mode": {
    "name": "ipython",
    "version": 3
   },
   "file_extension": ".py",
   "mimetype": "text/x-python",
   "name": "python",
   "nbconvert_exporter": "python",
   "pygments_lexer": "ipython3",
   "version": "3.10.6"
  }
 },
 "nbformat": 4,
 "nbformat_minor": 5
}
