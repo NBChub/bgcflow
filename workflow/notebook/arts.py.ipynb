{
 "cells": [
  {
   "cell_type": "markdown",
   "id": "aa0f0d95-5e6b-436f-a971-9486d0841329",
   "metadata": {},
   "source": [
    "# ARTS2\n",
    "Summary of [ARTS2](link) results from project: `[{{ project().name }}]` \n",
    "\n",
    "## Description\n",
    "Antibiotic Resistant Target Seeker"
   ]
  },
  {
   "cell_type": "code",
   "execution_count": null,
   "id": "d21448bb-afe9-4fdb-b964-2143a0ccd1e4",
   "metadata": {
    "tags": []
   },
   "outputs": [],
   "source": [
    "import pandas as pd\n",
    "from pathlib import Path\n",
    "import plotly.graph_objects as go\n",
    "\n",
    "import altair as alt\n",
    "import ast\n",
    "\n",
    "import networkx as nx\n",
    "#! pip install pygraphviz\n",
    "\n",
    "import warnings\n",
    "warnings.filterwarnings('ignore')\n",
    "\n",
    "from IPython.display import display, Markdown, HTML\n",
    "from itables import to_html_datatable as DT\n",
    "import itables.options as opt\n",
    "opt.css = \"\"\"\n",
    ".itables table td { font-style: italic; font-size: .8em;}\n",
    ".itables table th { font-style: oblique; font-size: .8em; }\n",
    "\"\"\"\n",
    "opt.classes = [\"display\", \"compact\"]\n",
    "opt.lengthMenu = [5, 10, 20, 50, 100, 200, 500]"
   ]
  },
  {
   "cell_type": "code",
   "execution_count": null,
   "id": "53fb8b15-379c-4be1-827e-243602f89d95",
   "metadata": {
    "tags": []
   },
   "outputs": [],
   "source": [
    "report_dir = Path(\"../\")\n",
    "df_arts = pd.read_csv(report_dir / \"tables/df_arts_as-6.1.1.csv\")"
   ]
  },
  {
   "cell_type": "code",
   "execution_count": null,
   "id": "5f27daf2-3407-4a34-9f71-ae4664d04f8e",
   "metadata": {
    "tags": []
   },
   "outputs": [],
   "source": [
    "result = {}\n",
    "ctr = 1\n",
    "for i in df_arts.index:\n",
    "    hits = ast.literal_eval(df_arts.loc[i, \"Genelist\"])\n",
    "    bgc_id = df_arts.loc[i, \"bgc_id\"]\n",
    "    for num, hits in enumerate(hits):\n",
    "        assert len(hits) == 7\n",
    "        arts_hits = {'arts_id' : int(hits[0]),\n",
    "                     'genome_id' : df_arts.loc[i, \"genome_id\"],\n",
    "                     'bgc_id' : bgc_id,\n",
    "                     'bgc_type' : df_arts.loc[i, \"Type\"],\n",
    "                     'profile' : hits[1],\n",
    "                     'start' : int(hits[2]),\n",
    "                     'stop' : int(hits[3]),\n",
    "                     'hits_type' : hits[4],\n",
    "                     'description' : hits[5],\n",
    "                     'function' : hits[6]\n",
    "                    }\n",
    "        result[ctr] = arts_hits\n",
    "        ctr = ctr + 1\n",
    "df_hits = pd.DataFrame.from_dict(result).T\n",
    "\n",
    "display(HTML(DT(df_hits, columnDefs=[{\"className\": \"dt-center\", \"targets\": \"_all\"}],)))"
   ]
  },
  {
   "cell_type": "code",
   "execution_count": null,
   "id": "a0924e37-bea7-4194-b6b6-24d3981c286f",
   "metadata": {
    "tags": []
   },
   "outputs": [],
   "source": [
    "color = [\"#264653\", \"#287271\", \"#2a9d8f\", \"#8ab17d\", \"#e9c46a\", \"#f4a261\", \"#ee8959\", \"#e76f51\"]\n",
    "function_map = df_hits.function.value_counts().to_dict()\n",
    "arts_function_color_map = {}\n",
    "for num, item in enumerate(function_map.keys()):\n",
    "    if num+1 > len(color):\n",
    "        arts_function_color_map[item] = 'grey'\n",
    "    else:\n",
    "        arts_function_color_map[item] = color[num]\n",
    "arts_function_color_map['unclassified'] = \"grey\"\n",
    "\n",
    "arts_node_mapping = df_hits.loc[:, [\"profile\", \"description\", \"function\"]].drop_duplicates().set_index(\"profile\", drop=False)\n",
    "bgc_id_mapping = df_hits.loc[:, [\"bgc_id\", \"bgc_type\", \"genome_id\"]].drop_duplicates().set_index(\"bgc_id\", drop=False)#.T.to_dict()\n",
    "\n",
    "for c in [\"bgc_id\", \"bgc_type\", \"genome_id\"]:\n",
    "    arts_node_mapping[c] = None\n",
    "\n",
    "for c in [\"profile\", \"description\", \"function\"]:\n",
    "    bgc_id_mapping[c] = None\n",
    "    \n",
    "arts_node_mapping = arts_node_mapping.T.to_dict()\n",
    "bgc_id_mapping = bgc_id_mapping.T.to_dict()"
   ]
  },
  {
   "cell_type": "code",
   "execution_count": null,
   "id": "df3a2b07-ad54-478f-b0ea-06e157a8f563",
   "metadata": {},
   "outputs": [],
   "source": [
    "color_map = []\n",
    "G = nx.from_pandas_edgelist(df_hits, source='bgc_id', target='profile')\n",
    "\n",
    "pos = nx.nx_agraph.graphviz_layout(G)\n",
    "\n",
    "for g in G.nodes:\n",
    "    if g in arts_node_mapping.keys():\n",
    "        for column in arts_node_mapping[g].keys():\n",
    "            attrib = str(column)\n",
    "            G.nodes[g][attrib] = arts_node_mapping[g][attrib]\n",
    "        color = arts_function_color_map[G.nodes[g]['function']]\n",
    "        color_map.append(color)\n",
    "        G.nodes[g][\"color\"] = color\n",
    "        G.nodes[g][\"node_type\"] = \"arts_model\"\n",
    "    elif g in bgc_id_mapping.keys():\n",
    "        for column in bgc_id_mapping[g].keys():\n",
    "            attrib = str(column)\n",
    "            G.nodes[g][attrib] = bgc_id_mapping[g][attrib]\n",
    "        color = \"blue\"\n",
    "        color_map.append(color)\n",
    "        G.nodes[g][\"color\"] = color\n",
    "        G.nodes[g][\"node_type\"] = \"bgc_region\""
   ]
  },
  {
   "cell_type": "code",
   "execution_count": null,
   "id": "bca39649-4537-4324-9746-7609c3633894",
   "metadata": {},
   "outputs": [],
   "source": [
    "for n, p in pos.items():\n",
    "    G.nodes[n]['pos'] = p"
   ]
  },
  {
   "cell_type": "code",
   "execution_count": null,
   "id": "21003596-1937-4837-9bd4-f8cc52df7a00",
   "metadata": {},
   "outputs": [],
   "source": [
    "edge_trace = go.Scatter(\n",
    "    x=[],\n",
    "    y=[],\n",
    "    line=dict(width=0.5,color='#888'),\n",
    "    hoverinfo='none',\n",
    "    mode='lines')\n",
    "\n",
    "for edge in G.edges():\n",
    "    x0, y0 = G.nodes[edge[0]]['pos']\n",
    "    x1, y1 = G.nodes[edge[1]]['pos']\n",
    "    edge_trace['x'] += tuple([x0, x1, None])\n",
    "    edge_trace['y'] += tuple([y0, y1, None])"
   ]
  },
  {
   "cell_type": "code",
   "execution_count": null,
   "id": "881256ce-f0dd-4f5b-88b9-b17aa360b7f0",
   "metadata": {},
   "outputs": [],
   "source": [
    "node_trace = go.Scatter(\n",
    "    x=[],\n",
    "    y=[],\n",
    "    text=[],\n",
    "    mode='markers',\n",
    "    hoverinfo='text',\n",
    "    marker=dict(\n",
    "        showscale=False,\n",
    "        color=color_map,\n",
    "        size=10,\n",
    "        line=dict(width=0)))\n",
    "\n",
    "for node in G.nodes():\n",
    "    x, y = G.nodes[node]['pos']\n",
    "    node_trace['x'] += tuple([x])\n",
    "    node_trace['y'] += tuple([y])"
   ]
  },
  {
   "cell_type": "code",
   "execution_count": null,
   "id": "1a0d9c3d-62b6-4c39-a7da-1ae08af383ff",
   "metadata": {},
   "outputs": [],
   "source": [
    "for node, adjacencies in enumerate(G.adjacency()):\n",
    "    node_trace['marker']['color']+=tuple([len(adjacencies[1])])\n",
    "    node_type = G.nodes[adjacencies[0]]['node_type']\n",
    "    if node_type == \"bgc_region\":\n",
    "        description = G.nodes[adjacencies[0]]['bgc_type']\n",
    "        function = \"\"\n",
    "    elif node_type == \"arts_model\":\n",
    "        description = G.nodes[adjacencies[0]]['description']\n",
    "        function = G.nodes[adjacencies[0]]['function']\n",
    "    node_info = f\"{adjacencies[0]}<br>{G.nodes[adjacencies[0]]['node_type']}<br>{description}<br>{function}\"\n",
    "    node_trace['text']+=tuple([node_info])"
   ]
  },
  {
   "cell_type": "code",
   "execution_count": null,
   "id": "187055f1-b476-47d5-9231-4898a8138557",
   "metadata": {},
   "outputs": [],
   "source": [
    "fig = go.Figure(data=[edge_trace, node_trace],\n",
    "             layout=go.Layout(\n",
    "                #title='<br>AT&T network connections',\n",
    "                #titlefont=dict(size=16),\n",
    "                showlegend=False,\n",
    "                hovermode='closest',\n",
    "                margin=dict(b=20,l=5,r=5,t=40),\n",
    "                xaxis=dict(showgrid=False, zeroline=False, showticklabels=False),\n",
    "                yaxis=dict(showgrid=False, zeroline=False, showticklabels=False),\n",
    "                             width=600, height=600))\n",
    "\n",
    "fig"
   ]
  },
  {
   "cell_type": "code",
   "execution_count": null,
   "id": "eda90395-9bc7-477b-9541-a8d7556c7ad9",
   "metadata": {},
   "outputs": [],
   "source": [
    "for node in G.nodes:\n",
    "    for attrib in G.nodes[node]:\n",
    "        if type(G.nodes[node][attrib]) == tuple:\n",
    "            G.nodes[node][attrib] = str(G.nodes[node][attrib])\n",
    "        elif G.nodes[node][attrib] == None:\n",
    "            G.nodes[node][attrib] = str(G.nodes[node][attrib])\n",
    "\n",
    "nx.write_graphml(G, \"assets/data/arts.graphml\")"
   ]
  },
  {
   "cell_type": "markdown",
   "id": "4d8fe1ca-30f9-472a-9e01-4e9db61825b8",
   "metadata": {},
   "source": [
    "## References\n",
    "\n",
    "<font size=\"2\">\n",
    "\n",
    "{% for i in project().rule_used['arts']['references'] %}\n",
    "- *{{ i }}*\n",
    "{% endfor %}\n",
    "\n",
    "</font>"
   ]
  }
 ],
 "metadata": {
  "kernelspec": {
   "display_name": "Python 3 (ipykernel)",
   "language": "python",
   "name": "python3"
  },
  "language_info": {
   "codemirror_mode": {
    "name": "ipython",
    "version": 3
   },
   "file_extension": ".py",
   "mimetype": "text/x-python",
   "name": "python",
   "nbconvert_exporter": "python",
   "pygments_lexer": "ipython3",
   "version": "3.9.16"
  }
 },
 "nbformat": 4,
 "nbformat_minor": 5
}
