{
 "cells": [
  {
   "cell_type": "markdown",
   "id": "aa0f0d95-5e6b-436f-a971-9486d0841329",
   "metadata": {},
   "source": [
    "# ARTS2\n",
    "Summary of [ARTS2](link) results from project: `[{{ project().name }}]` \n",
    "\n",
    "## Description\n",
    "This report presents the results from ARTS2 (Antibiotic Resistant Target Seeker Version 2), a bioinformatic tool for targeted genome mining of antibiotic resistance targets. The analysis focused on identifying genes with signatures of antibiotic resistances, gene duplication, horizontal gene transfer, and proximity to biosynthetic gene cluster (BGC).\n",
    "\n",
    "Here, only ARTS2 profile with BGC proximity are shown.\n",
    "\n",
    "Table Description:\n",
    "\n",
    " - **Dup**: Uncommon gene duplication. Highlight potential repurposed primary metabolism genes.\n",
    " - **Res**: Hits to known resistance models.\n",
    " - **BGC**: Cross reference locations or proximity to secondary metabolite BGCs.\n",
    " - **HGT**: Phylogenetic incongruence. Highlight essential genes with evidence of inter-genus horizontal gene transfer (HGT).\n"
   ]
  },
  {
   "cell_type": "code",
   "execution_count": null,
   "id": "d21448bb-afe9-4fdb-b964-2143a0ccd1e4",
   "metadata": {
    "tags": []
   },
   "outputs": [],
   "source": [
    "# Import necessary libraries for data manipulation, plotting, and file handling\n",
    "import pandas as pd\n",
    "import altair as alt\n",
    "import ast\n",
    "import json\n",
    "import networkx as nx\n",
    "from pathlib import Path\n",
    "import plotly.graph_objects as go\n",
    "import seaborn as sns\n",
    "\n",
    "# Import libraries for displaying data and markdown in Jupyter notebooks\n",
    "from IPython.display import display, Markdown, HTML\n",
    "\n",
    "# Import library for creating HTML data tables\n",
    "from itables import to_html_datatable as DT\n",
    "import itables.options as opt\n",
    "\n",
    "# Suppress warnings\n",
    "import warnings\n",
    "warnings.filterwarnings('ignore')\n",
    "\n",
    "# Set CSS for HTML data tables\n",
    "cm = sns.light_palette(\"green\", as_cmap=True)\n",
    "opt.css = \"\"\"\n",
    ".itables table td { font-style: italic; font-size: .8em;}\n",
    ".itables table th { font-style: oblique; font-size: .8em; }\n",
    "\"\"\"\n",
    "\n",
    "# Set classes for HTML data tables\n",
    "opt.classes = [\"display\", \"compact\"]\n",
    "\n",
    "# Set length menu for HTML data tables\n",
    "opt.lengthMenu = [5, 10, 20, 50, 100, 200, 500]"
   ]
  },
  {
   "cell_type": "code",
   "execution_count": null,
   "id": "53fb8b15-379c-4be1-827e-243602f89d95",
   "metadata": {
    "tags": []
   },
   "outputs": [],
   "source": [
    "with open(\"../metadata/project_metadata.json\", \"r\") as f:\n",
    "    project_configuration = json.load(f)\n",
    "with open(\"../metadata/dependency_versions.json\", \"r\") as f:\n",
    "    dependency_version = json.load(f)"
   ]
  },
  {
   "cell_type": "code",
   "execution_count": null,
   "id": "5f27daf2-3407-4a34-9f71-ae4664d04f8e",
   "metadata": {
    "tags": []
   },
   "outputs": [],
   "source": [
    "project_name = [i for i in project_configuration.keys()][0]\n",
    "antismash_version = dependency_version[\"antismash\"]\n",
    "report_dir = Path(\"../\")\n",
    "\n",
    "df_arts = pd.read_csv(report_dir / f\"tables/df_arts_bgctable_as-{antismash_version}.csv\")\n",
    "df_bgcs = pd.read_csv(report_dir / f\"tables/df_regions_antismash_{antismash_version}.csv\", index_col=0)\n",
    "df_tax = pd.read_csv(report_dir / \"tables/df_gtdb_meta.csv\", index_col=0)\n",
    "df_arts_core = pd.read_csv(report_dir / f\"tables/df_arts_coretable_as-{antismash_version}.csv\")\n",
    "df_arts_hits = pd.read_csv(report_dir / f\"tables/df_arts_allhits_as-{antismash_version}.csv\")"
   ]
  },
  {
   "cell_type": "code",
   "execution_count": null,
   "id": "f869f1a3-9696-438f-8858-36f39824d192",
   "metadata": {},
   "outputs": [],
   "source": [
    "result = {}\n",
    "ctr = 1\n",
    "for i in df_arts.index:\n",
    "    hits = ast.literal_eval(df_arts.loc[i, \"Genelist\"])\n",
    "    bgc_id = df_arts.loc[i, \"bgc_id\"]\n",
    "    for num, hits in enumerate(hits):\n",
    "        assert len(hits) == 7\n",
    "        arts_hits = {'arts_id' : int(hits[0]),\n",
    "                     'genome_id' : df_arts.loc[i, \"genome_id\"],\n",
    "                     'bgc_id' : bgc_id,\n",
    "                     'bgc_type' : df_arts.loc[i, \"Type\"],\n",
    "                     'profile' : hits[1],\n",
    "                     'start' : int(hits[2]),\n",
    "                     'stop' : int(hits[3]),\n",
    "                     'hits_type' : hits[4],\n",
    "                     'description' : hits[5],\n",
    "                     'function' : hits[6]\n",
    "                    }\n",
    "        if arts_hits['function'] == \"N/A\":\n",
    "            arts_hits['function'] = \"ResModel\"\n",
    "        result[ctr] = arts_hits\n",
    "        ctr = ctr + 1\n",
    "df_hits = pd.DataFrame.from_dict(result).T"
   ]
  },
  {
   "cell_type": "code",
   "execution_count": null,
   "id": "bc7e3412-5340-4a21-a238-0d261471d479",
   "metadata": {},
   "outputs": [],
   "source": [
    "function_map = df_hits.set_index(\"profile\").loc[:, \"function\"].to_dict()"
   ]
  },
  {
   "cell_type": "code",
   "execution_count": null,
   "id": "2a617a31-bee0-4fee-8dba-0665036e73b2",
   "metadata": {},
   "outputs": [],
   "source": [
    "for i in df_arts_hits.index:\n",
    "    profile = df_arts_hits.loc[i, \"core_gene_or_model\"]\n",
    "    if profile in function_map:\n",
    "        df_arts_hits.loc[i, \"function\"] = function_map[profile]"
   ]
  },
  {
   "cell_type": "code",
   "execution_count": null,
   "id": "9fc3762d-97fa-4e80-9e4e-f31644f93d22",
   "metadata": {},
   "outputs": [],
   "source": [
    "# Select columns of boolean type from the dataframe\n",
    "bool_cols = df_arts_hits.select_dtypes(include=['bool'])\n",
    "\n",
    "# Create a new column 'hits' that is the sum of True values in each row\n",
    "df_arts_hits['hits'] = bool_cols.sum(axis=1)\n",
    "\n",
    "# Define a dictionary to map boolean values to symbols\n",
    "# True is mapped to '✔' and False is mapped to '✖'\n",
    "bool_to_symbol = {True: '✔', False: '✖'}\n",
    "\n",
    "# Apply the mapping to the relevant columns in the dataframe\n",
    "# This replaces True/False values with '✔'/'✖' in these columns\n",
    "for col in ['duplication', 'phylogeny', 'known_target', 'bgc_proximity']:\n",
    "    df_arts_hits[col] = df_arts_hits[col].map(bool_to_symbol)\n",
    "\n",
    "# Rename columns for display purposes\n",
    "renamed_columns = {\n",
    "    \"core_gene_or_model\": \"profile\", \n",
    "    \"duplication\": \"Dup\", \n",
    "    'known_target': \"Res\", \n",
    "    'bgc_proximity': \"BGC\",\n",
    "    \"phylogeny\": \"HGT\"\n",
    "}\n",
    "\n",
    "df_arts_hits = df_arts_hits.rename(columns=renamed_columns)\n",
    "outfile = Path(f\"assets/tables/arts_hits_as{antismash_version}.csv\")\n",
    "outfile.parent.mkdir(exist_ok=True, parents=True)\n",
    "df_arts_hits.to_csv(outfile, index=False)\n",
    "\n",
    "# Add links to server\n",
    "for i in df_arts_hits.index:\n",
    "    gid = df_arts_hits.loc[i, 'genome_id']\n",
    "    server_path = \"<a href='{{ project().file_server() }}/antismash/{{project().dependency_version()}}/\"\n",
    "    df_arts_hits.loc[i, \"Genome ID\"] = server_path + f\"{gid}/index.html' target='_blank''>{gid}</a>\"\n",
    "    bgc_id = df_arts_hits.loc[i, \"bgc_id\"]\n",
    "    if bgc_id in df_bgcs.index:\n",
    "        r, c = str(df_bgcs.loc[bgc_id, \"region\"]).split(\".\")\n",
    "        region_id = f\"#r{r}c{c}\"\n",
    "        df_arts_hits.loc[i, \"BGC ID\"] = server_path + f\"{gid}/index.html{region_id}' target='_blank''>{bgc_id}</a>\"\n",
    "\n",
    "# Select columns to display\n",
    "columns_to_display = ['profile', 'name', 'product', 'function', 'hits', 'Dup', 'HGT', 'Res', 'BGC', 'BGC ID', 'Genome ID']\n",
    "df_arts_hits_display = df_arts_hits.loc[:, columns_to_display]\n",
    "\n",
    "# Display only hits with BGC proximity\n",
    "df_arts_hits_display = df_arts_hits_display[df_arts_hits_display[\"BGC\"] != '✖'].reset_index(drop=False)"
   ]
  },
  {
   "cell_type": "code",
   "execution_count": null,
   "id": "b954e6e1-fd4b-4ef1-aea3-ce43b0b05008",
   "metadata": {},
   "outputs": [],
   "source": [
    "# Display the dataframe with renamed columns and selected columns to display\n",
    "# All columns are centered using the 'dt-center' class\n",
    "display(HTML(DT(df_arts_hits_display, \n",
    "               columnDefs=[{\"className\": \"dt-center\", \"targets\": \"_all\"}])))"
   ]
  },
  {
   "cell_type": "code",
   "execution_count": null,
   "id": "a0924e37-bea7-4194-b6b6-24d3981c286f",
   "metadata": {
    "tags": []
   },
   "outputs": [],
   "source": [
    "summary_report = f\"A total of **{len(df_hits.bgc_id.unique())} BGCs** from {len(df_hits.genome_id.unique())} genomes were found to have hits with **{len(df_hits.profile.unique())} ARTS2 profile**.\"\n",
    "display(Markdown(summary_report))"
   ]
  },
  {
   "cell_type": "code",
   "execution_count": null,
   "id": "df3a2b07-ad54-478f-b0ea-06e157a8f563",
   "metadata": {},
   "outputs": [],
   "source": [
    "color = [\"#264653\", \"#287271\", \"#2a9d8f\", \"#8ab17d\", \"#e9c46a\", \"#f4a261\", \"#ee8959\", \"#e76f51\"]\n",
    "function_map = df_hits.function.value_counts().to_dict()\n",
    "arts_function_color_map = {}\n",
    "ctr = 0\n",
    "for item in function_map.keys():\n",
    "    if item == \"Unclassified\":\n",
    "        arts_function_color_map[item] = 'grey'\n",
    "        ctr = ctr - 1\n",
    "    elif ctr+1 > len(color):\n",
    "        arts_function_color_map[item] = 'grey'\n",
    "    elif item == \"ResModel\":\n",
    "        arts_function_color_map[item] = 'red'\n",
    "    else:\n",
    "        arts_function_color_map[item] = color[ctr]\n",
    "    ctr = ctr + 1\n",
    "\n",
    "arts_node_mapping = df_hits.loc[:, [\"profile\", \"description\", \"function\"]].drop_duplicates().set_index(\"profile\", drop=False)\n",
    "bgc_id_mapping = df_hits.loc[:, [\"bgc_id\", \"bgc_type\", \"genome_id\"]].drop_duplicates().set_index(\"bgc_id\", drop=False)#.T.to_dict()\n",
    "\n",
    "for c in [\"bgc_id\", \"bgc_type\", \"genome_id\"]:\n",
    "    arts_node_mapping[c] = None\n",
    "\n",
    "for c in [\"profile\", \"description\", \"function\"]:\n",
    "    bgc_id_mapping[c] = None\n",
    "    \n",
    "arts_node_mapping = arts_node_mapping.T.to_dict()\n",
    "bgc_id_mapping = bgc_id_mapping.T.to_dict()"
   ]
  },
  {
   "cell_type": "code",
   "execution_count": null,
   "id": "bca39649-4537-4324-9746-7609c3633894",
   "metadata": {},
   "outputs": [],
   "source": [
    "color_map = []\n",
    "G = nx.from_pandas_edgelist(df_hits, source='bgc_id', target='profile')\n",
    "\n",
    "pos = nx.nx_agraph.graphviz_layout(G)\n",
    "\n",
    "region_score = df_arts_hits.loc[:, [\"bgc_id\", \"hits\"]].dropna().set_index(\"bgc_id\").to_dict()['hits']\n",
    "for g in G.nodes:\n",
    "    # annotate ARTS model\n",
    "    if g in arts_node_mapping.keys():\n",
    "        for column in arts_node_mapping[g].keys():\n",
    "            attrib = str(column)\n",
    "            G.nodes[g][attrib] = arts_node_mapping[g][attrib]\n",
    "        color = arts_function_color_map[G.nodes[g]['function']]\n",
    "        color_map.append(color)\n",
    "        G.nodes[g][\"color\"] = color\n",
    "        G.nodes[g][\"node_type\"] = G.nodes[g][\"function\"]\n",
    "        G.nodes[g][\"text\"] = f\"{G.nodes[g]['profile']}<br>{G.nodes[g]['function']}<br>{G.nodes[g]['description']}\"\n",
    "    # annotate BGCs\n",
    "    elif g in bgc_id_mapping.keys():\n",
    "        for column in bgc_id_mapping[g].keys():\n",
    "            attrib = str(column)\n",
    "            G.nodes[g][attrib] = bgc_id_mapping[g][attrib]\n",
    "        color = \"blue\"\n",
    "        color_map.append(color)\n",
    "        G.nodes[g][\"color\"] = color\n",
    "        G.nodes[g][\"node_type\"] = \"BGC\"\n",
    "        taxonomy = df_tax.loc[G.nodes[g]['genome_id'], \"Organism\"]\n",
    "        G.nodes[g][\"text\"] = f\"{G.nodes[g]['bgc_id']}<br>{G.nodes[g]['bgc_type']}<br>{G.nodes[g]['genome_id']}<br>{taxonomy}\"\n",
    "        if region_score[g] > 1:\n",
    "            G.nodes[g][\"node_type\"] = f\"BGC_with_{region_score[g]}_ARTS_hits\"\n",
    "            G.nodes[g][\"text\"] = G.nodes[g][\"text\"] + \"<br>\" + f\"ARTS hits: {region_score[g]}\""
   ]
  },
  {
   "cell_type": "code",
   "execution_count": null,
   "id": "21003596-1937-4837-9bd4-f8cc52df7a00",
   "metadata": {},
   "outputs": [],
   "source": [
    "for n, p in pos.items():\n",
    "    G.nodes[n]['pos'] = p"
   ]
  },
  {
   "cell_type": "code",
   "execution_count": null,
   "id": "881256ce-f0dd-4f5b-88b9-b17aa360b7f0",
   "metadata": {},
   "outputs": [],
   "source": [
    "edge_trace = go.Scatter(\n",
    "    x=[],\n",
    "    y=[],\n",
    "    name=\"ARTS2 hit\",\n",
    "    line=dict(width=0.5,color='#888'),\n",
    "    hoverinfo='none',\n",
    "    mode='lines')\n",
    "\n",
    "for edge in G.edges():\n",
    "    x0, y0 = G.nodes[edge[0]]['pos']\n",
    "    x1, y1 = G.nodes[edge[1]]['pos']\n",
    "    edge_trace['x'] += tuple([x0, x1, None])\n",
    "    edge_trace['y'] += tuple([y0, y1, None])"
   ]
  },
  {
   "cell_type": "code",
   "execution_count": null,
   "id": "1a0d9c3d-62b6-4c39-a7da-1ae08af383ff",
   "metadata": {},
   "outputs": [],
   "source": [
    "def create_node_trace(G, node_type, shape=\"circle\", opacity=0.8, linewidth=0, linecolor=\"red\"):\n",
    "    node_color = []\n",
    "    for node in G.nodes():\n",
    "        if G.nodes[node]['node_type'] == node_type:\n",
    "            node_color.append(G.nodes[node]['color'])    \n",
    "\n",
    "    node_trace = go.Scatter(\n",
    "        ids=[],\n",
    "        x=[],\n",
    "        y=[],\n",
    "        name=node_type,\n",
    "        text=[],\n",
    "        mode='markers',\n",
    "        hoverinfo='text',\n",
    "        marker_symbol=shape,\n",
    "        opacity=opacity,\n",
    "        marker=dict(\n",
    "            showscale=False,\n",
    "            color=node_color,\n",
    "            size=10,\n",
    "            line=dict(width=linewidth,\n",
    "                      color=linecolor)))\n",
    "\n",
    "    for node in G.nodes():\n",
    "        if G.nodes[node]['node_type'] == node_type:\n",
    "            x, y = G.nodes[node]['pos']\n",
    "            node_trace['ids'] += tuple([node])\n",
    "            node_trace['x'] += tuple([x])\n",
    "            node_trace['y'] += tuple([y])\n",
    "\n",
    "    for node, adjacencies in enumerate(G.adjacency()):\n",
    "        if G.nodes[adjacencies[0]]['node_type'] == node_type:\n",
    "            node_trace['marker']['color']+=tuple([len(adjacencies[1])])\n",
    "            node_type = G.nodes[adjacencies[0]]['node_type']\n",
    "            description = G.nodes[adjacencies[0]]['bgc_type']\n",
    "            node_info = G.nodes[adjacencies[0]]['text']\n",
    "            node_trace['text']+=tuple([node_info])\n",
    "    \n",
    "    return node_trace"
   ]
  },
  {
   "cell_type": "code",
   "execution_count": null,
   "id": "c00ce940-e8b1-4fb5-b2d0-f3f61a80b669",
   "metadata": {},
   "outputs": [],
   "source": [
    "node_traces = list(function_map.keys())\n",
    "node_traces.append(\"BGC\")\n",
    "for i in range(4):\n",
    "    node_traces.append(f\"BGC_with_{i}_ARTS_hits\")\n",
    "\n",
    "traces = [edge_trace]\n",
    "for trace in node_traces:\n",
    "    shape = \"square\"\n",
    "    linewidth = 0\n",
    "    linecolor = \"black\"\n",
    "    if trace == \"BGC\":\n",
    "        shape = \"circle\"\n",
    "    elif trace == \"BGC_with_2_ARTS_hits\":\n",
    "        shape = \"circle\"\n",
    "        linewidth = 1\n",
    "        linecolor = \"orange\"\n",
    "    elif trace == \"BGC_with_3_ARTS_hits\":\n",
    "        shape = \"circle\"\n",
    "        linewidth = 3\n",
    "        linecolor = \"red\"\n",
    "    elif trace == \"BGC_with_4_ARTS_hits\":\n",
    "        shape = \"circle\"\n",
    "        linewidth = 5\n",
    "        linecolor = \"red\"\n",
    "    elif trace == \"ResModel\":\n",
    "        shape = \"star\"\n",
    "    new_trace = create_node_trace(G, trace, shape=shape, linewidth=linewidth, linecolor=linecolor)\n",
    "    traces.append(new_trace)"
   ]
  },
  {
   "cell_type": "code",
   "execution_count": null,
   "id": "e1841d93-007f-4130-a22f-407a40059ca7",
   "metadata": {},
   "outputs": [],
   "source": [
    "fig = go.Figure(data=traces,\n",
    "                layout=go.Layout(\n",
    "                    paper_bgcolor='rgba(0,0,0,0)',\n",
    "                    plot_bgcolor='rgba(0,0,0,0)',\n",
    "                    showlegend=True,\n",
    "                    hovermode='closest',\n",
    "                    margin=dict(b=20,l=5,r=5,t=40),\n",
    "                    xaxis=dict(showgrid=False, zeroline=False, showticklabels=False),\n",
    "                    yaxis=dict(showgrid=False, zeroline=False, showticklabels=False),\n",
    "                    width=750, height=900))\n",
    "\n",
    "fig = fig.update_layout(legend=dict(\n",
    "    orientation=\"h\",\n",
    "    yanchor=\"top\",\n",
    "    y=0,\n",
    "    xanchor=\"left\",\n",
    "    x=0\n",
    "))"
   ]
  },
  {
   "cell_type": "code",
   "execution_count": null,
   "id": "187055f1-b476-47d5-9231-4898a8138557",
   "metadata": {},
   "outputs": [],
   "source": [
    "outfile = Path(f\"assets/figures/arts_as{antismash_version}.html\")\n",
    "outfile.parent.mkdir(parents=True, exist_ok=True)\n",
    "fig.write_html(outfile)\n",
    "\n",
    "display(HTML(filename=str(outfile)))"
   ]
  },
  {
   "cell_type": "code",
   "execution_count": null,
   "id": "eda90395-9bc7-477b-9541-a8d7556c7ad9",
   "metadata": {},
   "outputs": [],
   "source": [
    "for node in G.nodes:\n",
    "    for attrib in G.nodes[node]:\n",
    "        if type(G.nodes[node][attrib]) == tuple:\n",
    "            G.nodes[node][attrib] = str(G.nodes[node][attrib])\n",
    "        elif G.nodes[node][attrib] == None:\n",
    "            G.nodes[node][attrib] = str(G.nodes[node][attrib])\n",
    "\n",
    "outfile = Path(\"assets/data/arts.graphml\")\n",
    "outfile.parent.mkdir(parents=True, exist_ok=True)\n",
    "nx.write_graphml(G, outfile)"
   ]
  },
  {
   "cell_type": "markdown",
   "id": "0f03217e-0d7b-45d7-8540-d86ca551d4fd",
   "metadata": {
    "tags": []
   },
   "source": [
    "[Download Graph](assets/data/arts.graphml){:target=\"_blank\" .md-button}"
   ]
  },
  {
   "cell_type": "markdown",
   "id": "4d8fe1ca-30f9-472a-9e01-4e9db61825b8",
   "metadata": {},
   "source": [
    "## References\n",
    "<font size=\"2\">\n",
    "{% for i in project().rule_used['arts']['references'] %}\n",
    "- {{ i }} \n",
    "{% endfor %}\n",
    "</font>"
   ]
  }
 ],
 "metadata": {
  "kernelspec": {
   "display_name": "Python 3 (ipykernel)",
   "language": "python",
   "name": "python3"
  },
  "language_info": {
   "codemirror_mode": {
    "name": "ipython",
    "version": 3
   },
   "file_extension": ".py",
   "mimetype": "text/x-python",
   "name": "python",
   "nbconvert_exporter": "python",
   "pygments_lexer": "ipython3",
   "version": "3.10.13"
  }
 },
 "nbformat": 4,
 "nbformat_minor": 5
}
