{
 "cells": [
  {
   "cell_type": "markdown",
   "id": "aa0f0d95-5e6b-436f-a971-9486d0841329",
   "metadata": {},
   "source": [
    "# eggNOG-mapper\n",
    "Summary of [eggNOG-mapper](link) results from project: `[{{ project().name }}]` \n",
    "\n",
    "## Description\n",
    "Fast functional annotation of novel sequences using precomputed orthologous groups and phylogenies from the [eggNOG database](http://eggnog5.embl.de) "
   ]
  },
  {
   "cell_type": "code",
   "execution_count": 1,
   "id": "d21448bb-afe9-4fdb-b964-2143a0ccd1e4",
   "metadata": {
    "tags": []
   },
   "outputs": [],
   "source": [
    "import pandas as pd\n",
    "from pathlib import Path\n",
    "from IPython.display import display, Markdown, HTML\n",
    "import json\n",
    "import altair as alt\n",
    "\n",
    "import warnings\n",
    "warnings.filterwarnings('ignore')\n",
    "\n",
    "from itables import to_html_datatable as DT\n",
    "import itables.options as opt\n",
    "opt.css = \"\"\"\n",
    ".itables table td { font-style: italic; font-size: .8em;}\n",
    ".itables table th { font-style: oblique; font-size: .8em; }\n",
    "\"\"\"\n",
    "opt.classes = [\"display\", \"compact\"]\n",
    "opt.lengthMenu = [5, 10, 20, 50, 100, 200, 500]"
   ]
  },
  {
   "cell_type": "code",
   "execution_count": 2,
   "id": "53fb8b15-379c-4be1-827e-243602f89d95",
   "metadata": {
    "tags": []
   },
   "outputs": [],
   "source": [
    "#### UPDATE\n",
    "\n",
    "report_dir = Path(\"/datadrive/bgcflow/data/processed/hq_saccharopolyspora/\")\n",
    "eggnog_interim = Path(\"/datadrive/bgcflow/data/interim/eggnog/\")\n",
    "df_gtdb_gtdbtk = pd.read_csv(\"/datadrive/bgcflow/data/processed/qc_saccharopolyspora/tables/df_gtdb_gtdbtk_meta.csv\", index_col=0)"
   ]
  },
  {
   "cell_type": "code",
   "execution_count": 3,
   "id": "bbaacb50-0936-4056-9c1d-c6997f4dd947",
   "metadata": {},
   "outputs": [],
   "source": [
    "df_gtdb = pd.read_csv(report_dir/ \"tables\" / \"df_gtdb_meta.csv\", index_col=0)"
   ]
  },
  {
   "cell_type": "code",
   "execution_count": 4,
   "id": "bed23d56-bd74-4fa0-a9ef-9df28be74e93",
   "metadata": {},
   "outputs": [],
   "source": [
    "#### UPDATE\n",
    "df_gtdb = df_gtdb_gtdbtk.loc[df_gtdb.index, :]"
   ]
  },
  {
   "cell_type": "code",
   "execution_count": 5,
   "id": "fe55197b-a0cf-4044-a989-74f3019913dd",
   "metadata": {},
   "outputs": [],
   "source": [
    "# Source - https://github.com/SBRG/pymodulon/blob/master/src/pymodulon/gene_util.py\n",
    "def get_cog_dict():\n",
    "    \"\"\"\n",
    "    Get COG dict\n",
    "    \"\"\"\n",
    "\n",
    "    cog_dict = {\n",
    "        \"A\": \"RNA processing and modification\",\n",
    "        \"B\": \"Chromatin structure and dynamics\",\n",
    "        \"C\": \"Energy production and conversion\",\n",
    "        \"D\": \"Cell cycle control, cell division, chromosome partitioning\",\n",
    "        \"E\": \"Amino acid transport and metabolism\",\n",
    "        \"F\": \"Nucleotide transport and metabolism\",\n",
    "        \"G\": \"Carbohydrate transport and metabolism\",\n",
    "        \"H\": \"Coenzyme transport and metabolism\",\n",
    "        \"I\": \"Lipid transport and metabolism\",\n",
    "        \"J\": \"Translation, ribosomal structure and biogenesis\",\n",
    "        \"K\": \"Transcription\",\n",
    "        \"L\": \"Replication, recombination and repair\",\n",
    "        \"M\": \"Cell wall/membrane/envelope biogenesis\",\n",
    "        \"N\": \"Cell motility\",\n",
    "        \"O\": \"Post-translational modification, protein turnover, and chaperones\",\n",
    "        \"P\": \"Inorganic ion transport and metabolism\",\n",
    "        \"Q\": \"Secondary metabolites biosynthesis, transport, and catabolism\",\n",
    "        \"R\": \"General function prediction only\",\n",
    "        \"S\": \"Function unknown\",\n",
    "        \"T\": \"Signal transduction mechanisms\",\n",
    "        \"U\": \"Intracellular trafficking, secretion, and vesicular transport\",\n",
    "        \"V\": \"Defense mechanisms\",\n",
    "        \"W\": \"Extracellular structures\",\n",
    "        \"X\": \"Mobilome: prophages, transposons\",\n",
    "        \"Y\": \"Nuclear structure\",\n",
    "        \"Z\": \"Cytoskeleton\",\n",
    "        \"-\": \"Not found in COG\"\n",
    "    }\n",
    "\n",
    "    return cog_dict\n",
    "\n",
    "cog_dict = get_cog_dict()"
   ]
  },
  {
   "cell_type": "code",
   "execution_count": 39,
   "id": "b91eb658-e4e5-4f15-ad24-0047c6f23fe0",
   "metadata": {},
   "outputs": [],
   "source": [
    "def get_enggnog_stats(df_genomes, eggnog_dir, cog_dict):\n",
    "    '''\n",
    "    Returns dataframe with eggnog statistics\n",
    "    '''\n",
    "    \n",
    "    df_cog = pd.DataFrame(0, index=df_genomes.index, columns=list(cog_dict.keys()))\n",
    "    df_cog_unique = pd.DataFrame(0, index=df_genomes.index, columns=list(cog_dict.keys()))\n",
    "    \n",
    "    df_eggNOG_PA = pd.DataFrame(index=df_genomes.index)\n",
    "    \n",
    "    df_kegg_module = pd.DataFrame(index=df_genomes.index)\n",
    "    df_kegg_module_unique = pd.DataFrame(index=df_genomes.index)\n",
    "\n",
    "    for genome_id in df_genomes.index:\n",
    "        tsv_file = genome_id + \".emapper.annotations\"\n",
    "        eggnog_table_path = eggnog_dir/ genome_id/ tsv_file\n",
    "        if eggnog_table_path.is_file():\n",
    "            df_eggnog = pd.read_csv(eggnog_table_path, sep=\"\\t\", header=4, index_col=\"#query\").iloc[:-3,:]\n",
    "            df_eggnog.index.name = \"locus_tag\"\n",
    "            for locus_tag in df_eggnog.index:\n",
    "                cog_value = df_eggnog.loc[locus_tag, \"COG_category\"]\n",
    "                if len(cog_value) == 1:\n",
    "                    cog_id = cog_value\n",
    "                    df_cog.loc[genome_id, cog_id] = df_cog.loc[genome_id, cog_id] + 1\n",
    "                    df_cog_unique.loc[genome_id, cog_id] = df_cog_unique.loc[genome_id, cog_id] + 1\n",
    "                else:\n",
    "                    for cog_id in cog_value:\n",
    "                        df_cog.loc[genome_id, cog_id] = df_cog.loc[genome_id, cog_id] + 1 \n",
    "                \n",
    "                max_annot_lvl = df_eggnog.loc[locus_tag, \"max_annot_lvl\"]\n",
    "                eggNOG_OGs_list =  df_eggnog.loc[locus_tag, \"eggNOG_OGs\"].split(\",\")\n",
    "                eggNOG_OG_dict = dict()\n",
    "    \n",
    "                for eggNOG_OG in eggNOG_OGs_list:\n",
    "                    annot_lvl = eggNOG_OG.split(\"@\")[1]\n",
    "                    OG_value = eggNOG_OG.split(\"@\")[0]\n",
    "                    eggNOG_OG_dict[annot_lvl] = OG_value\n",
    "                \n",
    "                if max_annot_lvl in eggNOG_OG_dict.keys():\n",
    "                    selected_OG = eggNOG_OG_dict[max_annot_lvl]\n",
    "                \n",
    "                if selected_OG not in df_eggNOG_PA.columns:\n",
    "                    df_eggNOG_PA.loc[:, selected_OG] = 0\n",
    "                    df_eggNOG_PA.loc[genome_id, selected_OG] = 1\n",
    "                else:\n",
    "                    df_eggNOG_PA.loc[genome_id, selected_OG] = df_eggNOG_PA.loc[genome_id, selected_OG] + 1\n",
    "                \n",
    "    df_cog = df_cog.reindex(columns=df_cog.sum().sort_values(ascending=False).index)\n",
    "    df_cog_unique = df_cog_unique.reindex(columns=df_cog.sum().sort_values(ascending=False).index)\n",
    "    \n",
    "    df_cog_names = df_cog.rename(columns=cog_dict)\n",
    "    df_cog_unique_names = df_cog_unique.rename(columns=cog_dict)\n",
    "    \n",
    "    df_eggNOG_PA = df_eggNOG_PA.reindex(columns=df_eggNOG_PA.sum().sort_values(ascending=False).index)\n",
    "    \n",
    "    return df_cog, df_cog_names, df_cog_unique, df_cog_unique_names, df_eggNOG_PA\n",
    "\n",
    "df_cog, df_cog_names, df_cog_unique, df_cog_unique_names, df_eggNOG_PA = get_enggnog_stats(df_gtdb, eggnog_interim, cog_dict)"
   ]
  },
  {
   "cell_type": "markdown",
   "id": "8984c203-d0b2-4bb9-ac8e-7db534864ea8",
   "metadata": {},
   "source": [
    "## Summary Table\n",
    "\n",
    "Summary of number of unique genes belonging to each of the COG categories\n",
    "\n",
    "[Download Table]({{ project().file_server() }}/tables/df_antismash_6.1.1_summary.csv){:target=\"_blank\" .md-button}"
   ]
  },
  {
   "cell_type": "code",
   "execution_count": null,
   "id": "c23ac921-8bc8-4c25-96be-4ff7e37000f4",
   "metadata": {
    "tags": []
   },
   "outputs": [],
   "source": [
    "display(HTML(DT(df_cog, columnDefs=[{\"className\": \"dt-center\", \"targets\": \"_all\"}],)))"
   ]
  },
  {
   "cell_type": "markdown",
   "id": "1edae5a4-1438-4474-91ca-3b72fc84f43d",
   "metadata": {},
   "source": [
    "Presence absence matrix of the eggNOG orthologous groups at widest annotation level (e.g. at Phylum level)."
   ]
  },
  {
   "cell_type": "code",
   "execution_count": null,
   "id": "e86dde77-af3e-42a1-8485-c7ad4afc56be",
   "metadata": {},
   "outputs": [],
   "source": [
    "display(HTML(DT(df_eggNOG_PA, columnDefs=[{\"className\": \"dt-center\", \"targets\": \"_all\"}],)))"
   ]
  },
  {
   "cell_type": "markdown",
   "id": "4d8fe1ca-30f9-472a-9e01-4e9db61825b8",
   "metadata": {},
   "source": [
    "## References\n",
    "\n",
    "<font size=\"2\">\n",
    "\n",
    "{% for i in project().rule_used['eggnog']['references'] %}\n",
    "- *{{ i }}*\n",
    "{% endfor %}\n",
    "\n",
    "</font>"
   ]
  }
 ],
 "metadata": {
  "kernelspec": {
   "display_name": "Python 3 (ipykernel)",
   "language": "python",
   "name": "python3"
  },
  "language_info": {
   "codemirror_mode": {
    "name": "ipython",
    "version": 3
   },
   "file_extension": ".py",
   "mimetype": "text/x-python",
   "name": "python",
   "nbconvert_exporter": "python",
   "pygments_lexer": "ipython3",
   "version": "3.11.0"
  }
 },
 "nbformat": 4,
 "nbformat_minor": 5
}
