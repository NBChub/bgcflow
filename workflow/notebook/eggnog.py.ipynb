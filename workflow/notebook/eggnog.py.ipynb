{
 "cells": [
  {
   "cell_type": "markdown",
   "id": "aa0f0d95-5e6b-436f-a971-9486d0841329",
   "metadata": {},
   "source": [
    "# eggNOG-mapper\n",
    "Summary of [eggNOG-mapper](link) results from project: `[{{ project().name }}]` \n",
    "\n",
    "## Description\n",
    "Fast functional annotation of novel sequences using precomputed orthologous groups and phylogenies from the [eggNOG database](http://eggnog5.embl.de) "
   ]
  },
  {
   "cell_type": "code",
   "execution_count": null,
   "id": "d21448bb-afe9-4fdb-b964-2143a0ccd1e4",
   "metadata": {
    "tags": []
   },
   "outputs": [],
   "source": [
    "import pandas as pd\n",
    "import matplotlib.pyplot as plt\n",
    "from pathlib import Path\n",
    "from IPython.display import display, Markdown, HTML\n",
    "import json\n",
    "#import altair as alt\n",
    "\n",
    "import seaborn as sns\n",
    "cm = sns.light_palette(\"seagreen\", as_cmap=True)\n",
    "\n",
    "import warnings\n",
    "warnings.filterwarnings('ignore')\n",
    "\n",
    "from itables import to_html_datatable as DT\n",
    "import itables.options as opt\n",
    "\n",
    "opt.css = \"\"\"\n",
    ".itables table td { font-style: italic; font-size: .8em;}\n",
    ".itables table th { font-style: oblique; font-size: .8em; }\n",
    "\"\"\"\n",
    "opt.classes = [\"display\", \"compact\"]\n",
    "opt.lengthMenu = [5, 10, 20, 50, 100, 200, 500]"
   ]
  },
  {
   "cell_type": "code",
   "execution_count": null,
   "id": "53fb8b15-379c-4be1-827e-243602f89d95",
   "metadata": {
    "tags": []
   },
   "outputs": [],
   "source": [
    "#### UPDATE\n",
    "report_dir = Path(\"../\")\n",
    "eggnog_interim = report_dir / \"../../interim/eggnog\"\n",
    "eggnog_dir = eggnog_interim"
   ]
  },
  {
   "cell_type": "code",
   "execution_count": null,
   "id": "bbaacb50-0936-4056-9c1d-c6997f4dd947",
   "metadata": {},
   "outputs": [],
   "source": [
    "df_gtdb = pd.read_csv(report_dir/ \"tables\" / \"df_gtdb_meta.csv\", index_col=0)"
   ]
  },
  {
   "cell_type": "code",
   "execution_count": null,
   "id": "fe55197b-a0cf-4044-a989-74f3019913dd",
   "metadata": {},
   "outputs": [],
   "source": [
    "# Source - https://github.com/SBRG/pymodulon/blob/master/src/pymodulon/gene_util.py\n",
    "def get_cog_dict():\n",
    "    \"\"\"\n",
    "    Get COG dict\n",
    "    \"\"\"\n",
    "\n",
    "    cog_dict = {\n",
    "        \"A\": \"RNA processing and modification\",\n",
    "        \"B\": \"Chromatin structure and dynamics\",\n",
    "        \"C\": \"Energy production and conversion\",\n",
    "        \"D\": \"Cell cycle control, cell division, chromosome partitioning\",\n",
    "        \"E\": \"Amino acid transport and metabolism\",\n",
    "        \"F\": \"Nucleotide transport and metabolism\",\n",
    "        \"G\": \"Carbohydrate transport and metabolism\",\n",
    "        \"H\": \"Coenzyme transport and metabolism\",\n",
    "        \"I\": \"Lipid transport and metabolism\",\n",
    "        \"J\": \"Translation, ribosomal structure and biogenesis\",\n",
    "        \"K\": \"Transcription\",\n",
    "        \"L\": \"Replication, recombination and repair\",\n",
    "        \"M\": \"Cell wall/membrane/envelope biogenesis\",\n",
    "        \"N\": \"Cell motility\",\n",
    "        \"O\": \"Post-translational modification, protein turnover, and chaperones\",\n",
    "        \"P\": \"Inorganic ion transport and metabolism\",\n",
    "        \"Q\": \"Secondary metabolites biosynthesis, transport, and catabolism\",\n",
    "        \"R\": \"General function prediction only\",\n",
    "        \"S\": \"Function unknown\",\n",
    "        \"T\": \"Signal transduction mechanisms\",\n",
    "        \"U\": \"Intracellular trafficking, secretion, and vesicular transport\",\n",
    "        \"V\": \"Defense mechanisms\",\n",
    "        \"W\": \"Extracellular structures\",\n",
    "        \"X\": \"Mobilome: prophages, transposons\",\n",
    "        \"Y\": \"Nuclear structure\",\n",
    "        \"Z\": \"Cytoskeleton\",\n",
    "        \"-\": \"Not found in COG\"\n",
    "    }\n",
    "\n",
    "    return cog_dict\n",
    "\n",
    "cog_dict = get_cog_dict()\n",
    "df_cog_annotation = pd.DataFrame(list(cog_dict.items()), columns=['COG_category', 'Description'])"
   ]
  },
  {
   "cell_type": "code",
   "execution_count": null,
   "id": "b91eb658-e4e5-4f15-ad24-0047c6f23fe0",
   "metadata": {},
   "outputs": [],
   "source": [
    "def get_eggnog_stats(df_genomes, eggnog_dir, cog_dict):\n",
    "    '''\n",
    "    Returns dataframe with eggnog statistics\n",
    "    '''\n",
    "    eggnog_tables = []\n",
    "    \n",
    "    df_cog = pd.DataFrame(0, index=df_genomes.index, columns=list(cog_dict.keys()))\n",
    "    df_cog_unique = pd.DataFrame(0, index=df_genomes.index, columns=list(cog_dict.keys()))\n",
    "    \n",
    "    df_eggNOG_PA = pd.DataFrame(index=df_genomes.index)\n",
    "    \n",
    "    df_kegg_module = pd.DataFrame(index=df_genomes.index)\n",
    "    df_kegg_module_unique = pd.DataFrame(index=df_genomes.index)\n",
    "\n",
    "    for genome_id in df_genomes.index:\n",
    "        tsv_file = genome_id + \".emapper.annotations\"\n",
    "        eggnog_table_path = eggnog_dir/ genome_id/ tsv_file\n",
    "        if eggnog_table_path.is_file():\n",
    "            df_eggnog = pd.read_csv(eggnog_table_path, sep=\"\\t\", header=4, index_col=\"#query\").iloc[:-3,:]\n",
    "            df_eggnog.index.name = \"locus_tag\"\n",
    "            df_eggnog[\"genome_id\"] = genome_id\n",
    "            eggnog_tables.append(df_eggnog)\n",
    "            \n",
    "            for locus_tag in df_eggnog.index:\n",
    "                cog_value = df_eggnog.loc[locus_tag, \"COG_category\"]\n",
    "                if len(cog_value) == 1:\n",
    "                    cog_id = cog_value\n",
    "                    df_cog.loc[genome_id, cog_id] = df_cog.loc[genome_id, cog_id] + 1\n",
    "                    df_cog_unique.loc[genome_id, cog_id] = df_cog_unique.loc[genome_id, cog_id] + 1\n",
    "                else:\n",
    "                    for cog_id in cog_value:\n",
    "                        df_cog.loc[genome_id, cog_id] = df_cog.loc[genome_id, cog_id] + 1 \n",
    "                \n",
    "                max_annot_lvl = df_eggnog.loc[locus_tag, \"max_annot_lvl\"]\n",
    "                eggNOG_OGs_list =  df_eggnog.loc[locus_tag, \"eggNOG_OGs\"].split(\",\")\n",
    "                eggNOG_OG_dict = dict()\n",
    "    \n",
    "                for eggNOG_OG in eggNOG_OGs_list:\n",
    "                    annot_lvl = eggNOG_OG.split(\"@\")[1]\n",
    "                    OG_value = eggNOG_OG.split(\"@\")[0]\n",
    "                    eggNOG_OG_dict[annot_lvl] = OG_value\n",
    "                \n",
    "                if max_annot_lvl in eggNOG_OG_dict.keys():\n",
    "                    selected_OG = eggNOG_OG_dict[max_annot_lvl]\n",
    "                \n",
    "                if selected_OG not in df_eggNOG_PA.columns:\n",
    "                    df_eggNOG_PA.loc[:, selected_OG] = 0\n",
    "                    df_eggNOG_PA.loc[genome_id, selected_OG] = 1\n",
    "                else:\n",
    "                    df_eggNOG_PA.loc[genome_id, selected_OG] = df_eggNOG_PA.loc[genome_id, selected_OG] + 1\n",
    "                \n",
    "    df_cog = df_cog.reindex(columns=df_cog.sum().sort_values(ascending=False).index)\n",
    "    df_cog_unique = df_cog_unique.reindex(columns=df_cog.sum().sort_values(ascending=False).index)\n",
    "    \n",
    "    df_cog_names = df_cog.rename(columns=cog_dict)\n",
    "    df_cog_unique_names = df_cog_unique.rename(columns=cog_dict)\n",
    "    \n",
    "    df_eggNOG_PA = df_eggNOG_PA.reindex(columns=df_eggNOG_PA.sum().sort_values(ascending=False).index)\n",
    "\n",
    "    df_eggnog_raw = pd.concat(eggnog_tables)\n",
    "    \n",
    "    return df_cog, df_cog_names, df_cog_unique, df_cog_unique_names, df_eggNOG_PA, df_eggnog_raw\n",
    "\n",
    "df_cog, df_cog_names, df_cog_unique, df_cog_unique_names, df_eggNOG_PA, df_eggnog_raw = get_eggnog_stats(df_gtdb, eggnog_interim, cog_dict)"
   ]
  },
  {
   "cell_type": "markdown",
   "id": "8984c203-d0b2-4bb9-ac8e-7db534864ea8",
   "metadata": {},
   "source": [
    "## Summary Table\n",
    "\n",
    "### Summary of number of unique genes belonging to each of the COG categories"
   ]
  },
  {
   "cell_type": "code",
   "execution_count": null,
   "id": "c23ac921-8bc8-4c25-96be-4ff7e37000f4",
   "metadata": {
    "tags": []
   },
   "outputs": [],
   "source": [
    "sns.clustermap(df_cog, cmap='YlGnBu', annot=True, fmt=\"d\", method='ward', linewidths=.5)\n",
    "plt.title('Clustered Heatmap of COG Categories across Genomes', loc='left', fontsize=16)\n",
    "plt.show()\n",
    "\n",
    "#display(HTML(DT(df_cog_unique, columnDefs=[{\"className\": \"dt-center\", \"targets\": \"_all\"}],)))"
   ]
  },
  {
   "cell_type": "markdown",
   "id": "7e757544-2bde-4b14-a0a7-b74df3be9bf5",
   "metadata": {},
   "source": [
    "##### Legend"
   ]
  },
  {
   "cell_type": "code",
   "execution_count": null,
   "id": "76f88694-098f-401d-bc60-a825843318e6",
   "metadata": {},
   "outputs": [],
   "source": [
    "display(HTML(DT(df_cog_annotation, columnDefs=[{\"className\": \"dt-left\", \"targets\": \"_all\"}],)))"
   ]
  },
  {
   "cell_type": "code",
   "execution_count": null,
   "id": "a26c2ae3-f272-4f4c-8382-e9c827c40abf",
   "metadata": {},
   "outputs": [],
   "source": [
    "variables_list = [df_cog, df_cog_names, df_cog_unique, df_cog_unique_names, df_eggNOG_PA, df_eggnog_raw]\n",
    "variable_names = ['df_cog', 'df_cog_names', 'df_cog_unique', 'df_cog_unique_names', 'df_eggNOG_PA', 'df_eggnog_raw']\n",
    "\n",
    "# Create the dictionary\n",
    "variables_dict = dict(zip(variable_names, variables_list))\n",
    "\n",
    "outdir = report_dir / \"docs/assets/tables/eggnog\"\n",
    "outdir.mkdir(parents=True, exist_ok=True)\n",
    "for k, v in variables_dict.items():\n",
    "    outfile = outdir / f\"{k}.tsv\"\n",
    "    v.to_csv(outfile, sep=\"\\t\")"
   ]
  },
  {
   "cell_type": "markdown",
   "id": "0594ec3c-160c-4e05-aa54-8c736a89ac33",
   "metadata": {},
   "source": [
    "[Download Table]({{ project().file_server() }}/docs/assets/tables/eggnog/df_eggnog_raw.tsv){:target=\"_blank\" .md-button}"
   ]
  },
  {
   "cell_type": "markdown",
   "id": "4d8fe1ca-30f9-472a-9e01-4e9db61825b8",
   "metadata": {},
   "source": [
    "## References\n",
    "\n",
    "<font size=\"2\">\n",
    "\n",
    "{% for i in project().rule_used['eggnog']['references'] %}\n",
    "- *{{ i }}*\n",
    "{% endfor %}\n",
    "\n",
    "</font>"
   ]
  }
 ],
 "metadata": {
  "kernelspec": {
   "display_name": "Python 3 (ipykernel)",
   "language": "python",
   "name": "python3"
  },
  "language_info": {
   "codemirror_mode": {
    "name": "ipython",
    "version": 3
   },
   "file_extension": ".py",
   "mimetype": "text/x-python",
   "name": "python",
   "nbconvert_exporter": "python",
   "pygments_lexer": "ipython3",
   "version": "3.11.5"
  }
 },
 "nbformat": 4,
 "nbformat_minor": 5
}
