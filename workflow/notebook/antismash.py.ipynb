{
 "cells": [
  {
   "cell_type": "markdown",
   "id": "ce8cfe38-9a71-4ee7-93fd-3a1f3b4b84bf",
   "metadata": {},
   "source": [
    "# antiSMASH \n",
    "Summary of BGCs detected in each genome for: `[{{ project().name }}]`\n",
    "\n",
    "## Description\n",
    "> antiSMASH allows the rapid genome-wide identification, annotation and analysis of secondary metabolite biosynthesis gene clusters in bacterial and fungal genomes."
   ]
  },
  {
   "cell_type": "code",
   "execution_count": null,
   "id": "0a9ebdaf-3412-41d7-8c51-1d9b14cad4d1",
   "metadata": {
    "tags": []
   },
   "outputs": [],
   "source": [
    "import pandas as pd\n",
    "from pathlib import Path\n",
    "from IPython.display import display, Markdown, HTML\n",
    "import json\n",
    "import altair as alt\n",
    "\n",
    "import warnings\n",
    "warnings.filterwarnings('ignore')\n",
    "\n",
    "from itables import to_html_datatable as DT\n",
    "import itables.options as opt\n",
    "opt.css = \"\"\"\n",
    ".itables table td { font-style: italic; font-size: .8em;}\n",
    ".itables table th { font-style: oblique; font-size: .8em; }\n",
    "\"\"\"\n",
    "opt.classes = [\"display\", \"compact\"]\n",
    "opt.lengthMenu = [5, 10, 20, 50, 100, 200, 500]\n",
    "\n",
    "import seaborn as sns\n",
    "cm = sns.light_palette(\"green\", as_cmap=True)\n",
    "\n",
    "report_dir = Path(\"../\")"
   ]
  },
  {
   "cell_type": "code",
   "execution_count": null,
   "id": "02d6f521-3a1c-46e9-a5d3-fb6a24400c82",
   "metadata": {},
   "outputs": [],
   "source": [
    "dependency_version = report_dir / \"metadata/dependency_versions.json\"\n",
    "with open(dependency_version, \"r\") as file:\n",
    "    dependency_version = json.load(file)\n",
    "antismash_version = dependency_version[\"antismash\"]"
   ]
  },
  {
   "cell_type": "code",
   "execution_count": null,
   "id": "0d8270fd-78f6-40db-b993-c7948111137c",
   "metadata": {
    "tags": []
   },
   "outputs": [],
   "source": [
    "antismash_table = report_dir / f\"tables/df_antismash_{antismash_version}_summary.csv\"\n",
    "gtdb_table = report_dir / \"tables/df_gtdb_meta.csv\"\n",
    "\n",
    "df_antismash = pd.read_csv(antismash_table).set_index(\"genome_id\", drop=False)\n",
    "df_gtdb = pd.read_csv(gtdb_table).set_index(\"genome_id\", drop=False)\n",
    "\n",
    "# correct organism name\n",
    "for idx in df_gtdb.index:\n",
    "    if df_gtdb.loc[idx, \"Organism\"] == \"s__\":\n",
    "        genus = df_gtdb.loc[idx, 'Genus'].split('__')[1]\n",
    "        df_gtdb.loc[idx, 'Organism'] = f\"s__{genus} sp.\" \n",
    "        \n",
    "df_raw = pd.DataFrame(index=df_antismash.index)\n",
    "df_raw[\"Genome ID\"] = df_antismash['genome_id']\n",
    "df_raw['GTDB genus'] = [df_gtdb.loc[idx, 'Genus'].split('__')[1] for idx in df_raw.index]\n",
    "df_raw['GTDB species'] = [f\"{df_gtdb.loc[idx, 'Organism'].split('__')[1]}\" for idx in df_raw.index]\n",
    "try:\n",
    "    df_raw['Strain'] = df_antismash.loc[df_raw.index, 'strain']\n",
    "except KeyError:\n",
    "    pass\n",
    "df_raw['BGCs'] = df_antismash.loc[df_raw.index, 'bgcs_count']\n",
    "df_raw['Incomplete BGCs'] = df_antismash.loc[df_raw.index, 'bgcs_on_contig_edge']\n",
    "\n",
    "df = df_raw.copy()\n",
    "for i in df.index:\n",
    "    gid = df.loc[i, 'Genome ID']\n",
    "    server_path = \"<a href='{{ project().file_server() }}/antismash/{{project().dependency_version()}}/\"\n",
    "    df.loc[i, \"Genome ID\"] = server_path + f\"{gid}/index.html' target='_blank''>{gid}</a>\"\n",
    "df = df.reset_index(drop=True)"
   ]
  },
  {
   "cell_type": "markdown",
   "id": "c9910c4b-05be-4759-b646-a9b1a0ff4b46",
   "metadata": {},
   "source": [
    "## Result Summary"
   ]
  },
  {
   "cell_type": "code",
   "execution_count": null,
   "id": "d0260a3a-c42c-4390-87d5-2f146443a220",
   "metadata": {
    "tags": []
   },
   "outputs": [],
   "source": [
    "region = df_antismash.bgcs_count\n",
    "incomplete = df_antismash.bgcs_on_contig_edge\n",
    "text = f\"\"\"AntiSMASH detected **{int(region.sum())}** BGCs from **{len(region)}** genomes with the median of **{int(region.median())}**. Out of these, **{'{:.2%}'.format(1 - incomplete.sum()/region.sum())}** are deemed as complete.\"\"\"\n",
    "display(Markdown(text))"
   ]
  },
  {
   "cell_type": "markdown",
   "id": "b8f598b9-c7ba-4a17-9ba4-ea582cdf6a40",
   "metadata": {},
   "source": [
    "> Note: Here the incomplete BGCs are denoted by those that were identified to be on the contig edge by antiSMASH and thus are likely to be incomplete."
   ]
  },
  {
   "cell_type": "code",
   "execution_count": null,
   "id": "10c665db-7457-4964-8154-e463aa4491cf",
   "metadata": {
    "tags": []
   },
   "outputs": [],
   "source": [
    "source = df_raw\n",
    "\n",
    "base = alt.Chart(source)\n",
    "\n",
    "bar = base.mark_bar().encode(\n",
    "    x=alt.X('BGCs:Q', bin=True, axis=alt.Axis(title='BGCs')), \n",
    "    y=alt.X('count()', axis=alt.Axis(title='Genomes')),\n",
    "    color='GTDB genus',\n",
    "    tooltip=['Genome ID', 'GTDB species', 'BGCs', 'Incomplete BGCs']\n",
    ").interactive()\n",
    "\n",
    "bar "
   ]
  },
  {
   "cell_type": "markdown",
   "id": "27fe87a5-a05f-4dd2-a6ba-7c9c8c33c20d",
   "metadata": {},
   "source": [
    "## Summary Table\n",
    "Click on the genome ids to get the antiSMASH result.\n",
    "\n",
    "[Download Table]({{ project().file_server() }}/tables/df_antismash_{{project().dependency_version()}}_summary.csv){:target=\"_blank\" .md-button}"
   ]
  },
  {
   "cell_type": "code",
   "execution_count": null,
   "id": "4c45ace1-17ee-421e-b6f5-398f7e73fb64",
   "metadata": {},
   "outputs": [],
   "source": [
    "df = df.fillna(0)\n",
    "for c in df.columns:\n",
    "    if c in [\"BGCs\", \"Incomplete BGCs\"]:\n",
    "        df[c] = df[c].astype(int)\n",
    "    else:\n",
    "        df[c] = df[c].astype(str)"
   ]
  },
  {
   "cell_type": "code",
   "execution_count": null,
   "id": "65acb557-bc21-4db9-8130-3100134e0620",
   "metadata": {
    "tags": []
   },
   "outputs": [],
   "source": [
    "display(HTML(DT(df.style.background_gradient(cmap=cm, axis=None), columnDefs=[{\"className\": \"dt-center\", \"targets\": \"_all\"}],)))"
   ]
  },
  {
   "cell_type": "markdown",
   "id": "284b0d5f-a893-44cb-9725-6c6066a31a5d",
   "metadata": {},
   "source": [
    "## Regions Summary"
   ]
  },
  {
   "cell_type": "code",
   "execution_count": null,
   "id": "0fdd5327",
   "metadata": {},
   "outputs": [],
   "source": [
    "regions_table = report_dir / f\"tables/df_regions_antismash_{antismash_version}.csv\"\n",
    "df_regions_table = pd.read_csv(regions_table)\n",
    "\n",
    "server_path = \"<a href='{{ project().file_server() }}/antismash/{{project().dependency_version()}}/\"\n",
    "df_regions_table[\"similarity\"] = df_regions_table['similarity'].fillna(0)\n",
    "\n",
    "df_regions_table.most_similar_known_cluster_type = df_regions_table.most_similar_known_cluster_type.fillna(\"No Hits\")\n",
    "for i in df_regions_table.index:\n",
    "    value = df_regions_table.loc[i, \"most_similar_known_cluster_type\"]\n",
    "    value = list(set(value.split(\":\")[0].split(\"+\")))\n",
    "    if len(value) > 1:\n",
    "        value = [\"Hybrid\"]\n",
    "    df_regions_table.loc[i, \"most_similar_known_cluster_type_simplified\"] = value[0]\n",
    "\n",
    "for i in df_regions_table.index:\n",
    "    gid = df_regions_table.loc[i, \"genome_id\"]\n",
    "    r, c = str(df_regions_table.loc[i, \"region\"]).split(\".\")\n",
    "    region_id = f\"#r{r}c{c}\"\n",
    "    bgc_id = df_regions_table.loc[i, \"bgc_id\"]\n",
    "    df_regions_table.loc[i, \"Genome ID\"] = server_path + f\"{gid}/index.html' target='_blank''>{gid}</a>\"\n",
    "    df_regions_table.loc[i, \"BGC ID\"] = server_path + f\"{gid}/index.html{region_id}' target='_blank''>{bgc_id}</a>\"\n",
    "    if df_regions_table.loc[i, \"similarity\"] > 1:\n",
    "        df_regions_table.loc[i, \"similarity\"] = 1\n",
    "    df_regions_table.loc[i, \"Similarity\"] = f\"{df_regions_table.loc[i, 'similarity']:.1%}\"\n",
    "    most_similar_known_cluster_description = df_regions_table.loc[i, 'most_similar_known_cluster_description']\n",
    "    most_similar_known_cluster_id = df_regions_table.loc[i, 'most_similar_known_cluster_id']\n",
    "    if type(most_similar_known_cluster_id) == str:\n",
    "        df_regions_table.loc[i, \"Most Similar Known Cluster\"] =  f\"<a href='https://mibig.secondarymetabolites.org/repository/{most_similar_known_cluster_id}/index.html' target='_blank''>{most_similar_known_cluster_description}</a>\"\n",
    "    else:\n",
    "        df_regions_table.loc[i, \"Most Similar Known Cluster\"] = most_similar_known_cluster_id"
   ]
  },
  {
   "cell_type": "code",
   "execution_count": null,
   "id": "6260ff74",
   "metadata": {},
   "outputs": [],
   "source": [
    "#How many in total?\n",
    "total_bgcs = len(df_regions_table)\n",
    "\n",
    "#How many known BGCs? above 80%\n",
    "known_count = df_regions_table.loc[df_regions_table['similarity'] > 0.8].shape[0]\n",
    "medium_count = df_regions_table.loc[(df_regions_table['similarity'] <= 0.8) & (df_regions_table['similarity'] > 0.4)].shape[0]\n",
    "low_count = df_regions_table.loc[(df_regions_table['similarity'] <= 0.4) & (df_regions_table['similarity'] > 0)].shape[0]\n",
    "\n",
    "#what are they?\n",
    "items = df_regions_table.loc[df_regions_table['similarity'] > 0.8, \"most_similar_known_cluster_description\"].value_counts().to_dict()\n",
    "\n",
    "#How many does not have hits?\n",
    "unknown_count = df_regions_table.loc[df_regions_table.most_similar_known_cluster_type_simplified == \"No Hits\"].shape[0]\n",
    "\n",
    "text1 = f\"\"\"\n",
    "* KnownClusterBlast hits **{known_count}** out of **{total_bgcs}** BGC regions with *high similarity* (>80%) to MIBIG entries.\n",
    "* Those entries includes: {', '.join([f'**{k}** ({v})' for k,v in items.items()])}.\n",
    "* There are **{medium_count}** BGC regions with **medium** similarity (<80%) to MIBIG entries.\n",
    "* There are **{low_count}** BGC regions with **low** similarity (<40%) to MIBIG entries.\n",
    "* There are also **{unknown_count}** BGC regions that **does not have any hits** to the MIBIG entries.\n",
    "\"\"\"\n",
    "display(Markdown(text1))"
   ]
  },
  {
   "cell_type": "code",
   "execution_count": null,
   "id": "3c80b670-1aee-4d2d-ae58-3dd8dbb04d8f",
   "metadata": {},
   "outputs": [],
   "source": [
    "options = [i for i in df_regions_table['most_similar_known_cluster_type_simplified'].unique()]\n",
    "\n",
    "resize = alt.selection_interval(bind='scales')\n",
    "\n",
    "# Create a brush selection for the y-axis\n",
    "#brush = alt.selection_interval(encodings=['y'])\n",
    "\n",
    "source = df_regions_table\n",
    "\n",
    "base = alt.Chart(source)\n",
    "\n",
    "labels = [option + ' ' for option in options]\n",
    "\n",
    "input_dropdown = alt.binding_select(options=options + [None],\n",
    "                                    labels=labels + ['All '],\n",
    "                                    name='Most Similar Known Cluster Type ')\n",
    "\n",
    "selection = alt.selection_point(fields=['most_similar_known_cluster_type_simplified'], \n",
    "                                bind=input_dropdown)\n",
    "\n",
    "color = alt.condition(\n",
    "    selection,\n",
    "    alt.Color('most_similar_known_cluster_type_simplified:N').legend(None),\n",
    "    alt.value('lightgray')\n",
    ")\n",
    "\n",
    "scatter = base.mark_circle(size=75).encode(\n",
    "    x=alt.X('region_length:Q', title=\"BGC Region Length (bp)\"),\n",
    "    y=alt.Y('similarity:Q', title=\"KnownClusterBlast Similarity (%)\").axis(format='%'),\n",
    "    color=color,\n",
    "    #opacity=alt.condition(brush, alt.value(0.8), alt.value(0.01)),\n",
    "    tooltip=['bgc_id', 'genome_id', 'region', 'accession', 'start_pos', 'end_pos',\n",
    "             'contig_edge', 'product', 'region_length',\n",
    "             'most_similar_known_cluster_id',\n",
    "             'most_similar_known_cluster_description',\n",
    "             'most_similar_known_cluster_type', 'Similarity']\n",
    ").add_params(\n",
    "    selection,\n",
    "    #brush\n",
    ").properties(\n",
    "    height=400,\n",
    "    width=600\n",
    ").add_selection(\n",
    "    resize\n",
    ")\n",
    "\n",
    "legend = base.mark_circle(size=75).encode(\n",
    "    alt.Y('most_similar_known_cluster_type_simplified:N', title=\"Most Similar Known Cluster Type\").axis(orient='right'),\n",
    "    color=color\n",
    ")\n",
    "\n",
    "chart2 = base.mark_bar().encode(\n",
    "    x=alt.X('count()', title='BGC Region Count'),\n",
    "    y=alt.Y('similarity:Q', title=\"\").axis(format='%').bin(maxbins=30),\n",
    "    color=color\n",
    ").add_params(\n",
    "    selection,\n",
    "    #brush\n",
    ").properties(\n",
    "    height=400,\n",
    "    width=100\n",
    ").add_selection(\n",
    "    resize\n",
    ")\n",
    "\n",
    "scatter | chart2 | legend"
   ]
  },
  {
   "cell_type": "markdown",
   "id": "fa933ce3",
   "metadata": {},
   "source": [
    "Click on the BGC ids to go to the region's antiSMASH result.\n",
    "\n",
    "[Download Table]({{ project().file_server() }}/tables/df_regions_antismash_{{project().dependency_version()}}.csv){:target=\"_blank\" .md-button}"
   ]
  },
  {
   "cell_type": "code",
   "execution_count": null,
   "id": "212153da-5956-4beb-afb0-c6dd0c0260fd",
   "metadata": {},
   "outputs": [],
   "source": [
    "display(HTML(DT(df_regions_table.loc[:, [\"BGC ID\", \"Genome ID\", \"region\", \"product\", \"Most Similar Known Cluster\", \n",
    "                                         \"Similarity\", \"contig_edge\"]], columnDefs=[{\"className\": \"dt-center\", \"targets\": \"_all\"}],)))"
   ]
  },
  {
   "cell_type": "markdown",
   "id": "a9111659-b673-4842-8ef3-d0fa9b52aa8c",
   "metadata": {},
   "source": [
    "## References\n",
    "<font size=\"2\">\n",
    "{% for i in project().rule_used['antismash']['references'] %}\n",
    "- {{ i }} \n",
    "{% endfor %}\n",
    "</font>"
   ]
  }
 ],
 "metadata": {
  "kernelspec": {
   "display_name": "Python 3 (ipykernel)",
   "language": "python",
   "name": "python3"
  },
  "language_info": {
   "codemirror_mode": {
    "name": "ipython",
    "version": 3
   },
   "file_extension": ".py",
   "mimetype": "text/x-python",
   "name": "python",
   "nbconvert_exporter": "python",
   "pygments_lexer": "ipython3",
   "version": "3.10.13"
  }
 },
 "nbformat": 4,
 "nbformat_minor": 5
}
