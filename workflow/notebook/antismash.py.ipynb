{
 "cells": [
  {
   "cell_type": "markdown",
   "id": "ce8cfe38-9a71-4ee7-93fd-3a1f3b4b84bf",
   "metadata": {},
   "source": [
    "# antiSMASH \n",
    "Summary of BGCs detected in each genome for: `[{{ project().name }}]`\n",
    "\n",
    "## Description\n",
    "> antiSMASH allows the rapid genome-wide identification, annotation and analysis of secondary metabolite biosynthesis gene clusters in bacterial and fungal genomes."
   ]
  },
  {
   "cell_type": "code",
   "execution_count": 70,
   "id": "0a9ebdaf-3412-41d7-8c51-1d9b14cad4d1",
   "metadata": {
    "tags": []
   },
   "outputs": [],
   "source": [
    "import pandas as pd\n",
    "from pathlib import Path\n",
    "from IPython.display import display, Markdown, HTML\n",
    "import json\n",
    "import altair as alt\n",
    "\n",
    "import warnings\n",
    "warnings.filterwarnings('ignore')\n",
    "\n",
    "from itables import to_html_datatable as DT\n",
    "import itables.options as opt\n",
    "opt.classes = [\"display\", \"compact\"]\n",
    "opt.lengthMenu = [5, 10, 20, 50, 100, 200, 500]\n",
    "\n",
    "\n",
    "report_dir = Path(\"../\")"
   ]
  },
  {
   "cell_type": "code",
   "execution_count": 71,
   "id": "0d8270fd-78f6-40db-b993-c7948111137c",
   "metadata": {
    "tags": []
   },
   "outputs": [],
   "source": [
    "antismash_table = report_dir / \"tables/df_antismash_6.1.1_summary.csv\"\n",
    "gtdb_table = report_dir / \"tables/df_gtdb_meta.csv\"\n",
    "ncbi_table = report_dir / \"tables/df_ncbi_meta.csv\"\n",
    "\n",
    "df_antismash = pd.read_csv(antismash_table, index_col=0)\n",
    "df_gtdb = pd.read_csv(gtdb_table, index_col=0)\n",
    "df_ncbi = pd.read_csv(ncbi_table, index_col=0)\n",
    "\n",
    "df_raw = pd.DataFrame(index=df_antismash.index)\n",
    "df_raw[\"Genome ID\"] = df_antismash['genome_id']\n",
    "\n",
    "df_raw['Organism name'] = df_ncbi.loc[df_raw.index, 'organism']\n",
    "df_raw['GTDB species'] = [df_gtdb.loc[idx, 'Organism'].split('__')[1] for idx in df_raw.index]\n",
    "df_raw['BGCs'] = df_antismash.loc[df_raw.index, 'bgcs_count']\n",
    "df_raw['Incomplete BGCs'] = df_antismash.loc[df_raw.index, 'bgcs_on_contig_edge']\n",
    "\n",
    "df = df_raw.copy()\n",
    "for i in df.index:\n",
    "    gid = df.loc[i, 'Genome ID']\n",
    "    server_path = \"<a href='{{ project().file_server() }}/antismash/6.1.1/\"\n",
    "    df.loc[i, \"Genome ID\"] = server_path + f\"{gid}/index.html' target='_blank''>{gid}</a>\"\n",
    "df = df.reset_index(drop=True)"
   ]
  },
  {
   "cell_type": "markdown",
   "id": "c9910c4b-05be-4759-b646-a9b1a0ff4b46",
   "metadata": {},
   "source": [
    "## Result Summary"
   ]
  },
  {
   "cell_type": "code",
   "execution_count": 72,
   "id": "d0260a3a-c42c-4390-87d5-2f146443a220",
   "metadata": {
    "tags": []
   },
   "outputs": [
    {
     "data": {
      "text/markdown": [
       "AntiSMASH detected 206 BGCs from 5 genomes with the median of 38. Out of these, 99.51% are deemed as complete."
      ],
      "text/plain": [
       "<IPython.core.display.Markdown object>"
      ]
     },
     "metadata": {},
     "output_type": "display_data"
    }
   ],
   "source": [
    "region = df_antismash.bgcs_count\n",
    "incomplete = df_antismash.bgcs_on_contig_edge\n",
    "text = f\"\"\"AntiSMASH detected {int(region.sum())} BGCs from {len(region)} genomes with the median of {int(region.median())}. Out of these, {'{:.2%}'.format(1 - incomplete.sum()/region.sum())} are deemed as complete.\"\"\"\n",
    "display(Markdown(text))"
   ]
  },
  {
   "cell_type": "markdown",
   "id": "b8f598b9-c7ba-4a17-9ba4-ea582cdf6a40",
   "metadata": {},
   "source": [
    "> Note: Here the incomplete BGCs are denoted by those that were identified to be on the contig edge by antiSMASH and thus are likely to be incomplete."
   ]
  },
  {
   "cell_type": "code",
   "execution_count": 83,
   "id": "10c665db-7457-4964-8154-e463aa4491cf",
   "metadata": {
    "tags": []
   },
   "outputs": [
    {
     "data": {
      "text/html": [
       "\n",
       "<div id=\"altair-viz-c07579c3e1964df5aaaba0463381c9b0\"></div>\n",
       "<script type=\"text/javascript\">\n",
       "  var VEGA_DEBUG = (typeof VEGA_DEBUG == \"undefined\") ? {} : VEGA_DEBUG;\n",
       "  (function(spec, embedOpt){\n",
       "    let outputDiv = document.currentScript.previousElementSibling;\n",
       "    if (outputDiv.id !== \"altair-viz-c07579c3e1964df5aaaba0463381c9b0\") {\n",
       "      outputDiv = document.getElementById(\"altair-viz-c07579c3e1964df5aaaba0463381c9b0\");\n",
       "    }\n",
       "    const paths = {\n",
       "      \"vega\": \"https://cdn.jsdelivr.net/npm//vega@5?noext\",\n",
       "      \"vega-lib\": \"https://cdn.jsdelivr.net/npm//vega-lib?noext\",\n",
       "      \"vega-lite\": \"https://cdn.jsdelivr.net/npm//vega-lite@4.17.0?noext\",\n",
       "      \"vega-embed\": \"https://cdn.jsdelivr.net/npm//vega-embed@6?noext\",\n",
       "    };\n",
       "\n",
       "    function maybeLoadScript(lib, version) {\n",
       "      var key = `${lib.replace(\"-\", \"\")}_version`;\n",
       "      return (VEGA_DEBUG[key] == version) ?\n",
       "        Promise.resolve(paths[lib]) :\n",
       "        new Promise(function(resolve, reject) {\n",
       "          var s = document.createElement('script');\n",
       "          document.getElementsByTagName(\"head\")[0].appendChild(s);\n",
       "          s.async = true;\n",
       "          s.onload = () => {\n",
       "            VEGA_DEBUG[key] = version;\n",
       "            return resolve(paths[lib]);\n",
       "          };\n",
       "          s.onerror = () => reject(`Error loading script: ${paths[lib]}`);\n",
       "          s.src = paths[lib];\n",
       "        });\n",
       "    }\n",
       "\n",
       "    function showError(err) {\n",
       "      outputDiv.innerHTML = `<div class=\"error\" style=\"color:red;\">${err}</div>`;\n",
       "      throw err;\n",
       "    }\n",
       "\n",
       "    function displayChart(vegaEmbed) {\n",
       "      vegaEmbed(outputDiv, spec, embedOpt)\n",
       "        .catch(err => showError(`Javascript Error: ${err.message}<br>This usually means there's a typo in your chart specification. See the javascript console for the full traceback.`));\n",
       "    }\n",
       "\n",
       "    if(typeof define === \"function\" && define.amd) {\n",
       "      requirejs.config({paths});\n",
       "      require([\"vega-embed\"], displayChart, err => showError(`Error loading script: ${err.message}`));\n",
       "    } else {\n",
       "      maybeLoadScript(\"vega\", \"5\")\n",
       "        .then(() => maybeLoadScript(\"vega-lite\", \"4.17.0\"))\n",
       "        .then(() => maybeLoadScript(\"vega-embed\", \"6\"))\n",
       "        .catch(showError)\n",
       "        .then(() => displayChart(vegaEmbed));\n",
       "    }\n",
       "  })({\"config\": {\"view\": {\"continuousWidth\": 400, \"continuousHeight\": 300}}, \"data\": {\"name\": \"data-cda424a5c23566ec50d7a71233f6ab2e\"}, \"mark\": \"bar\", \"encoding\": {\"color\": {\"field\": \"GTDB species\", \"type\": \"nominal\"}, \"tooltip\": [{\"field\": \"Genome ID\", \"type\": \"nominal\"}, {\"field\": \"Organism name\", \"type\": \"nominal\"}, {\"field\": \"GTDB species\", \"type\": \"nominal\"}, {\"field\": \"BGCs\", \"type\": \"quantitative\"}, {\"field\": \"Incomplete BGCs\", \"type\": \"quantitative\"}], \"x\": {\"axis\": {\"title\": \"BGCs\"}, \"bin\": true, \"field\": \"BGCs\", \"type\": \"quantitative\"}, \"y\": {\"aggregate\": \"count\", \"axis\": {\"title\": \"Genomes\"}, \"type\": \"quantitative\"}}, \"selection\": {\"selector031\": {\"type\": \"interval\", \"bind\": \"scales\", \"encodings\": [\"x\", \"y\"]}}, \"$schema\": \"https://vega.github.io/schema/vega-lite/v4.17.0.json\", \"datasets\": {\"data-cda424a5c23566ec50d7a71233f6ab2e\": [{\"Genome ID\": \"GCF_000009765.2\", \"Organism name\": \"Streptomyces avermitilis MA-4680 = NBRC 14893 (high GC Gram+)\", \"GTDB species\": \"Streptomyces avermitilis\", \"BGCs\": 35.0, \"Incomplete BGCs\": 0.0}, {\"Genome ID\": \"GCF_000010605.1\", \"Organism name\": \"Streptomyces griseus subsp. griseus NBRC 13350 (high GC Gram+)\", \"GTDB species\": \"Streptomyces griseus\", \"BGCs\": 38.0, \"Incomplete BGCs\": 0.0}, {\"Genome ID\": \"GCF_000091305.1\", \"Organism name\": \"Streptomyces scabiei 87.22 (high GC Gram+)\", \"GTDB species\": \"Streptomyces scabiei\", \"BGCs\": 34.0, \"Incomplete BGCs\": 0.0}, {\"Genome ID\": \"GCF_000092385.1\", \"Organism name\": \"Streptomyces bingchenggensis BCW-1 (high GC Gram+)\", \"GTDB species\": \"Streptomyces milbemycinicus\", \"BGCs\": 51.0, \"Incomplete BGCs\": 1.0}, {\"Genome ID\": \"GCF_000147815.2\", \"Organism name\": \"Streptomyces violaceusniger Tu 4113 (high GC Gram+)\", \"GTDB species\": \"Streptomyces violaceusniger_A\", \"BGCs\": 48.0, \"Incomplete BGCs\": 0.0}]}}, {\"mode\": \"vega-lite\"});\n",
       "</script>"
      ],
      "text/plain": [
       "alt.Chart(...)"
      ]
     },
     "execution_count": 83,
     "metadata": {},
     "output_type": "execute_result"
    }
   ],
   "source": [
    "source = df_raw\n",
    "\n",
    "base = alt.Chart(source)\n",
    "\n",
    "bar = base.mark_bar().encode(\n",
    "    x=alt.X('BGCs:Q', bin=True, axis=alt.Axis(title='BGCs')), \n",
    "    y=alt.X('count()', axis=alt.Axis(title='Genomes')),\n",
    "    color='GTDB species',\n",
    "    tooltip=['Genome ID', 'Organism name', 'GTDB species', 'BGCs', 'Incomplete BGCs']\n",
    ").interactive()\n",
    "\n",
    "bar "
   ]
  },
  {
   "cell_type": "markdown",
   "id": "27fe87a5-a05f-4dd2-a6ba-7c9c8c33c20d",
   "metadata": {},
   "source": [
    "## Summary Table\n",
    "Click on the genome ids to get the antiSMASH result.\n",
    "\n",
    "[Download Table]({{ project().file_server() }}/tables/df_antismash_6.1.1_summary.csv){:target=\"_blank\" .md-button}"
   ]
  },
  {
   "cell_type": "code",
   "execution_count": 69,
   "id": "65acb557-bc21-4db9-8130-3100134e0620",
   "metadata": {
    "tags": []
   },
   "outputs": [
    {
     "data": {
      "text/html": [
       "<table id=\"dfd19eb1-c553-432f-8bce-d6a1efbd04a5\" class=\"display compact\"style=\"max-width:100%\"><thead>\n",
       "    <tr style=\"text-align: right;\">\n",
       "      \n",
       "      <th>Genome ID</th>\n",
       "      <th>Organism name</th>\n",
       "      <th>GTDB species</th>\n",
       "      <th>BGCs</th>\n",
       "      <th>Incomplete BGCs</th>\n",
       "    </tr>\n",
       "  </thead><tbody><tr><td>Loading... (need <a href=https://mwouts.github.io/itables/troubleshooting.html>help</a>?)</td></tr></tbody></table>\n",
       "<style>\n",
       "table td {\n",
       "    text-overflow: ellipsis;\n",
       "    overflow: hidden;\n",
       "}\n",
       "\n",
       "table th {\n",
       "    text-overflow: ellipsis;\n",
       "    overflow: hidden;\n",
       "}\n",
       "\n",
       "thead input {\n",
       "    width: 100%;\n",
       "    padding: 3px;\n",
       "    box-sizing: border-box;\n",
       "}\n",
       "\n",
       "tfoot input {\n",
       "    width: 100%;\n",
       "    padding: 3px;\n",
       "    box-sizing: border-box;\n",
       "}\n",
       "\n",
       "</style>\n",
       "<link rel=\"stylesheet\" type=\"text/css\" href=\"https://cdn.datatables.net/1.12.1/css/jquery.dataTables.min.css\">\n",
       "<script type=\"module\">\n",
       "    // Import jquery and DataTable\n",
       "    import 'https://code.jquery.com/jquery-3.6.0.min.js';\n",
       "    import dt from 'https://cdn.datatables.net/1.12.1/js/jquery.dataTables.mjs';\n",
       "    dt($);\n",
       "\n",
       "    // Define the table data\n",
       "    const data = [[\"<a href='{{ project().file_server() }}/antismash/6.1.1/GCF_000009765.2/index.html' target='_blank''>GCF_000009765.2</a>\", \"Streptomyces avermitilis MA-4680 = NBRC 14893 (high GC Gram+)\", \"Streptomyces avermitilis\", 35.0, 0.0], [\"<a href='{{ project().file_server() }}/antismash/6.1.1/GCF_000010605.1/index.html' target='_blank''>GCF_000010605.1</a>\", \"Streptomyces griseus subsp. griseus NBRC 13350 (high GC Gram+)\", \"Streptomyces griseus\", 38.0, 0.0], [\"<a href='{{ project().file_server() }}/antismash/6.1.1/GCF_000091305.1/index.html' target='_blank''>GCF_000091305.1</a>\", \"Streptomyces scabiei 87.22 (high GC Gram+)\", \"Streptomyces scabiei\", 34.0, 0.0], [\"<a href='{{ project().file_server() }}/antismash/6.1.1/GCF_000092385.1/index.html' target='_blank''>GCF_000092385.1</a>\", \"Streptomyces bingchenggensis BCW-1 (high GC Gram+)\", \"Streptomyces milbemycinicus\", 51.0, 1.0], [\"<a href='{{ project().file_server() }}/antismash/6.1.1/GCF_000147815.2/index.html' target='_blank''>GCF_000147815.2</a>\", \"Streptomyces violaceusniger Tu 4113 (high GC Gram+)\", \"Streptomyces violaceusniger_A\", 48.0, 0.0]];\n",
       "\n",
       "    // Define the dt_args\n",
       "    let dt_args = {\"columnDefs\": [{\"className\": \"dt-center\", \"targets\": \"_all\"}], \"lengthMenu\": [5, 10, 20, 50, 100, 200, 500], \"paging\": false, \"order\": []};\n",
       "    dt_args[\"data\"] = data;\n",
       "\n",
       "    $(document).ready(function () {\n",
       "        \n",
       "        $('#dfd19eb1-c553-432f-8bce-d6a1efbd04a5').DataTable(dt_args);\n",
       "    });\n",
       "</script>\n"
      ],
      "text/plain": [
       "<IPython.core.display.HTML object>"
      ]
     },
     "metadata": {},
     "output_type": "display_data"
    }
   ],
   "source": [
    "display(HTML(DT(df, columnDefs=[{\"className\": \"dt-center\", \"targets\": \"_all\"}],)))"
   ]
  },
  {
   "cell_type": "markdown",
   "id": "a9111659-b673-4842-8ef3-d0fa9b52aa8c",
   "metadata": {},
   "source": [
    "## References\n",
    "<font size=\"2\">\n",
    "{% for i in project().rule_used['antismash']['references'] %}\n",
    "- {{ i }} \n",
    "{% endfor %}\n",
    "</font>"
   ]
  }
 ],
 "metadata": {
  "kernelspec": {
   "display_name": "Python 3 (ipykernel)",
   "language": "python",
   "name": "python3"
  },
  "language_info": {
   "codemirror_mode": {
    "name": "ipython",
    "version": 3
   },
   "file_extension": ".py",
   "mimetype": "text/x-python",
   "name": "python",
   "nbconvert_exporter": "python",
   "pygments_lexer": "ipython3",
   "version": "3.10.5"
  }
 },
 "nbformat": 4,
 "nbformat_minor": 5
}
