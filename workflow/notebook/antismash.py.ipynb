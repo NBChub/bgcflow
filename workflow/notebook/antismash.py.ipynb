{
 "cells": [
  {
   "attachments": {},
   "cell_type": "markdown",
   "id": "ce8cfe38-9a71-4ee7-93fd-3a1f3b4b84bf",
   "metadata": {},
   "source": [
    "# antiSMASH \n",
    "Summary of BGCs detected in each genome for: `[{{ project().name }}]`\n",
    "\n",
    "## Description\n",
    "> antiSMASH allows the rapid genome-wide identification, annotation and analysis of secondary metabolite biosynthesis gene clusters in bacterial and fungal genomes."
   ]
  },
  {
   "cell_type": "code",
   "execution_count": null,
   "id": "0a9ebdaf-3412-41d7-8c51-1d9b14cad4d1",
   "metadata": {
    "tags": []
   },
   "outputs": [],
   "source": [
    "import pandas as pd\n",
    "from pathlib import Path\n",
    "from IPython.display import display, Markdown, HTML\n",
    "import json\n",
    "import altair as alt\n",
    "\n",
    "import warnings\n",
    "warnings.filterwarnings('ignore')\n",
    "\n",
    "from itables import to_html_datatable as DT\n",
    "import itables.options as opt\n",
    "opt.css = \"\"\"\n",
    ".itables table td { font-style: italic; font-size: .8em;}\n",
    ".itables table th { font-style: oblique; font-size: .8em; }\n",
    "\"\"\"\n",
    "opt.classes = [\"display\", \"compact\"]\n",
    "opt.lengthMenu = [5, 10, 20, 50, 100, 200, 500]\n",
    "\n",
    "\n",
    "report_dir = Path(\"../\")"
   ]
  },
  {
   "cell_type": "code",
   "execution_count": null,
   "id": "0d8270fd-78f6-40db-b993-c7948111137c",
   "metadata": {
    "tags": []
   },
   "outputs": [],
   "source": [
    "antismash_table = report_dir / \"tables/df_antismash_6.1.1_summary.csv\"\n",
    "gtdb_table = report_dir / \"tables/df_gtdb_meta.csv\"\n",
    "\n",
    "df_antismash = pd.read_csv(antismash_table).set_index(\"genome_id\", drop=False)\n",
    "df_gtdb = pd.read_csv(gtdb_table).set_index(\"genome_id\", drop=False)\n",
    "\n",
    "# correct organism name\n",
    "for idx in df_gtdb.index:\n",
    "    if df_gtdb.loc[idx, \"Organism\"] == \"s__\":\n",
    "        genus = df_gtdb.loc[idx, 'Genus'].split('__')[1]\n",
    "        df_gtdb.loc[idx, 'Organism'] = f\"s__{genus} sp.\" \n",
    "        \n",
    "df_raw = pd.DataFrame(index=df_antismash.index)\n",
    "df_raw[\"Genome ID\"] = df_antismash['genome_id']\n",
    "df_raw['GTDB genus'] = [df_gtdb.loc[idx, 'Genus'].split('__')[1] for idx in df_raw.index]\n",
    "df_raw['GTDB species'] = [f\"{df_gtdb.loc[idx, 'Organism'].split('__')[1]}\" for idx in df_raw.index]\n",
    "try:\n",
    "    df_raw['Strain'] = df_antismash.loc[df_raw.index, 'strain']\n",
    "except KeyError:\n",
    "    pass\n",
    "df_raw['BGCs'] = df_antismash.loc[df_raw.index, 'bgcs_count']\n",
    "df_raw['Incomplete BGCs'] = df_antismash.loc[df_raw.index, 'bgcs_on_contig_edge']\n",
    "\n",
    "df = df_raw.copy()\n",
    "for i in df.index:\n",
    "    gid = df.loc[i, 'Genome ID']\n",
    "    server_path = \"<a href='{{ project().file_server() }}/antismash/6.1.1/\"\n",
    "    df.loc[i, \"Genome ID\"] = server_path + f\"{gid}/index.html' target='_blank''>{gid}</a>\"\n",
    "df = df.reset_index(drop=True)"
   ]
  },
  {
   "attachments": {},
   "cell_type": "markdown",
   "id": "c9910c4b-05be-4759-b646-a9b1a0ff4b46",
   "metadata": {},
   "source": [
    "## Result Summary"
   ]
  },
  {
   "cell_type": "code",
   "execution_count": null,
   "id": "d0260a3a-c42c-4390-87d5-2f146443a220",
   "metadata": {
    "tags": []
   },
   "outputs": [],
   "source": [
    "region = df_antismash.bgcs_count\n",
    "incomplete = df_antismash.bgcs_on_contig_edge\n",
    "text = f\"\"\"AntiSMASH detected **{int(region.sum())}** BGCs from **{len(region)}** genomes with the median of **{int(region.median())}**. Out of these, **{'{:.2%}'.format(1 - incomplete.sum()/region.sum())}** are deemed as complete.\"\"\"\n",
    "display(Markdown(text))"
   ]
  },
  {
   "attachments": {},
   "cell_type": "markdown",
   "id": "b8f598b9-c7ba-4a17-9ba4-ea582cdf6a40",
   "metadata": {},
   "source": [
    "> Note: Here the incomplete BGCs are denoted by those that were identified to be on the contig edge by antiSMASH and thus are likely to be incomplete."
   ]
  },
  {
   "cell_type": "code",
   "execution_count": null,
   "id": "10c665db-7457-4964-8154-e463aa4491cf",
   "metadata": {
    "tags": []
   },
   "outputs": [],
   "source": [
    "source = df_raw\n",
    "\n",
    "base = alt.Chart(source)\n",
    "\n",
    "bar = base.mark_bar().encode(\n",
    "    x=alt.X('BGCs:Q', bin=True, axis=alt.Axis(title='BGCs')), \n",
    "    y=alt.X('count()', axis=alt.Axis(title='Genomes')),\n",
    "    color='GTDB genus',\n",
    "    tooltip=['Genome ID', 'GTDB species', 'BGCs', 'Incomplete BGCs']\n",
    ").interactive()\n",
    "\n",
    "bar "
   ]
  },
  {
   "attachments": {},
   "cell_type": "markdown",
   "id": "27fe87a5-a05f-4dd2-a6ba-7c9c8c33c20d",
   "metadata": {},
   "source": [
    "## Summary Table\n",
    "Click on the genome ids to get the antiSMASH result.\n",
    "\n",
    "[Download Table]({{ project().file_server() }}/tables/df_antismash_6.1.1_summary.csv){:target=\"_blank\" .md-button}"
   ]
  },
  {
   "cell_type": "code",
   "execution_count": null,
   "id": "65acb557-bc21-4db9-8130-3100134e0620",
   "metadata": {
    "tags": []
   },
   "outputs": [],
   "source": [
    "display(HTML(DT(df, columnDefs=[{\"className\": \"dt-center\", \"targets\": \"_all\"}],)))"
   ]
  },
  {
   "attachments": {},
   "cell_type": "markdown",
   "id": "a9111659-b673-4842-8ef3-d0fa9b52aa8c",
   "metadata": {},
   "source": [
    "## References\n",
    "<font size=\"2\">\n",
    "{% for i in project().rule_used['antismash']['references'] %}\n",
    "- {{ i }} \n",
    "{% endfor %}\n",
    "</font>"
   ]
  }
 ],
 "metadata": {
  "kernelspec": {
   "display_name": "Python 3 (ipykernel)",
   "language": "python",
   "name": "python3"
  },
  "language_info": {
   "codemirror_mode": {
    "name": "ipython",
    "version": 3
   },
   "file_extension": ".py",
   "mimetype": "text/x-python",
   "name": "python",
   "nbconvert_exporter": "python",
   "pygments_lexer": "ipython3",
   "version": "3.11.0"
  }
 },
 "nbformat": 4,
 "nbformat_minor": 5
}
