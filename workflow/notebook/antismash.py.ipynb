{
 "cells": [
  {
   "cell_type": "code",
   "execution_count": null,
   "id": "0a9ebdaf-3412-41d7-8c51-1d9b14cad4d1",
   "metadata": {},
   "outputs": [],
   "source": [
    "import pandas as pd\n",
    "from pathlib import Path\n",
    "from IPython.display import display, Markdown, HTML\n",
    "import json\n",
    "from jinja2 import Template\n",
    "import warnings\n",
    "warnings.filterwarnings('ignore')\n",
    "\n",
    "from itables import to_html_datatable as DT\n",
    "import altair as alt\n",
    "\n",
    "report_dir = Path(\"../\")"
   ]
  },
  {
   "cell_type": "code",
   "execution_count": null,
   "id": "0d8270fd-78f6-40db-b993-c7948111137c",
   "metadata": {},
   "outputs": [],
   "source": [
    "antismash_table = report_dir / \"tables/df_antismash_6.1.1_summary.csv\"\n",
    "gtdb_table = report_dir / \"tables/df_gtdb_meta.csv\"\n",
    "\n",
    "df_antismash = pd.read_csv(antismash_table, index_col=0)\n",
    "df_gtdb = pd.read_csv(gtdb_table, index_col=0)\n",
    "\n",
    "df_raw = pd.concat([df_antismash, df_gtdb], axis=1)\n",
    "df = df_raw.loc[:, [\"genome_id\", \"source\", 'Organism', \"strain\", 'bgcs_count', 'bgcs_on_contig_edge']]\n",
    "for i in df.index:\n",
    "    gid = df.loc[i, 'genome_id']\n",
    "    server_path = \"<a href='http://localhost:{{ project().file_server() }}/antismash/6.1.1/\"\n",
    "    df.loc[i, \"genome_id\"] = server_path + f\"{gid}/'>{gid}</a>\"\n",
    "df = df.reset_index(drop=True)"
   ]
  },
  {
   "cell_type": "markdown",
   "id": "ce8cfe38-9a71-4ee7-93fd-3a1f3b4b84bf",
   "metadata": {},
   "source": [
    "# AntiSMASH Report\n",
    "Summary of AntiSMASH results from {{ project().name }}"
   ]
  },
  {
   "cell_type": "code",
   "execution_count": null,
   "id": "10c665db-7457-4964-8154-e463aa4491cf",
   "metadata": {},
   "outputs": [],
   "source": [
    "source = df_raw\n",
    "\n",
    "chart = alt.Chart(source).mark_circle().encode(\n",
    "    x = 'bgcs_count',\n",
    "    y = 'bgcs_on_contig_edge',\n",
    "    color='Genus',\n",
    "    tooltip=['genome_id', 'bgcs_count', 'bgcs_on_contig_edge', 'protoclusters_count', 'cand_clusters_count']\n",
    ").properties(\n",
    "    width=400,\n",
    "    height=400,\n",
    "    title = \"BGC distribution overview\",\n",
    ").interactive()\n",
    "\n",
    "chart = chart.configure_title(fontSize=20, offset=10, orient='top', anchor='middle')\n",
    "\n",
    "chart"
   ]
  },
  {
   "cell_type": "markdown",
   "id": "27fe87a5-a05f-4dd2-a6ba-7c9c8c33c20d",
   "metadata": {},
   "source": [
    "## Summary Table"
   ]
  },
  {
   "cell_type": "code",
   "execution_count": null,
   "id": "65acb557-bc21-4db9-8130-3100134e0620",
   "metadata": {},
   "outputs": [],
   "source": [
    "display(HTML(DT(df)))"
   ]
  },
  {
   "cell_type": "markdown",
   "id": "a9111659-b673-4842-8ef3-d0fa9b52aa8c",
   "metadata": {},
   "source": [
    "## References\n",
    "{% for i in project().rule_used['antismash']['references'] %}\n",
    "- {{ i }}\n",
    "{% endfor %}"
   ]
  }
 ],
 "metadata": {
  "kernelspec": {
   "display_name": "Python 3 (ipykernel)",
   "language": "python",
   "name": "python3"
  },
  "language_info": {
   "codemirror_mode": {
    "name": "ipython",
    "version": 3
   },
   "file_extension": ".py",
   "mimetype": "text/x-python",
   "name": "python",
   "nbconvert_exporter": "python",
   "pygments_lexer": "ipython3",
   "version": "3.10.6"
  }
 },
 "nbformat": 4,
 "nbformat_minor": 5
}
