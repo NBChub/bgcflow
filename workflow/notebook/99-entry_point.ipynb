{
 "cells": [
  {
   "cell_type": "markdown",
   "id": "fafef8e8-13e1-4606-ade3-5ef677dcdf84",
   "metadata": {},
   "source": [
    "# BGCFlow Report\n",
    "\n",
    "[**BGCFlow**](https://github.com/NBChub/bgcflow): Snakemake workflow to systematically analyze Biosynthetic Gene Clusters from a collection of genomes (pangenomes) from internal & public genome datasets.\n",
    "\n",
    "Use [`bgflow_wrapper`](https://github.com/matinnuhamunada/bgcflow_wrapper) to run a simple http server by:\n",
    "```bash\n",
    "bgflow_wrapper serve --port 9999\n",
    "```\n",
    "## Available results:"
   ]
  },
  {
   "cell_type": "code",
   "execution_count": 7,
   "id": "aa0bbd5e-8a6c-4a14-969c-87e7898799da",
   "metadata": {},
   "outputs": [
    {
     "name": "stdout",
     "output_type": "stream",
     "text": [
      "/datadrive/data/bgcflow/workflow/notebook\n",
      "/datadrive/data/bgcflow/data/processed\n"
     ]
    },
    {
     "data": {
      "text/markdown": [
       "### [**qc_qa_strepto**](http://localhost:9999/processed/qc_qa_strepto)"
      ],
      "text/plain": [
       "<IPython.core.display.Markdown object>"
      ]
     },
     "metadata": {},
     "output_type": "display_data"
    },
    {
     "data": {
      "text/markdown": [
       "- [tables](http://localhost:9999/processed/qc_qa_strepto/tables)"
      ],
      "text/plain": [
       "<IPython.core.display.Markdown object>"
      ]
     },
     "metadata": {},
     "output_type": "display_data"
    },
    {
     "data": {
      "text/markdown": [
       "### [**qc_qa_checkm_strepto**](http://localhost:9999/processed/qc_qa_checkm_strepto)"
      ],
      "text/plain": [
       "<IPython.core.display.Markdown object>"
      ]
     },
     "metadata": {},
     "output_type": "display_data"
    },
    {
     "data": {
      "text/markdown": [
       "- [tables](http://localhost:9999/processed/qc_qa_checkm_strepto/tables)"
      ],
      "text/plain": [
       "<IPython.core.display.Markdown object>"
      ]
     },
     "metadata": {},
     "output_type": "display_data"
    },
    {
     "data": {
      "text/markdown": [
       "### [**mq_strepto**](http://localhost:9999/processed/mq_strepto)"
      ],
      "text/plain": [
       "<IPython.core.display.Markdown object>"
      ]
     },
     "metadata": {},
     "output_type": "display_data"
    },
    {
     "data": {
      "text/markdown": [
       "- [tables](http://localhost:9999/processed/mq_strepto/tables)"
      ],
      "text/plain": [
       "<IPython.core.display.Markdown object>"
      ]
     },
     "metadata": {},
     "output_type": "display_data"
    },
    {
     "data": {
      "text/markdown": [
       "- [automlst_wrapper](http://localhost:9999/processed/mq_strepto/automlst_wrapper)"
      ],
      "text/plain": [
       "<IPython.core.display.Markdown object>"
      ]
     },
     "metadata": {},
     "output_type": "display_data"
    },
    {
     "data": {
      "text/markdown": [
       "- [fastani](http://localhost:9999/processed/mq_strepto/fastani)"
      ],
      "text/plain": [
       "<IPython.core.display.Markdown object>"
      ]
     },
     "metadata": {},
     "output_type": "display_data"
    },
    {
     "data": {
      "text/markdown": [
       "- [antismash](http://localhost:9999/processed/mq_strepto/antismash)"
      ],
      "text/plain": [
       "<IPython.core.display.Markdown object>"
      ]
     },
     "metadata": {},
     "output_type": "display_data"
    },
    {
     "data": {
      "text/markdown": [
       "- [bigscape_old](http://localhost:9999/processed/mq_strepto/bigscape_old)"
      ],
      "text/plain": [
       "<IPython.core.display.Markdown object>"
      ]
     },
     "metadata": {},
     "output_type": "display_data"
    },
    {
     "data": {
      "text/markdown": [
       "- [bigscape](http://localhost:9999/processed/mq_strepto/bigscape)"
      ],
      "text/plain": [
       "<IPython.core.display.Markdown object>"
      ]
     },
     "metadata": {},
     "output_type": "display_data"
    }
   ],
   "source": [
    "from IPython.display import display, Markdown, Latex\n",
    "from pathlib import Path\n",
    "\n",
    "projects = Path(\"../../data/processed\").resolve()\n",
    "\n",
    "for item in projects.glob(\"*\"):\n",
    "    if (not str(item).startswith(\".\")) & (item.is_dir()):\n",
    "        display(Markdown(f\"\"\"### [**{item.name}**](http://localhost:9999/processed/{item.name})\"\"\"))\n",
    "        for subdir in item.glob(\"*\"):\n",
    "            display(Markdown(f\"- [{subdir.name}](http://localhost:9999/processed/{item.name}/{subdir.name})\"))"
   ]
  },
  {
   "cell_type": "code",
   "execution_count": null,
   "id": "fcbb5452-6d60-4213-82c1-66505d751384",
   "metadata": {},
   "outputs": [],
   "source": []
  }
 ],
 "metadata": {
  "kernelspec": {
   "display_name": "Python 3 (ipykernel)",
   "language": "python",
   "name": "python3"
  },
  "language_info": {
   "codemirror_mode": {
    "name": "ipython",
    "version": 3
   },
   "file_extension": ".py",
   "mimetype": "text/x-python",
   "name": "python",
   "nbconvert_exporter": "python",
   "pygments_lexer": "ipython3",
   "version": "3.10.6"
  }
 },
 "nbformat": 4,
 "nbformat_minor": 5
}
