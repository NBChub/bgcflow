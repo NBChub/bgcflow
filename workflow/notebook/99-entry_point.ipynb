{
 "cells": [
  {
   "cell_type": "markdown",
   "id": "fafef8e8-13e1-4606-ade3-5ef677dcdf84",
   "metadata": {},
   "source": [
    "[**<<< Back to Snakemake Report**](../../)\n",
    "# BGCFlow Report\n",
    "\n",
    "This page summarizes the final processed data of [**BGCFlow**](https://github.com/NBChub/bgcflow): _Snakemake workflow to systematically analyze Biosynthetic Gene Clusters from a collection of genomes (pangenomes) from internal & public genome datasets._"
   ]
  },
  {
   "cell_type": "code",
   "execution_count": null,
   "id": "3e9b2047-7516-46bd-b3b3-e32f4e6b3434",
   "metadata": {},
   "outputs": [],
   "source": [
    "# Import Libraries\n",
    "from IPython.display import display, Markdown, Latex\n",
    "from pathlib import Path\n",
    "import json, yaml\n",
    "import peppy"
   ]
  },
  {
   "cell_type": "code",
   "execution_count": null,
   "id": "8986865f-e916-4dc2-8f06-b55544f80d3d",
   "metadata": {},
   "outputs": [],
   "source": [
    "# BGCFlow config\n",
    "BGCFlow_path = Path(\"../../\").resolve()\n",
    "config_path = BGCFlow_path / \"config/config.yaml\"\n",
    "with open(config_path, \"r\") as f:\n",
    "    config = yaml.safe_load(f)\n",
    "    \n",
    "# rules_dict\n",
    "rules_dict_path = BGCFlow_path / \"workflow/rules/rules_main.json\"\n",
    "with open(rules_dict_path, \"r\") as f:\n",
    "    rules_dict = json.load(f)"
   ]
  },
  {
   "cell_type": "code",
   "execution_count": null,
   "id": "5337ebe7-d617-4953-bca5-6b90ec6c1b6c",
   "metadata": {},
   "outputs": [],
   "source": [
    "# Get Metadata\n",
    "project_metadata = {}\n",
    "    \n",
    "for p in config['projects']:\n",
    "    # process only pep projets\n",
    "    if p['name'].endswith(\".yaml\"):\n",
    "        with open(BGCFlow_path / p['name']) as f:\n",
    "            project = yaml.safe_load(f)\n",
    "            if 'description' in project.keys():\n",
    "                name = project['name']\n",
    "                description = project['description']\n",
    "                project_metadata[name] = {'description' : description}\n",
    "    else:\n",
    "        name = p['name']\n",
    "        project_metadata[name] = \"No description provided.\"\n",
    "    \n",
    "    # get what rules are being used\n",
    "    rule_used = []\n",
    "    if 'rules' in project.keys():\n",
    "        rules = project[\"rules\"]\n",
    "    else:\n",
    "        rules = config[\"rules\"]\n",
    "    for r in rules.keys():\n",
    "        if rules[r]:\n",
    "            rule_used.append(r)\n",
    "    project_metadata[name].update({'rule_used' : rule_used})\n",
    "    \n",
    "    # get citations\n",
    "    citation_all = []\n",
    "    for r in rule_used:\n",
    "        citations = rules_dict[r]['references']\n",
    "        citation_all.extend(citations)\n",
    "    citation_all.sort()\n",
    "    project_metadata[name].update({'references' : citation_all})"
   ]
  },
  {
   "cell_type": "code",
   "execution_count": null,
   "id": "aa0bbd5e-8a6c-4a14-969c-87e7898799da",
   "metadata": {},
   "outputs": [],
   "source": [
    "# Create table of contents\n",
    "projects = Path(\"../../data/processed\").resolve()\n",
    "ignore = \"*.ipynb*\"\n",
    "\n",
    "# text container\n",
    "text = \"## Available Outputs\\nPlease find the list of available outputs from BGCFlow projects here:\\n\"\n",
    "\n",
    "ctr = 0\n",
    "for item in projects.glob(\"*\"):\n",
    "    if not item.name in project_metadata.keys():\n",
    "        pass\n",
    "    elif (not str(item.name).startswith(\".\")) & (item.is_dir()):            \n",
    "        ctr = ctr + 1\n",
    "        line1 = f\"\"\"{ctr}. [**{item.name}**](./{item.name})\"\"\"\n",
    "        text = text + \"\\n\" +  line1\n",
    "        \n",
    "        # add description\n",
    "        if item.name in project_metadata.keys():\n",
    "            description = f\": {project_metadata[item.name]['description']}\"\n",
    "            text = text +  description\n",
    "        subdir_ctr = 0\n",
    "        \n",
    "        for subdir in item.glob(\"*\"):\n",
    "            subdir_ctr = subdir_ctr + 1\n",
    "            line2 = f\"    {subdir_ctr}. [{subdir.name}](./{item.name}/{subdir.name})\"\n",
    "            text = text + \"\\n\"+  line2\n",
    "            subdir_ctr2 = 0\n",
    "            for subdir2 in subdir.glob(\"*\"):\n",
    "                if (not str(subdir2.name).startswith(\".\")) & (subdir2.is_dir()):\n",
    "                    subdir_ctr2 = subdir_ctr2 + 1\n",
    "                    line3 = f\"        {subdir_ctr2}. [{subdir2.name}](./{item.name}/{subdir.name}/{subdir2.name})\"\n",
    "                    text = text + \"\\n\" +  line3\n",
    "                elif str(subdir2.name).endswith(\"mapping.csv\"):\n",
    "                    subdir_ctr2 = subdir_ctr2 + 1\n",
    "                    line3 = f\"        {subdir_ctr2}. [{subdir2.name}](./{item.name}/{subdir.name}/{subdir2.name})\"\n",
    "                    text = text + \"\\n\" +  line3                \n",
    "\n",
    "# Display all text                    \n",
    "display(Markdown(text))"
   ]
  },
  {
   "cell_type": "code",
   "execution_count": null,
   "id": "6dbf8ce7-a2a4-45fa-a132-472ac8135fef",
   "metadata": {},
   "outputs": [],
   "source": [
    "# text container\n",
    "text = \"### References\"\n",
    "ctr = 0\n",
    "for item in projects.glob(\"*\"):\n",
    "    if not item.name in project_metadata.keys():\n",
    "        pass\n",
    "    elif (not str(item.name).startswith(\".\")) & (item.is_dir()):           \n",
    "        subdir_ctr = subdir_ctr + 1\n",
    "        line2 = f\"#### References for tools used in project [**{item.name}**](./{item.name})\"\n",
    "        text = text + \"\\n\"+  line2\n",
    "        subdir_ctr2 = 0\n",
    "        \n",
    "        for c in project_metadata[item.name]['references']:\n",
    "            subdir_ctr2 = subdir_ctr2 + 1\n",
    "            line3 = f\"{subdir_ctr2}. {c})\"\n",
    "            text = text + \"\\n\" +  line3\n",
    "# Display all text                    \n",
    "display(Markdown(text))"
   ]
  }
 ],
 "metadata": {
  "kernelspec": {
   "display_name": "Python 3 (ipykernel)",
   "language": "python",
   "name": "python3"
  },
  "language_info": {
   "codemirror_mode": {
    "name": "ipython",
    "version": 3
   },
   "file_extension": ".py",
   "mimetype": "text/x-python",
   "name": "python",
   "nbconvert_exporter": "python",
   "pygments_lexer": "ipython3",
   "version": "3.10.6"
  }
 },
 "nbformat": 4,
 "nbformat_minor": 5
}
