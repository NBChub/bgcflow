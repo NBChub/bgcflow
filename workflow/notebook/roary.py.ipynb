{
 "cells": [
  {
   "cell_type": "markdown",
   "id": "aa0f0d95-5e6b-436f-a971-9486d0841329",
   "metadata": {},
   "source": [
    "# Roary\n",
    "Summary of [Roary](https://github.com/sanger-pathogens/Roary) results from project: `[{{ project().name }}]` \n",
    "\n",
    "## Description\n",
    "Rapid large-scale prokaryote pan genome analysis."
   ]
  },
  {
   "cell_type": "code",
   "execution_count": null,
   "id": "d21448bb-afe9-4fdb-b964-2143a0ccd1e4",
   "metadata": {
    "tags": []
   },
   "outputs": [],
   "source": [
    "import pandas as pd\n",
    "import shutil\n",
    "from pathlib import Path\n",
    "from IPython.display import display, Markdown, HTML\n",
    "from itables import to_html_datatable as DT\n",
    "import itables.options as opt\n",
    "opt.css = \"\"\"\n",
    ".itables table td { font-style: italic; font-size: .8em;}\n",
    ".itables table th { font-style: oblique; font-size: .8em; }\n",
    "\"\"\"\n",
    "opt.classes = [\"display\", \"compact\"]\n",
    "opt.lengthMenu = [5, 10, 20, 50, 100, 200, 500]\n",
    "opt.maxBytes = 100000\n",
    "\n",
    "import warnings\n",
    "warnings.filterwarnings('ignore')"
   ]
  },
  {
   "cell_type": "code",
   "execution_count": null,
   "id": "53fb8b15-379c-4be1-827e-243602f89d95",
   "metadata": {},
   "outputs": [],
   "source": [
    "report_dir = Path(\"../\").resolve()"
   ]
  },
  {
   "cell_type": "code",
   "execution_count": null,
   "id": "e6a878c5-beb5-44fd-8b6b-9913e5c9d14f",
   "metadata": {},
   "outputs": [],
   "source": [
    "# Define the source and target paths\n",
    "source_path = report_dir / \"roary\"\n",
    "target_path = Path('assets/data/roary')\n",
    "\n",
    "# Ensure that the source path and the target path are different\n",
    "assert source_path != target_path, \"The source path and the target path are the same.\"\n",
    "\n",
    "# Create the parent directories if they do not exist\n",
    "target_path.parent.mkdir(parents=True, exist_ok=True)\n",
    "\n",
    "# Remove the existing symbolic link if it exists\n",
    "if target_path.is_symlink():\n",
    "    target_path.unlink()\n",
    "\n",
    "# Create the symbolic link\n",
    "target_path.symlink_to(source_path)"
   ]
  },
  {
   "cell_type": "code",
   "execution_count": null,
   "id": "e0182740-031e-46da-8278-ccca707dd9a4",
   "metadata": {},
   "outputs": [],
   "source": [
    "# List of files to be copied\n",
    "targets = [\"assets/data/roary/gene_frequency.jpeg\", \n",
    "           \"assets/data/roary/pan_core_curve.jpeg\", \n",
    "           \"assets/data/roary/pangenome_pie.jpeg\", \n",
    "           \"assets/data/roary/phylo_presence_heatmap.jpeg\"]\n",
    "\n",
    "# Destination directory\n",
    "destination = Path(\"assets/figures/roary\")\n",
    "destination.mkdir(parents=True, exist_ok=True)\n",
    "\n",
    "# Copy each file to the destination directory\n",
    "for file in targets:\n",
    "    shutil.copy(file, destination)"
   ]
  },
  {
   "cell_type": "markdown",
   "id": "9430756e-0116-49bf-8d26-2ab5227a6c18",
   "metadata": {},
   "source": [
    "## Pangenome Statistics\n",
    "|  |  |\n",
    "|:-|:-|\n",
    "| <img src=\"../assets/data/roary/conserved_vs_total_genes.png\"  width=\"400\"> | <img src=\"../assets/figures/roary/gene_frequency.jpeg\"  width=\"500\" height=\"100%\"> |\n",
    "| <img src=\"../assets/data/roary/new_unique_curve.jpeg\"  width=\"500\" height=\"100%\"> | <img src=\"../assets/figures/roary/pan_core_curve.jpeg\"  width=\"500\" height=\"100%\"> |"
   ]
  },
  {
   "cell_type": "markdown",
   "id": "2161537e-fd4a-425b-9436-486a12cbb27b",
   "metadata": {},
   "source": [
    "## Pangenome Distribution\n",
    "<p align=\"center\">\n",
    "    <img src=\"../assets/figures/roary/pangenome_pie.jpeg\"  width=\"70%\" height=\"70%\">\n",
    "</p>"
   ]
  },
  {
   "cell_type": "code",
   "execution_count": null,
   "id": "da06ee8e-c05d-439e-893e-5887cde7f81f",
   "metadata": {
    "tags": []
   },
   "outputs": [],
   "source": [
    "display(HTML(DT(pd.read_csv(report_dir / \"roary/summary_statistics.txt\", sep=\"\\t\", header=None).rename(columns={0:'Pangenome Category', 1:'Description', 2:'Counts'}))))"
   ]
  },
  {
   "cell_type": "markdown",
   "id": "2bcee44d-8da3-4ee1-b256-e1fe8889d3f0",
   "metadata": {},
   "source": [
    "## Pangene Distribution across phylogenetic tree\n",
    "\n",
    "<img src=\"../assets/figures/roary/phylo_presence_heatmap.jpeg\"  width=\"100%\" height=\"100%\">"
   ]
  },
  {
   "cell_type": "markdown",
   "id": "7c1ce059-627f-445e-ba09-4bb51e736850",
   "metadata": {},
   "source": [
    "## Pangene Tables"
   ]
  },
  {
   "cell_type": "code",
   "execution_count": null,
   "id": "59e869f1-64f8-4614-bde5-07c2578afa19",
   "metadata": {
    "tags": []
   },
   "outputs": [],
   "source": [
    "df_pangene = pd.read_csv(report_dir / \"roary/df_pangene_summary.csv\")\n",
    "df_pangene_core = df_pangene[df_pangene.pangenome_class == 'core']\n",
    "df_pangene_shell = df_pangene[df_pangene.pangenome_class == 'shell']"
   ]
  },
  {
   "cell_type": "markdown",
   "id": "e0e60299-60e7-444c-af93-05a47cd3dab5",
   "metadata": {},
   "source": [
    "### Core Genes"
   ]
  },
  {
   "cell_type": "code",
   "execution_count": null,
   "id": "e5495cbe-5ea0-499c-84f4-40b2bd4c7367",
   "metadata": {
    "tags": []
   },
   "outputs": [],
   "source": [
    "display(HTML(DT(df_pangene_core, columnDefs=[{\"className\": \"dt-center\", \"targets\": \"_all\"}], scrollX = True)))"
   ]
  },
  {
   "cell_type": "markdown",
   "id": "a31ac694-6a26-4ffd-b3d0-a38d3c2bd3b3",
   "metadata": {},
   "source": [
    "### Shell Genes"
   ]
  },
  {
   "cell_type": "code",
   "execution_count": null,
   "id": "31e5c475-5a98-4f5b-8f91-2c6f9db0adb2",
   "metadata": {
    "tags": []
   },
   "outputs": [],
   "source": [
    "display(HTML(DT(df_pangene_shell, columnDefs=[{\"className\": \"dt-center\", \"targets\": \"_all\"}], scrollX = True)))"
   ]
  },
  {
   "cell_type": "markdown",
   "id": "4d8fe1ca-30f9-472a-9e01-4e9db61825b8",
   "metadata": {},
   "source": [
    "## References\n",
    "\n",
    "<font size=\"2\">\n",
    "\n",
    "{% for i in project().rule_used['roary']['references'] %}\n",
    "- *{{ i }}*\n",
    "{% endfor %}\n",
    "\n",
    "</font>"
   ]
  }
 ],
 "metadata": {
  "kernelspec": {
   "display_name": "Python 3 (ipykernel)",
   "language": "python",
   "name": "python3"
  },
  "language_info": {
   "codemirror_mode": {
    "name": "ipython",
    "version": 3
   },
   "file_extension": ".py",
   "mimetype": "text/x-python",
   "name": "python",
   "nbconvert_exporter": "python",
   "pygments_lexer": "ipython3",
   "version": "3.10.13"
  }
 },
 "nbformat": 4,
 "nbformat_minor": 5
}
