{
 "cells": [
  {
   "cell_type": "markdown",
   "id": "aa0f0d95-5e6b-436f-a971-9486d0841329",
   "metadata": {},
   "source": [
    "# FastANI\n",
    "Summary of [FastANI](https://github.com/ParBLiSS/FastANI) results from project: `[{{ project().name }}]`\n",
    "\n",
    "## Description\n",
    "Fast Whole-Genome Similarity (ANI) Estimation"
   ]
  },
  {
   "cell_type": "code",
   "execution_count": null,
   "id": "d21448bb-afe9-4fdb-b964-2143a0ccd1e4",
   "metadata": {
    "tags": []
   },
   "outputs": [],
   "source": [
    "import pandas as pd\n",
    "from pathlib import Path\n",
    "\n",
    "import warnings\n",
    "warnings.filterwarnings('ignore')\n",
    "\n",
    "import os\n",
    "import seaborn as sns\n",
    "import matplotlib.pyplot as plt\n",
    "import scipy.cluster.hierarchy as shc\n",
    "from sklearn.cluster import AgglomerativeClustering \n",
    "import networkx as nx\n",
    "import community as community_louvain\n",
    "sns.set_context(\"paper\")"
   ]
  },
  {
   "cell_type": "code",
   "execution_count": null,
   "id": "53fb8b15-379c-4be1-827e-243602f89d95",
   "metadata": {
    "tags": []
   },
   "outputs": [],
   "source": [
    "report_dir = Path(\"../\")"
   ]
  },
  {
   "cell_type": "code",
   "execution_count": null,
   "id": "69608b9b-3aa9-4b88-b980-a8f34de8e951",
   "metadata": {},
   "outputs": [],
   "source": [
    "# path setup\n",
    "bgcflow_dir = Path('/datadrive/data2/bgcflow')\n",
    "external_data_dir = bgcflow_dir / 'data/external/'\n",
    "interim_data_dir = bgcflow_dir / 'data/interim/'\n",
    "processed_data_dir = bgcflow_dir / 'data/processed/'\n",
    "config_dir = bgcflow_dir / 'config/'"
   ]
  },
  {
   "cell_type": "code",
   "execution_count": null,
   "id": "97c6c741-6fba-40a9-8da5-c06475689bf5",
   "metadata": {},
   "outputs": [],
   "source": [
    "project_name = 'test'"
   ]
  },
  {
   "cell_type": "code",
   "execution_count": null,
   "id": "5067e484-b4ea-4a08-be0c-b0f39c4ff5a6",
   "metadata": {},
   "outputs": [],
   "source": [
    "df_fastani = pd.read_csv(report_dir / 'fastani/df_fastani.csv', index_col=0)\n",
    "df_ncbi = pd.read_csv(report_dir / 'tables' / 'df_ncbi_meta.csv', index_col='genome_id')\n",
    "df_gtdb = pd.read_csv(report_dir / 'tables' / 'df_gtdb_meta.csv', index_col='genome_id')"
   ]
  },
  {
   "cell_type": "code",
   "execution_count": null,
   "id": "2f6b1886-7c0b-4105-8ece-101471b7a87e",
   "metadata": {},
   "outputs": [],
   "source": [
    "df_fastani_corr = df_fastani.corr()"
   ]
  },
  {
   "cell_type": "code",
   "execution_count": null,
   "id": "badb9833-b3d3-4063-ad53-22f40f914d57",
   "metadata": {},
   "outputs": [],
   "source": [
    "plt.figure(figsize=(30, 7))\n",
    "plt.title(\"FastANI Similarity\")\n",
    "\n",
    "selected_data = df_fastani_corr.copy()\n",
    "clusters = shc.linkage(selected_data, \n",
    "            method='ward', \n",
    "            metric=\"euclidean\",\n",
    "            optimal_ordering=True)\n",
    "shc.dendrogram(Z=clusters)\n",
    "plt.show()"
   ]
  },
  {
   "cell_type": "code",
   "execution_count": null,
   "id": "5768e5cf-ce44-4bf5-b425-e22aedff5f0f",
   "metadata": {},
   "outputs": [],
   "source": [
    "n_clusters = 3\n",
    "top_clusters = 5\n",
    "Agg_hc = AgglomerativeClustering(n_clusters = n_clusters, affinity = 'euclidean', linkage = 'ward')\n",
    "y_hc = Agg_hc.fit_predict(df_fastani_corr)\n",
    "color_set3 = ['#8dd3c7','#ffffb3','#bebada','#fb8072','#80b1d3','#fdb462','#b3de69','#fccde5','#d9d9d9','#bc80bd','#ccebc5','#ffed6f']\n",
    "\n",
    "df_hclusts = pd.DataFrame(index=df_fastani_corr.index, columns=['hcluster', 'color_code'])\n",
    "df_hclusts['hcluster'] = y_hc\n",
    "top_clusters = df_hclusts.hcluster.value_counts().index.tolist()[:top_clusters]\n",
    "dict_top_colors = dict(zip(top_clusters, color_set3[:len(top_clusters)]))\n",
    "\n",
    "for genome_id in df_hclusts.index:\n",
    "    cluster_id = df_hclusts.loc[genome_id, 'hcluster']\n",
    "    if cluster_id in top_clusters:\n",
    "        df_hclusts.loc[genome_id, 'color_code'] = dict_top_colors[cluster_id]\n",
    "    else:\n",
    "        df_hclusts.loc[genome_id, 'color_code'] = \"#808080\"\n",
    "        \n",
    "comm_colors = df_hclusts['color_code']\n",
    "plt.figure()\n",
    "# sns.set_theme(color_codes=True)\n",
    "g = sns.clustermap(df_fastani_corr,\n",
    "                  figsize=(50,50), row_linkage=clusters, col_linkage=clusters,\n",
    "                  row_colors=comm_colors, col_colors=comm_colors)\n",
    "g.ax_heatmap.set_xlabel('Genomes')\n",
    "g.ax_heatmap.set_ylabel('Genomes')"
   ]
  },
  {
   "cell_type": "markdown",
   "id": "4d8fe1ca-30f9-472a-9e01-4e9db61825b8",
   "metadata": {},
   "source": [
    "## References\n",
    "<font size=\"2\">\n",
    "{% for i in project().rule_used['fastani']['references'] %}\n",
    "- *{{ i }}*\n",
    "{% endfor %}\n",
    "</font>"
   ]
  }
 ],
 "metadata": {
  "kernelspec": {
   "display_name": "Python 3 (ipykernel)",
   "language": "python",
   "name": "python3"
  },
  "language_info": {
   "codemirror_mode": {
    "name": "ipython",
    "version": 3
   },
   "file_extension": ".py",
   "mimetype": "text/x-python",
   "name": "python",
   "nbconvert_exporter": "python",
   "pygments_lexer": "ipython3",
   "version": "3.10.5"
  }
 },
 "nbformat": 4,
 "nbformat_minor": 5
}
