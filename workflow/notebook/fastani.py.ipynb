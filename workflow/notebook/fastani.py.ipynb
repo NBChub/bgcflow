{
 "cells": [
  {
   "cell_type": "markdown",
   "id": "aa0f0d95-5e6b-436f-a971-9486d0841329",
   "metadata": {},
   "source": [
    "# FastANI\n",
    "Summary of [FastANI](https://github.com/ParBLiSS/FastANI) results from project: `[{{ project().name }}]`\n",
    "\n",
    "## Description\n",
    "Fast Whole-Genome Similarity (ANI) Estimation"
   ]
  },
  {
   "cell_type": "code",
   "execution_count": null,
   "id": "d21448bb-afe9-4fdb-b964-2143a0ccd1e4",
   "metadata": {
    "tags": []
   },
   "outputs": [],
   "source": [
    "import pandas as pd\n",
    "from pathlib import Path\n",
    "\n",
    "import warnings\n",
    "warnings.filterwarnings('ignore')\n",
    "\n",
    "#import os\n",
    "import seaborn as sns\n",
    "import matplotlib.pyplot as plt\n",
    "import scipy.cluster.hierarchy as shc\n",
    "from sklearn.cluster import AgglomerativeClustering, KMeans\n",
    "from sklearn.preprocessing import MinMaxScaler\n",
    "import numpy as np\n",
    "#import networkx as nx\n",
    "#import community as community_louvain\n",
    "sns.set_context(\"paper\")\n",
    "\n",
    "\n",
    "def kMeansRes(scaled_data, k, alpha_k=0.02):\n",
    "    '''\n",
    "    # Calculating clusters from https://medium.com/towards-data-science/an-approach-for-choosing-number-of-clusters-for-k-means-c28e614ecb2c\n",
    "    Parameters \n",
    "    ----------\n",
    "    scaled_data: matrix \n",
    "        scaled data. rows are samples and columns are features for clustering\n",
    "    k: int\n",
    "        current k for applying KMeans\n",
    "    alpha_k: float\n",
    "        manually tuned factor that gives penalty to the number of clusters\n",
    "    Returns \n",
    "    -------\n",
    "    scaled_inertia: float\n",
    "        scaled inertia value for current k           \n",
    "    '''\n",
    "    \n",
    "    inertia_o = np.square((scaled_data - scaled_data.mean(axis=0))).sum()\n",
    "    # fit k-means\n",
    "    kmeans = KMeans(n_clusters=k, random_state=0).fit(scaled_data)\n",
    "    scaled_inertia = kmeans.inertia_ / inertia_o + alpha_k * k\n",
    "    return scaled_inertia\n",
    "\n",
    "def chooseBestKforKMeans(scaled_data, k_range):\n",
    "    ans = []\n",
    "    for k in k_range:\n",
    "        scaled_inertia = kMeansRes(scaled_data, k)\n",
    "        ans.append((k, scaled_inertia))\n",
    "    results = pd.DataFrame(ans, columns = ['k','Scaled Inertia']).set_index('k')\n",
    "    best_k = results.idxmin()[0]\n",
    "    return best_k, results"
   ]
  },
  {
   "cell_type": "code",
   "execution_count": null,
   "id": "53fb8b15-379c-4be1-827e-243602f89d95",
   "metadata": {
    "tags": []
   },
   "outputs": [],
   "source": [
    "report_dir = Path(\"../\")"
   ]
  },
  {
   "cell_type": "code",
   "execution_count": null,
   "id": "5067e484-b4ea-4a08-be0c-b0f39c4ff5a6",
   "metadata": {},
   "outputs": [],
   "source": [
    "df_fastani = pd.read_csv(report_dir / 'fastani/df_fastani.csv', index_col=0)\n",
    "df_gtdb = pd.read_csv(report_dir / 'tables' / 'df_gtdb_meta.csv', index_col='genome_id')\n",
    "\n",
    "# correct table\n",
    "for i in df_fastani.index:\n",
    "    df_fastani.loc[i, i] = 100"
   ]
  },
  {
   "cell_type": "markdown",
   "id": "b6b58957-7ac5-4c9b-a4e5-0c207fffd4a0",
   "metadata": {},
   "source": [
    "## Hierarchical Clustering based on ANI values"
   ]
  },
  {
   "cell_type": "code",
   "execution_count": null,
   "id": "badb9833-b3d3-4063-ad53-22f40f914d57",
   "metadata": {},
   "outputs": [],
   "source": [
    "df_fastani_corr = df_fastani.fillna(0).corr()\n",
    "\n",
    "plt.figure(figsize=(30, 10))\n",
    "#plt.title(\"FastANI Similarity\")\n",
    "\n",
    "selected_data = df_fastani_corr.copy()\n",
    "clusters = shc.linkage(selected_data, \n",
    "            method='ward', \n",
    "            metric=\"euclidean\",\n",
    "            optimal_ordering=True,)\n",
    "shc.dendrogram(Z=clusters, labels=df_fastani_corr.index, orientation='left')  # Set orientation to 'left'\n",
    "\n",
    "plt.yticks(fontsize=14)  # Adjust the font size for y-axis ticks (labels) for horizontal dendrogram\n",
    "plt.xticks(fontsize=14)  # Adjust the font size for y-axis ticks (labels) for horizontal dendrogram\n",
    "plt.show()"
   ]
  },
  {
   "cell_type": "markdown",
   "id": "3b9dd899-10e3-4736-a7b5-34034e4c336b",
   "metadata": {},
   "source": [
    "## Estimate Number of Clusters"
   ]
  },
  {
   "cell_type": "code",
   "execution_count": null,
   "id": "0e4a5d82-9b9e-4ed5-a476-976269d9f574",
   "metadata": {},
   "outputs": [],
   "source": [
    "# choose features\n",
    "data_for_clustering = df_fastani.copy()\n",
    "data_for_clustering.fillna(0,inplace=True)\n",
    "\n",
    "# create data matrix\n",
    "data_matrix = np.asarray(data_for_clustering).astype(float)\n",
    "data_matrix\n",
    "\n",
    "# scale the data\n",
    "mms = MinMaxScaler()\n",
    "scaled_data = mms.fit_transform(data_matrix)\n",
    "\n",
    "# choose k range\n",
    "if len(df_fastani) <= 21:\n",
    "    max_range = len(df_fastani) - 1\n",
    "else:\n",
    "    max_range = 20\n",
    "\n",
    "k_range=range(2, max_range)\n",
    "# compute adjusted intertia\n",
    "best_k, results = chooseBestKforKMeans(scaled_data, k_range)\n",
    "\n",
    "# plot the results\n",
    "plt.figure(figsize=(7,4))\n",
    "plt.plot(results,'o')\n",
    "plt.title('Adjusted Inertia for each K')\n",
    "plt.xlabel('K')\n",
    "plt.ylabel('Adjusted Inertia')\n",
    "plt.xticks(range(2,max_range,1))\n",
    "print(f\"Estimated number of clusters: {best_k}\")\n",
    "plt.show()"
   ]
  },
  {
   "cell_type": "markdown",
   "id": "da30b444-7c86-4b7a-9266-e39a2840c142",
   "metadata": {},
   "source": [
    "## ANI Clustermap"
   ]
  },
  {
   "cell_type": "code",
   "execution_count": null,
   "id": "5768e5cf-ce44-4bf5-b425-e22aedff5f0f",
   "metadata": {},
   "outputs": [],
   "source": [
    "n_clusters = best_k\n",
    "\n",
    "# max color 12\n",
    "if best_k < 12:\n",
    "    top_clusters = best_k\n",
    "else:\n",
    "    top_clusters = 12\n",
    "\n",
    "Agg_hc = AgglomerativeClustering(n_clusters = n_clusters, metric = 'euclidean', linkage = 'ward')\n",
    "y_hc = Agg_hc.fit_predict(df_fastani_corr)\n",
    "color_set3 = ['#8dd3c7','#ffffb3','#bebada','#fb8072','#80b1d3','#fdb462','#b3de69','#fccde5','#d9d9d9','#bc80bd','#ccebc5','#ffed6f']\n",
    "\n",
    "df_hclusts = pd.DataFrame(index=df_fastani_corr.index, columns=['hcluster', 'color_code'])\n",
    "df_hclusts['hcluster'] = y_hc\n",
    "top_clusters = df_hclusts.hcluster.value_counts().index.tolist()[:top_clusters]\n",
    "dict_top_colors = dict(zip(top_clusters, color_set3[:len(top_clusters)]))\n",
    "\n",
    "for genome_id in df_hclusts.index:\n",
    "    cluster_id = df_hclusts.loc[genome_id, 'hcluster']\n",
    "    if cluster_id in top_clusters:\n",
    "        df_hclusts.loc[genome_id, 'color_code'] = dict_top_colors[cluster_id]\n",
    "    else:\n",
    "        df_hclusts.loc[genome_id, 'color_code'] = \"#808080\"\n",
    "        \n",
    "comm_colors = df_hclusts['color_code']\n",
    "plt.figure()\n",
    "\n",
    "# sns.set_theme(color_codes=True)\n",
    "g = sns.clustermap(df_fastani,\n",
    "                  figsize=(20,20), row_linkage=clusters, col_linkage=clusters,\n",
    "                  row_colors=comm_colors, col_colors=comm_colors, cmap=\"rocket_r\")\n",
    "g.ax_heatmap.set_xlabel('Genomes', fontsize=18)\n",
    "g.ax_heatmap.set_ylabel('Genomes', fontsize=18)\n",
    "plt.setp(g.ax_heatmap.get_xticklabels(), rotation=90, fontsize=12)  # set rotation and font size for x-axis labels\n",
    "plt.setp(g.ax_heatmap.get_yticklabels(), rotation=0, fontsize=12)  # set font size for y-axis labels\n",
    "\n",
    "# Adjust font size of the colorbar's tick labels\n",
    "cbar = g.cax\n",
    "cbar.set_yticklabels(cbar.get_yticklabels(), fontsize=16)\n",
    "\n",
    "plt.show()"
   ]
  },
  {
   "cell_type": "markdown",
   "id": "4d8fe1ca-30f9-472a-9e01-4e9db61825b8",
   "metadata": {},
   "source": [
    "## References\n",
    "<font size=\"2\">\n",
    "\n",
    "- Herman Saffar, O. 2022. An Approach for Choosing Number of Clusters for K-Means. [www.medium.com](https://medium.com/towards-data-science/an-approach-for-choosing-number-of-clusters-for-k-means-c28e614ecb2c)\n",
    "\n",
    "{% for i in project().rule_used['fastani']['references'] %}\n",
    "- *{{ i }}*\n",
    "{% endfor %}\n",
    "</font>"
   ]
  }
 ],
 "metadata": {
  "kernelspec": {
   "display_name": "Python 3 (ipykernel)",
   "language": "python",
   "name": "python3"
  },
  "language_info": {
   "codemirror_mode": {
    "name": "ipython",
    "version": 3
   },
   "file_extension": ".py",
   "mimetype": "text/x-python",
   "name": "python",
   "nbconvert_exporter": "python",
   "pygments_lexer": "ipython3",
   "version": "3.9.18"
  }
 },
 "nbformat": 4,
 "nbformat_minor": 5
}
