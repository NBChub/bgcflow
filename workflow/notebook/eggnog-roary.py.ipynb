{
 "cells": [
  {
   "cell_type": "markdown",
   "id": "aa0f0d95-5e6b-436f-a971-9486d0841329",
   "metadata": {},
   "source": [
    "# eggNOG-Roary\n",
    "Summary of [eggNOG-Roary](link) results from project: `[{{ project().name }}]` \n",
    "\n",
    "## Description\n",
    "This report summarizes the functional annotation of Roary results using the eggNOG mapper. The eggNOG mapper provides functional annotation to genes based on the eggNOG database, which includes information on orthologous groups, functional descriptions, and additional metabolic and pathway data."
   ]
  },
  {
   "cell_type": "code",
   "execution_count": null,
   "id": "d21448bb-afe9-4fdb-b964-2143a0ccd1e4",
   "metadata": {},
   "outputs": [],
   "source": [
    "import pandas as pd\n",
    "from pathlib import Path\n",
    "from IPython.display import display, Markdown, HTML\n",
    "import json\n",
    "import altair as alt\n",
    "\n",
    "import warnings\n",
    "warnings.filterwarnings('ignore')\n",
    "\n",
    "import altair as alt\n",
    "\n",
    "from scipy.cluster.hierarchy import linkage, leaves_list\n",
    "from scipy.spatial.distance import pdist\n",
    "\n",
    "from itables import to_html_datatable as DT\n",
    "import itables.options as opt\n",
    "opt.css = \"\"\"\n",
    ".itables table td { font-style: italic; font-size: .8em;}\n",
    ".itables table th { font-style: oblique; font-size: .8em; }\n",
    "\"\"\"\n",
    "opt.classes = [\"display\", \"compact\"]\n",
    "opt.lengthMenu = [5, 10, 20, 50, 100, 200, 500]"
   ]
  },
  {
   "cell_type": "code",
   "execution_count": null,
   "id": "d1880744-19f7-4f42-acb7-40002a218437",
   "metadata": {},
   "outputs": [],
   "source": [
    "def merge_eggnog_and_pangenome(emapper_tsv_file, pangene_csv_file):\n",
    "    \"\"\"\n",
    "    This function merges the eggnog and pangenome data.\n",
    "\n",
    "    Parameters:\n",
    "    emapper_tsv_file (str): The path to the emapper TSV file.\n",
    "    pangene_csv_file (str): The path to the pangenome CSV file.\n",
    "\n",
    "    Returns:\n",
    "    DataFrame: The merged DataFrame.\n",
    "    \"\"\"\n",
    "    df_eggnog = pd.read_csv(emapper_tsv_file, sep=\"\\t\", header=4, index_col=\"#query\").iloc[:-3,:]\n",
    "    df_pangene_summary = pd.read_csv(pangene_csv_file).set_index(\"locus_tag\")\n",
    "    df_eggnog_roary = df_pangene_summary.merge(df_eggnog, left_index=True, right_index=True, how=\"outer\")\n",
    "    df_cog_mapping = df_eggnog_roary.loc[:, ['Gene', 'pangenome_class_2','COG_category']].reset_index().set_index(\"Gene\").rename(columns={\"index\" : \"locus_tag\"})\n",
    "    return df_cog_mapping\n",
    "\n",
    "def filter_by_pangenome_class(df_cog_mapping, gene_presence_binary_csv_file, category):\n",
    "    \"\"\"\n",
    "    This function filters the DataFrame by the pangenome class and merges it with the gene presence binary data.\n",
    "\n",
    "    Parameters:\n",
    "    df_cog_mapping (DataFrame): The DataFrame to filter.\n",
    "    gene_presence_binary_csv_file (str): The path to the gene presence binary CSV file.\n",
    "    category (str): The pangenome class to filter by.\n",
    "\n",
    "    Returns:\n",
    "    DataFrame: The filtered and merged DataFrame.\n",
    "    \"\"\"\n",
    "    df_cog_mapping_subset = df_cog_mapping[df_cog_mapping.pangenome_class_2 == category]\n",
    "    df_matrix = pd.read_csv(gene_presence_binary_csv_file).set_index(\"Gene\")\n",
    "    df_matrix_cog = df_matrix.merge(df_cog_mapping_subset.loc[:, \"COG_category\"], left_index=True, right_index=True)\n",
    "    return df_matrix_cog\n",
    "\n",
    "def collapse_and_correct_cog_category(df_matrix_cog):\n",
    "    \"\"\"\n",
    "    This function collapses and corrects the COG category in the DataFrame.\n",
    "\n",
    "    Parameters:\n",
    "    df_matrix_cog (DataFrame): The DataFrame to process.\n",
    "\n",
    "    Returns:\n",
    "    DataFrame: The processed DataFrame.\n",
    "    \"\"\"\n",
    "    df_matrix_cog = df_matrix_cog.groupby(\"COG_category\").sum()\n",
    "\n",
    "    for i in df_matrix_cog.index:\n",
    "        if len(i) > 1:\n",
    "            for cog in i:\n",
    "                for genome_id in df_matrix_cog.columns:\n",
    "                    value = df_matrix_cog.loc[i, genome_id]\n",
    "                    if cog not in df_matrix_cog.index.to_list():\n",
    "                        # create new cog_value\n",
    "                        df_matrix_cog.loc[cog, genome_id] = value\n",
    "                    elif cog in df_matrix_cog.index.to_list():\n",
    "                        df_matrix_cog.loc[cog, genome_id] = df_matrix_cog.loc[cog, genome_id] + value\n",
    "\n",
    "    # Create a mask for indices with length 1\n",
    "    mask = [len(i) <= 1 for i in df_matrix_cog.index]\n",
    "\n",
    "    # Use the mask to filter the DataFrame\n",
    "    df_matrix_cog = df_matrix_cog[mask].fillna(0).astype(int)\n",
    "    return df_matrix_cog\n",
    "\n",
    "def create_heatmap(df_matrix, sort_x=None, sort_y=None, x_labels=None, title=\"\", subtitle=\"\"):\n",
    "    if sort_x == None:\n",
    "        sort_x = df_matrix.columns.to_list()\n",
    "    if sort_y == None:\n",
    "        sort_y = df_matrix.index.to_list()\n",
    "\n",
    "    source = df_matrix.reset_index().melt(\"COG_category\")\n",
    "    base = alt.Chart(source, \n",
    "                     title=alt.Title(\n",
    "                         title,\n",
    "                         subtitle=subtitle\n",
    "                     ))\n",
    "    \n",
    "    heatmap = base.mark_rect().encode(\n",
    "        alt.X('variable:O', title=\"Genome IDs\", sort=sort_x),\n",
    "        alt.Y('COG_category:O', title=\"COG_category\", sort=sort_y),\n",
    "        alt.Color('value:Q', title=\"Counts\").scale(scheme=\"viridis\", \n",
    "                                                   reverse=True\n",
    "                                                  ).legend(direction=\"vertical\")\n",
    "    )\n",
    "    return heatmap\n",
    "\n",
    "# Source - https://github.com/SBRG/pymodulon/blob/master/src/pymodulon/gene_util.py\n",
    "def get_cog_dict():\n",
    "    \"\"\"\n",
    "    Get COG dict\n",
    "    \"\"\"\n",
    "\n",
    "    cog_dict = {\n",
    "        \"A\": \"RNA processing and modification\",\n",
    "        \"B\": \"Chromatin structure and dynamics\",\n",
    "        \"C\": \"Energy production and conversion\",\n",
    "        \"D\": \"Cell cycle control, cell division, chromosome partitioning\",\n",
    "        \"E\": \"Amino acid transport and metabolism\",\n",
    "        \"F\": \"Nucleotide transport and metabolism\",\n",
    "        \"G\": \"Carbohydrate transport and metabolism\",\n",
    "        \"H\": \"Coenzyme transport and metabolism\",\n",
    "        \"I\": \"Lipid transport and metabolism\",\n",
    "        \"J\": \"Translation, ribosomal structure and biogenesis\",\n",
    "        \"K\": \"Transcription\",\n",
    "        \"L\": \"Replication, recombination and repair\",\n",
    "        \"M\": \"Cell wall/membrane/envelope biogenesis\",\n",
    "        \"N\": \"Cell motility\",\n",
    "        \"O\": \"Post-translational modification, protein turnover, and chaperones\",\n",
    "        \"P\": \"Inorganic ion transport and metabolism\",\n",
    "        \"Q\": \"Secondary metabolites biosynthesis, transport, and catabolism\",\n",
    "        \"R\": \"General function prediction only\",\n",
    "        \"S\": \"Function unknown\",\n",
    "        \"T\": \"Signal transduction mechanisms\",\n",
    "        \"U\": \"Intracellular trafficking, secretion, and vesicular transport\",\n",
    "        \"V\": \"Defense mechanisms\",\n",
    "        \"W\": \"Extracellular structures\",\n",
    "        \"X\": \"Mobilome: prophages, transposons\",\n",
    "        \"Y\": \"Nuclear structure\",\n",
    "        \"Z\": \"Cytoskeleton\",\n",
    "        \"-\": \"Not found in COG\"\n",
    "    }\n",
    "\n",
    "    return cog_dict"
   ]
  },
  {
   "cell_type": "code",
   "execution_count": null,
   "id": "53fb8b15-379c-4be1-827e-243602f89d95",
   "metadata": {},
   "outputs": [],
   "source": [
    "report_dir = Path(\"../\")\n",
    "project_name = report_dir.resolve().stem"
   ]
  },
  {
   "cell_type": "code",
   "execution_count": null,
   "id": "fe16fed9-eda3-4cca-bf64-5b7a848dfcb8",
   "metadata": {},
   "outputs": [],
   "source": [
    "pangene_summary = report_dir / \"tables/df_roary_pangene_summary_reassigned.csv\"\n",
    "emapper_annotations = report_dir / \"eggnog_roary/emapper.annotations\"\n",
    "gene_presence_binary = report_dir / \"roary/df_gene_presence_binary.csv\"\n",
    "automlst_tree = report_dir / \"automlst_wrapper/df_genomes_tree.csv\"\n",
    "\n",
    "cog_dict = get_cog_dict()"
   ]
  },
  {
   "cell_type": "code",
   "execution_count": null,
   "id": "45dd9b44-760a-483e-b215-40d2bab0d0d3",
   "metadata": {},
   "outputs": [],
   "source": [
    "df_gtdb = pd.read_csv(report_dir/ \"tables\" / \"df_gtdb_meta.csv\", index_col=0)"
   ]
  },
  {
   "cell_type": "markdown",
   "id": "37edc02d-823e-402a-8a25-23487984dc31",
   "metadata": {},
   "source": [
    "## Annotation Table"
   ]
  },
  {
   "cell_type": "code",
   "execution_count": null,
   "id": "c072b8ea-ab03-498d-8009-556115fffd62",
   "metadata": {},
   "outputs": [],
   "source": [
    "df_eggnog = pd.read_csv(emapper_annotations, sep=\"\\t\", header=4, index_col=\"#query\").iloc[:-3,:]\n",
    "df_eggnog.index.name = \"locus_tag\"\n",
    "\n",
    "columns_to_show = [\"seed_ortholog\",\"evalue\",\"score\",#\"eggNOG_OGs\",\n",
    "                   \"max_annot_lvl\",\"COG_category\",\"Description\",\"Preferred_name\",#\"GOs\",\n",
    "                   \"EC\",\"KEGG_ko\",\"KEGG_Pathway\",\"KEGG_Module\",\"KEGG_Reaction\",\"KEGG_rclass\",\"BRITE\",\"KEGG_TC\",\"CAZy\",\"BiGG_Reaction\",\"PFAMs\"]\n",
    "\n",
    "display(HTML(DT(df_eggnog.loc[:, columns_to_show].reset_index(), columnDefs=[{\"className\": \"dt-left\", \"targets\": \"_all\"}], scrollX = True)))"
   ]
  },
  {
   "cell_type": "markdown",
   "id": "c6eb6839-c4ee-44ac-8a5d-9f1d6764cccb",
   "metadata": {},
   "source": [
    "## COG Category Distribution"
   ]
  },
  {
   "cell_type": "code",
   "execution_count": null,
   "id": "39719027-277c-41ff-8cd2-0508c46f1304",
   "metadata": {},
   "outputs": [],
   "source": [
    "df_tree = pd.read_csv(automlst_tree).set_index(\"genome_id\", drop=False)\n",
    "\n",
    "df_cog_mapping = merge_eggnog_and_pangenome(emapper_annotations, pangene_summary)\n",
    "\n",
    "matrix_cogs = {}\n",
    "for pangene_cat in df_cog_mapping.pangenome_class_2.unique():\n",
    "    df_matrix_cog = filter_by_pangenome_class(df_cog_mapping, gene_presence_binary, pangene_cat)\n",
    "    df_matrix_cog = collapse_and_correct_cog_category(df_matrix_cog)\n",
    "    df_matrix_cog['row_sum'] = df_matrix_cog.sum(axis=1)\n",
    "    df_sorted = df_matrix_cog.sort_values('row_sum', ascending=False)\n",
    "    df_sorted = df_sorted.drop('row_sum', axis=1)\n",
    "    matrix_cogs[pangene_cat] = df_sorted"
   ]
  },
  {
   "cell_type": "code",
   "execution_count": null,
   "id": "54287cb2-df0d-4162-b81b-03f0de2291f1",
   "metadata": {},
   "outputs": [],
   "source": [
    "mapping = {k:\". \".join([i[0] if idx == 0 else i for idx, i in enumerate(v.strip(\"s__\").split())]) for k,v in df_tree[\"organism\"].to_dict().items()}\n",
    "for k,v in mapping.items():\n",
    "    if v == \"\":\n",
    "        mapping[k] = f'{df_tree.loc[k, \"genus\"].strip(\"g__\")} sp.'"
   ]
  },
  {
   "cell_type": "code",
   "execution_count": null,
   "id": "b9f0a91c-69cb-4a78-9f1c-14675d33dbee",
   "metadata": {},
   "outputs": [],
   "source": [
    "# Perform hierarchical clustering and get an ordered list of index and column names\n",
    "def reorder_heatmap(df_heatmap, title=\"\", subtitle=\"\"):\n",
    "    linkage_matrix = linkage(pdist(df_heatmap.values))\n",
    "    df_matrix_ordered = df_heatmap.copy()\n",
    "    df_matrix_ordered = df_matrix_ordered.iloc[leaves_list(linkage_matrix)]\n",
    "\n",
    "    heatmap = create_heatmap(df_matrix_ordered, sort_y=df_heatmap.index.to_list(), title=title, subtitle=subtitle)\n",
    "    return heatmap\n",
    "\n",
    "heatmaps = {}\n",
    "for k, v in matrix_cogs.items():\n",
    "    heatmaps[k] = reorder_heatmap(v, title=f\"{k} Pangenes\")"
   ]
  },
  {
   "cell_type": "markdown",
   "id": "4ecb0bdb-9b71-42ba-9103-b122ff9eb4aa",
   "metadata": {},
   "source": [
    "### Core Pangene"
   ]
  },
  {
   "cell_type": "code",
   "execution_count": null,
   "id": "48111514-5c7a-431b-a0cd-0e20ed44f5d8",
   "metadata": {},
   "outputs": [],
   "source": [
    "category = \"Core\"\n",
    "\n",
    "source = matrix_cogs[category].reset_index().melt(\"COG_category\")\n",
    "source['description'] = source['COG_category'].map(cog_dict)\n",
    "source = source.groupby('description')['value'].mean().reset_index()\n",
    "\n",
    "rect = alt.Chart(source).mark_rect().encode(\n",
    "        alt.Y('description:O', title=\"\", \n",
    "              sort=[cog_dict[i] for i in matrix_cogs[category].index.to_list()], \n",
    "              axis=alt.Axis(orient='right')),\n",
    "        alt.Color('value:Q')\n",
    "    )\n",
    "\n",
    "heatmaps[category] | rect"
   ]
  },
  {
   "cell_type": "markdown",
   "id": "decc9332-0385-4889-ae1c-fc5c17c39bd5",
   "metadata": {},
   "source": [
    "### Accessory Pangene"
   ]
  },
  {
   "cell_type": "code",
   "execution_count": null,
   "id": "fa538840-629d-4821-a61a-3fb439dee37b",
   "metadata": {},
   "outputs": [],
   "source": [
    "category = \"Accessory\"\n",
    "\n",
    "source = matrix_cogs[category].reset_index().melt(\"COG_category\")\n",
    "source['description'] = source['COG_category'].map(cog_dict)\n",
    "source = source.groupby('description')['value'].mean().reset_index()\n",
    "\n",
    "rect = alt.Chart(source).mark_rect().encode(\n",
    "        alt.Y('description:O', title=\"\", \n",
    "              sort=[cog_dict[i] for i in matrix_cogs[category].index.to_list()], \n",
    "              axis=alt.Axis(orient='right')),\n",
    "        #alt.X(\"value\", title=\"Average count\"),\n",
    "        alt.Color('value:Q')\n",
    "    )\n",
    "\n",
    "heatmaps[category] | rect"
   ]
  },
  {
   "cell_type": "markdown",
   "id": "3bdfaeba-288f-4c30-a641-4f07588ee765",
   "metadata": {},
   "source": [
    "### Rare Pangene"
   ]
  },
  {
   "cell_type": "code",
   "execution_count": null,
   "id": "bb37e380-a01d-48da-a3b8-0715387ea3d1",
   "metadata": {},
   "outputs": [],
   "source": [
    "category = \"Rare\"\n",
    "\n",
    "source = matrix_cogs[category].reset_index().melt(\"COG_category\")\n",
    "source['description'] = source['COG_category'].map(cog_dict)\n",
    "source = source.groupby('description')['value'].mean().reset_index()\n",
    "\n",
    "rect = alt.Chart(source).mark_rect().encode(\n",
    "        alt.Y('description:O', title=\"\", \n",
    "              sort=[cog_dict[i] for i in matrix_cogs[category].index.to_list()], \n",
    "              axis=alt.Axis(orient='right')),\n",
    "        alt.Color('value:Q')\n",
    "    )\n",
    "\n",
    "heatmaps[category] | rect"
   ]
  },
  {
   "cell_type": "markdown",
   "id": "2caaca31-72fe-4e23-9048-1b68e7cde109",
   "metadata": {},
   "source": [
    "### COG Categories "
   ]
  },
  {
   "cell_type": "code",
   "execution_count": null,
   "id": "be5ca446-dd44-4add-a9f5-f0104546836f",
   "metadata": {},
   "outputs": [],
   "source": [
    "# Convert dictionary to markdown string\n",
    "md_string = \"\\n\".join([f\"**{key}**: *{value}* |\" for key, value in cog_dict.items()])\n",
    "\n",
    "# Display as markdown\n",
    "Markdown(md_string)"
   ]
  },
  {
   "cell_type": "markdown",
   "id": "4d8fe1ca-30f9-472a-9e01-4e9db61825b8",
   "metadata": {},
   "source": [
    "## References\n",
    "\n",
    "<font size=\"2\">\n",
    "\n",
    "{% for i in project().rule_used['eggnog-roary']['references'] %}\n",
    "- *{{ i }}*\n",
    "{% endfor %}\n",
    "\n",
    "</font>"
   ]
  }
 ],
 "metadata": {
  "kernelspec": {
   "display_name": "Python 3 (ipykernel)",
   "language": "python",
   "name": "python3"
  },
  "language_info": {
   "codemirror_mode": {
    "name": "ipython",
    "version": 3
   },
   "file_extension": ".py",
   "mimetype": "text/x-python",
   "name": "python",
   "nbconvert_exporter": "python",
   "pygments_lexer": "ipython3",
   "version": "3.9.18"
  }
 },
 "nbformat": 4,
 "nbformat_minor": 5
}
