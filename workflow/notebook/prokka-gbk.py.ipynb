{
 "cells": [
  {
   "cell_type": "markdown",
   "id": "aa0f0d95-5e6b-436f-a971-9486d0841329",
   "metadata": {},
   "source": [
    "# Annotated genomes\n",
    "List of annotated genomes from: `[{{ project().name }}]` \n",
    "\n",
    "## Description\n",
    "Summary table of annotated genbank files from each genomes."
   ]
  },
  {
   "cell_type": "code",
   "execution_count": null,
   "id": "d21448bb-afe9-4fdb-b964-2143a0ccd1e4",
   "metadata": {
    "tags": []
   },
   "outputs": [],
   "source": [
    "import pandas as pd\n",
    "from pathlib import Path\n",
    "import altair as alt\n",
    "import json\n",
    "import warnings\n",
    "warnings.filterwarnings('ignore')\n",
    "\n",
    "from IPython.display import display, Markdown, HTML\n",
    "from itables import to_html_datatable as DT\n",
    "import itables.options as opt\n",
    "opt.css = \"\"\"\n",
    ".itables table td { font-style: italic; font-size: .8em;}\n",
    ".itables table th { font-style: oblique; font-size: .8em; }\n",
    "\"\"\"\n",
    "opt.classes = [\"display\", \"compact\"]\n",
    "opt.lengthMenu = [5, 10, 20, 50, 100, 200, 500]"
   ]
  },
  {
   "cell_type": "code",
   "execution_count": null,
   "id": "53fb8b15-379c-4be1-827e-243602f89d95",
   "metadata": {
    "tags": []
   },
   "outputs": [],
   "source": [
    "report_dir = Path(\"../\")\n",
    "metadata = report_dir / \"metadata/project_metadata.json\"\n",
    "with open(metadata, \"r\") as f:\n",
    "    metadata = json.load(f)\n",
    "project_name = [i for i in metadata.keys()][0]"
   ]
  },
  {
   "cell_type": "code",
   "execution_count": null,
   "id": "f76bb00f-c038-46e6-b0da-e4e5274da366",
   "metadata": {
    "tags": []
   },
   "outputs": [],
   "source": [
    "summary = []\n",
    "for item in (report_dir / \"genbank\").glob(\"*.txt\"):\n",
    "    df = pd.read_csv(item, sep=\":\", skiprows=1, header=None, index_col=0).rename(columns={1:item.stem}).T\n",
    "    server_path = \"<a href='{{ project().file_server() }}/genbank/\"\n",
    "    df.loc[item.stem, \"gbk file\"] = server_path + f\"{item.stem}.gbk' target='_blank''>{item.stem}.gbk</a>\"\n",
    "    df.loc[item.stem, \"CDS table\"] = server_path + f\"{item.stem}.tsv' target='_blank''>{item.stem}.tsv</a>\"\n",
    "    summary.append(df)\n",
    "df = pd.concat(summary).sort_index()"
   ]
  },
  {
   "cell_type": "code",
   "execution_count": null,
   "id": "6438e2cd-128e-46ce-ab90-93336b07cc56",
   "metadata": {
    "tags": []
   },
   "outputs": [],
   "source": [
    "display(HTML(DT(df, columnDefs=[{\"className\": \"dt-center\", \"targets\": \"_all\"}],)))"
   ]
  },
  {
   "cell_type": "markdown",
   "id": "7645aa83",
   "metadata": {},
   "source": [
    "## Summary Statistics"
   ]
  },
  {
   "cell_type": "code",
   "execution_count": null,
   "id": "68ba254c-ab05-45ac-aa81-8c0c05e49f1c",
   "metadata": {},
   "outputs": [],
   "source": [
    "source = df.copy()\n",
    "source[\"dataset\"] = project_name\n",
    "\n",
    "# Create a list of charts, one for each column to plot\n",
    "colors = ['#66c2a5', '#fc8d62', '#8da0cb', '#e78ac3', '#a6d854', '#ffd92f', '#e5c494']\n",
    "\n",
    "charts = []\n",
    "\n",
    "for idx, col in enumerate(['contigs', 'bases', 'CDS', 'rRNA', 'repeat_region', 'tRNA', 'tmRNA']):\n",
    "    data_range = source[col].max() - source[col].min()\n",
    "    buffer = 0.10 * data_range  # 10% buffer\n",
    "    ymin = source[col].min() - buffer\n",
    "    ymax = source[col].max() + buffer\n",
    "    chart = alt.Chart(source).mark_boxplot(size=50, median=dict(color='black')).encode(\n",
    "        y=alt.Y(f'{col}:Q', title=None, scale=alt.Scale(domain=(ymin, ymax))),\n",
    "        x=alt.X(\"dataset:N\", axis=None),  # This is used to align the boxplots vertically\n",
    "        color=alt.value(colors[idx]),  # Color of the boxplot\n",
    "        opacity=alt.value(0.7)  # Opacity of the boxplot\n",
    "    ).properties(title=f'{col}', width=100, height=150)\n",
    "    \n",
    "    charts.append(chart)\n",
    "\n",
    "alt.hconcat(*charts)"
   ]
  },
  {
   "cell_type": "markdown",
   "id": "4d8fe1ca-30f9-472a-9e01-4e9db61825b8",
   "metadata": {},
   "source": [
    "## References\n",
    "\n",
    "<font size=\"2\">\n",
    "\n",
    "{% for i in project().rule_used['prokka-gbk']['references'] %}\n",
    "- *{{ i }}*\n",
    "{% endfor %}\n",
    "\n",
    "</font>"
   ]
  }
 ],
 "metadata": {
  "kernelspec": {
   "display_name": "Python 3 (ipykernel)",
   "language": "python",
   "name": "python3"
  },
  "language_info": {
   "codemirror_mode": {
    "name": "ipython",
    "version": 3
   },
   "file_extension": ".py",
   "mimetype": "text/x-python",
   "name": "python",
   "nbconvert_exporter": "python",
   "pygments_lexer": "ipython3",
   "version": "3.9.18"
  }
 },
 "nbformat": 4,
 "nbformat_minor": 5
}
