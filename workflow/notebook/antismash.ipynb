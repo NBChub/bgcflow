{
 "cells": [
  {
   "cell_type": "code",
   "execution_count": null,
   "id": "0a9ebdaf-3412-41d7-8c51-1d9b14cad4d1",
   "metadata": {},
   "outputs": [],
   "source": [
    "import pandas as pd\n",
    "import altair as alt\n",
    "import warnings\n",
    "warnings.filterwarnings('ignore')"
   ]
  },
  {
   "cell_type": "markdown",
   "id": "ce8cfe38-9a71-4ee7-93fd-3a1f3b4b84bf",
   "metadata": {},
   "source": [
    "# AntiSMASH Report\n",
    "Summary of AntiSMASH results from {{ project().description }}"
   ]
  },
  {
   "cell_type": "code",
   "execution_count": null,
   "id": "0d8270fd-78f6-40db-b993-c7948111137c",
   "metadata": {},
   "outputs": [],
   "source": [
    "df = pd.read_csv(\"../tables/df_antismash_6.1.1_summary.csv\", index_col=0)"
   ]
  },
  {
   "cell_type": "code",
   "execution_count": null,
   "id": "10c665db-7457-4964-8154-e463aa4491cf",
   "metadata": {},
   "outputs": [],
   "source": [
    "source = df\n",
    "\n",
    "chart = alt.Chart(source).mark_circle().encode(\n",
    "    alt.X(alt.repeat(\"column\"), type='quantitative', scale=alt.Scale(zero=False)),\n",
    "    alt.Y(alt.repeat(\"row\"), type='quantitative', scale=alt.Scale(zero=False)),\n",
    "    color='bgcs_count',\n",
    "    tooltip=['bgcs_count', 'bgcs_on_contig_edge', 'protoclusters_count', 'cand_clusters_count']\n",
    ").properties(\n",
    "    width=150,\n",
    "    height=150,\n",
    ").repeat(\n",
    "    row=['bgcs_count', 'bgcs_on_contig_edge'],\n",
    "    column=['bgcs_count', 'bgcs_on_contig_edge'],\n",
    ").properties(\n",
    "    title = \"Genome QC Statistics\",\n",
    ").interactive()\n",
    "\n",
    "chart = chart.configure_title(fontSize=20, offset=10, orient='top', anchor='middle')\n",
    "\n",
    "chart"
   ]
  },
  {
   "cell_type": "markdown",
   "id": "27fe87a5-a05f-4dd2-a6ba-7c9c8c33c20d",
   "metadata": {},
   "source": [
    "## Summary Table\n",
    "{{ read_csv_html('tables/df_antismash_6.1.1_summary.csv', 'http://localhost:8002') }}"
   ]
  }
 ],
 "metadata": {
  "kernelspec": {
   "display_name": "Python 3 (ipykernel)",
   "language": "python",
   "name": "python3"
  },
  "language_info": {
   "codemirror_mode": {
    "name": "ipython",
    "version": 3
   },
   "file_extension": ".py",
   "mimetype": "text/x-python",
   "name": "python",
   "nbconvert_exporter": "python",
   "pygments_lexer": "ipython3",
   "version": "3.10.6"
  }
 },
 "nbformat": 4,
 "nbformat_minor": 5
}
