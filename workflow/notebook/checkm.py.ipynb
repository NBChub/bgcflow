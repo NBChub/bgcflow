{
 "cells": [
  {
   "attachments": {},
   "cell_type": "markdown",
   "id": "aa0f0d95-5e6b-436f-a971-9486d0841329",
   "metadata": {},
   "source": [
    "# CheckM\n",
    "Summary of [CheckM](https://github.com/Ecogenomics/CheckM) results from project: `[{{ project().name }}]` \n",
    "\n",
    "## Description\n",
    "Assess the quality of microbial genomes recovered from isolates, single cells, and metagenomes"
   ]
  },
  {
   "cell_type": "code",
   "execution_count": null,
   "id": "d21448bb-afe9-4fdb-b964-2143a0ccd1e4",
   "metadata": {},
   "outputs": [],
   "source": [
    "import pandas as pd\n",
    "from pathlib import Path\n",
    "import altair as alt\n",
    "import warnings\n",
    "warnings.filterwarnings('ignore')"
   ]
  },
  {
   "cell_type": "code",
   "execution_count": null,
   "id": "b8cecd74",
   "metadata": {},
   "outputs": [],
   "source": [
    "def checkm_eval(df):\n",
    "    # Filter for data without CheckM results\n",
    "    mask = df.loc[:, \"Completeness\"].isnull()\n",
    "\n",
    "    # count number of MIMAG categories\n",
    "    ctr_unknown = 0\n",
    "    ctr_high = 0\n",
    "    ctr_medium = 0 \n",
    "    ctr_low = 0\n",
    "    ctr_contaminated = 0\n",
    "\n",
    "    # count and label unknown quality genomes\n",
    "    for i in df[mask].index:\n",
    "        #print(i, df.loc[i, [\"checkm_completeness\", \"checkm_contamination\"]].to_list())\n",
    "        MIMAG_quality = \"unknown\"\n",
    "        df.loc[i, \"genome_quality\"] = MIMAG_quality\n",
    "        ctr_unknown = ctr_unknown + 1\n",
    "\n",
    "    # count and label genomes to MIMAG standard\n",
    "    for i in df[~mask].index:\n",
    "        #print(df.loc[i, \"checkm_completeness\"])\n",
    "        if df.loc[i, \"Completeness\"] > 90 and df.loc[i, \"Contamination\"] < 5:\n",
    "            MIMAG_quality = \"high_quality\"\n",
    "            ctr_high = ctr_high + 1\n",
    "        elif df.loc[i, \"Completeness\"] >= 50 and df.loc[i, \"Contamination\"] < 10:\n",
    "            MIMAG_quality = \"medium_quality\"\n",
    "            ctr_medium = ctr_medium + 1\n",
    "        elif df.loc[i, \"Completeness\"] < 50 and df.loc[i, \"Contamination\"] < 10:\n",
    "            MIMAG_quality = \"low_quality\"\n",
    "            print(MIMAG_quality, i, df.loc[i, [\"Completeness\", \"Contamination\", 'Count', 'Total', 'N50', 'gc']].to_list())\n",
    "            ctr_low = ctr_low + 1\n",
    "        else:\n",
    "            MIMAG_quality = \"contaminated\"\n",
    "            print(MIMAG_quality, i, df.loc[i, [\"Completeness\", \"Contamination\", 'Count', 'Total', 'N50', 'gc']].to_list())\n",
    "            ctr_contaminated = ctr_contaminated + 1\n",
    "        df.loc[i, \"genome_quality\"] = MIMAG_quality\n",
    "\n",
    "    print(f\"high_quality={ctr_high}, medium_quality={ctr_medium}, low_quality={ctr_low}, contaminated={ctr_contaminated}, unknown={ctr_unknown}\")\n",
    "    return df"
   ]
  },
  {
   "attachments": {},
   "cell_type": "markdown",
   "id": "61f20aeb",
   "metadata": {},
   "source": [
    "## Result"
   ]
  },
  {
   "cell_type": "code",
   "execution_count": null,
   "id": "53fb8b15-379c-4be1-827e-243602f89d95",
   "metadata": {},
   "outputs": [],
   "source": [
    "report_dir = Path(\"../\")\n",
    "#gtdb_table = report_dir / \"tables/df_gtdb_gtdbtk_meta.csv\"\n",
    "checkm_table = report_dir / \"tables/df_checkm_stats.csv\"\n",
    "\n",
    "#df_gtdb = pd.read_csv(gtdb_table).set_index('genome_id')\n",
    "df_checkm = pd.read_csv(checkm_table).set_index('genome_id')\n",
    "#df = pd.concat([df_gtdb, df_checkm], axis=1).reset_index()\n",
    "df = checkm_eval(df_checkm) "
   ]
  },
  {
   "cell_type": "code",
   "execution_count": null,
   "id": "a2b62d9e",
   "metadata": {},
   "outputs": [],
   "source": [
    "source = df.copy()\n",
    "source = source.reset_index(drop=False)\n",
    "x_col = 'Completeness'\n",
    "y_col = 'Contamination'\n",
    "chart_one = alt.Chart(source).mark_point().encode(\n",
    "    alt.X(x_col,\n",
    "          scale=alt.Scale(domain=(min(source[x_col]), 100)),\n",
    "          title=f'{x_col} (%)'),\n",
    "    alt.Y(y_col,\n",
    "          scale=alt.Scale(domain=(round(0, 1), \n",
    "                                  round(source[y_col].max() + 1, 2))),\n",
    "          title=f\"{y_col} (%)\"\n",
    "         ),\n",
    "    #shape='sequence_quality',\n",
    "    color=\"genome_quality\",\n",
    "    tooltip=['genome_id'] + list(df_checkm.columns)\n",
    ").mark_point(\n",
    "    filled=True,\n",
    "    stroke='black',\n",
    "    strokeWidth=0.5,\n",
    "    opacity=0.8,\n",
    "    size=100\n",
    ").configure_axis(\n",
    "    labelFontSize=10,\n",
    "    titleFontSize=12\n",
    ").configure_legend(\n",
    "    labelFontSize=10,\n",
    "    titleFontSize=12,\n",
    ").configure_view(\n",
    "    continuousHeight=500,\n",
    "    continuousWidth=500,\n",
    ")\n",
    "\n",
    "\n",
    "chart_one"
   ]
  },
  {
   "attachments": {},
   "cell_type": "markdown",
   "id": "4d8fe1ca-30f9-472a-9e01-4e9db61825b8",
   "metadata": {},
   "source": [
    "## References\n",
    "\n",
    "<font size=\"2\">\n",
    "\n",
    "{% for i in project().rule_used['checkm']['references'] %}\n",
    "- *{{ i }}*\n",
    "{% endfor %}\n",
    "\n",
    "</font>"
   ]
  }
 ],
 "metadata": {
  "kernelspec": {
   "display_name": "Python 3 (ipykernel)",
   "language": "python",
   "name": "python3"
  },
  "language_info": {
   "codemirror_mode": {
    "name": "ipython",
    "version": 3
   },
   "file_extension": ".py",
   "mimetype": "text/x-python",
   "name": "python",
   "nbconvert_exporter": "python",
   "pygments_lexer": "ipython3",
   "version": "3.11.0"
  }
 },
 "nbformat": 4,
 "nbformat_minor": 5
}
