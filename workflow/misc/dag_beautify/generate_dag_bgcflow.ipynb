{
 "cells": [
  {
   "cell_type": "markdown",
   "id": "5df0977a-7e10-4569-ab74-03d5770c5cff",
   "metadata": {},
   "source": [
    "## Refine DAG\n",
    "This notebook process the snakemake DAG and refine for using it in the yEd layout.\n",
    "\n",
    "To generate the dag:\n",
    "1. `snakemake --rulegraph > dag.dot`\n",
    "2. Upload the `dag.dot` to https://www.yworks.com/yed-live/\n",
    "3. Use left to right layout and octilinear in the layout setting\n",
    "4. Open it with https://www.yworks.com/products/yed/download#download\n",
    "5. Save the file as graphml\n",
    "6. Use this notebook to refine"
   ]
  },
  {
   "cell_type": "code",
   "execution_count": null,
   "id": "4949d791-d67c-4beb-898d-0e3755b95daa",
   "metadata": {},
   "outputs": [],
   "source": [
    "import networkx as nx\n",
    "import pandas as pd"
   ]
  },
  {
   "cell_type": "code",
   "execution_count": null,
   "id": "1996a3f4-3222-4680-9bbe-176cd7fe11be",
   "metadata": {},
   "outputs": [],
   "source": [
    "G = nx.read_graphml(\"dag_v0.8.3_raw.graphml\")"
   ]
  },
  {
   "cell_type": "code",
   "execution_count": null,
   "id": "761f0ebb-c2b5-489d-9080-aa08a2ac8b28",
   "metadata": {},
   "outputs": [],
   "source": [
    "label = {}\n",
    "for n, data in G.nodes(data=True):\n",
    "    number = n.strip(\"n\")\n",
    "    label[number] = data[\"label\"]\n",
    "    data[\"label\"] = number"
   ]
  },
  {
   "cell_type": "code",
   "execution_count": null,
   "id": "1cbb8f2f-5304-4b25-8b5a-e9521e4bddf3",
   "metadata": {},
   "outputs": [],
   "source": [
    "df_new_labels = pd.DataFrame.from_dict({\"Rule Name\" : label}).reset_index()\n",
    "df_new_labels = df_new_labels.rename(columns={\"index\" : \"node_number\"})\n",
    "df_new_labels"
   ]
  },
  {
   "cell_type": "code",
   "execution_count": null,
   "id": "ee8dfa1d-0a77-4b40-8dd1-c6c9020a046e",
   "metadata": {},
   "outputs": [],
   "source": [
    "df_old_labels = pd.read_csv(\"old_rule_name.txt\", sep=\"\\t\")"
   ]
  },
  {
   "cell_type": "code",
   "execution_count": null,
   "id": "966f96a5-37b8-4ab3-b6b6-53f9b33cd0bd",
   "metadata": {},
   "outputs": [],
   "source": [
    "existing_rule = []\n",
    "new_rules = {}\n",
    "df_old_labels[\"Rule Name\"]\n",
    "for i in df_new_labels.index:\n",
    "    rule_name = df_new_labels.loc[i, \"Rule Name\"]\n",
    "    if rule_name in df_old_labels[\"Rule Name\"].to_list():\n",
    "        existing_rule.append(rule_name)\n",
    "        subset = df_old_labels[df_old_labels[\"Rule Name\"] == rule_name]\n",
    "        idx = subset.index[0]\n",
    "        description = df_old_labels.loc[idx, \"Description\"]\n",
    "        old_node = df_old_labels.loc[idx, \"node_number\"]\n",
    "        df_new_labels.loc[i, \"Description\"] = description\n",
    "        df_new_labels.loc[i, \"old_node_number\"] = str(old_node)\n",
    "    else:\n",
    "        new_rules[i] = rule_name"
   ]
  },
  {
   "cell_type": "code",
   "execution_count": null,
   "id": "a46e0b4d-f264-429d-b448-5193c0515366",
   "metadata": {},
   "outputs": [],
   "source": [
    "df_new_labels.to_csv(\"node_description.csv\", index=False)"
   ]
  },
  {
   "cell_type": "code",
   "execution_count": null,
   "id": "df439923-e96c-4011-b27f-5299982551cc",
   "metadata": {},
   "outputs": [],
   "source": [
    "df_old_labels[~df_old_labels[\"Rule Name\"].isin(existing_rule)]"
   ]
  },
  {
   "cell_type": "code",
   "execution_count": null,
   "id": "b4aaaa43-a9e6-4d15-90e3-f0cef83fa999",
   "metadata": {},
   "outputs": [],
   "source": [
    "new_rules"
   ]
  },
  {
   "cell_type": "code",
   "execution_count": null,
   "id": "829f181d-82f3-4d9b-8fc8-13c9dd436249",
   "metadata": {},
   "outputs": [],
   "source": [
    "import xml.etree.ElementTree as ET\n",
    "import logging\n",
    "\n",
    "# Set up logging\n",
    "logging.basicConfig(level=logging.DEBUG)\n",
    "\n",
    "def rename_node_labels(input_file, output_file):\n",
    "    # Parse the XML document\n",
    "    tree = ET.parse(input_file)\n",
    "    root = tree.getroot()\n",
    "\n",
    "    # Define the namespaces\n",
    "    ns = {'graphml': 'http://graphml.graphdrawing.org/xmlns',\n",
    "          'y': 'http://www.yworks.com/xml/graphml'}\n",
    "\n",
    "    # Iterate over all nodes in the document\n",
    "    for node in root.findall('.//graphml:node', ns):\n",
    "        # Get the node id and remove the 'n'\n",
    "        node_id = node.get('id').replace('n', '')\n",
    "        logging.debug(f'Processing node with id {node_id}')\n",
    "\n",
    "        # Find the NodeLabel element and update its text\n",
    "        node_label = node.find('.//y:NodeLabel', ns)\n",
    "        if node_label is not None:\n",
    "            logging.debug(f'Found NodeLabel for node {node_id}, current text: {node_label.text}')\n",
    "            node_label.text = node_id\n",
    "            logging.debug(f'Updated NodeLabel text to {node_id}')\n",
    "        else:\n",
    "            logging.warning(f'No NodeLabel found for node {node_id}')\n",
    "\n",
    "    # Write the changes back to the file\n",
    "    tree.write(output_file)\n",
    "    logging.info(f'Wrote updated graph to {output_file}')\n",
    "\n",
    "rename_node_labels(\"dag_v0.8.3_raw.graphml\", \"dag_v0.8.3.graphml\")\n",
    "\n",
    "rename_node_labels(\"dag_v0.8.3_raw.graphml\", \"dag_v0.8.3.graphml\")"
   ]
  }
 ],
 "metadata": {
  "kernelspec": {
   "display_name": "Python 3 (ipykernel)",
   "language": "python",
   "name": "python3"
  },
  "language_info": {
   "codemirror_mode": {
    "name": "ipython",
    "version": 3
   },
   "file_extension": ".py",
   "mimetype": "text/x-python",
   "name": "python",
   "nbconvert_exporter": "python",
   "pygments_lexer": "ipython3",
   "version": "3.10.13"
  }
 },
 "nbformat": 4,
 "nbformat_minor": 5
}
