{
 "cells": [
  {
   "cell_type": "markdown",
   "id": "aee92ebc-b893-4559-bbf8-ed5e4ca963b6",
   "metadata": {},
   "source": [
    "## Automatically Generate Markdown Table"
   ]
  },
  {
   "cell_type": "code",
   "execution_count": null,
   "id": "813686f2-e8a5-4314-9e58-8aa06829a167",
   "metadata": {},
   "outputs": [],
   "source": [
    "# pip install tabulate # required for markdown conversion\n",
    "import pandas as pd\n",
    "import yaml\n",
    "\n",
    "with open(\"../../../workflow/rules.yaml\", \"r\") as file:\n",
    "    pipelines = yaml.safe_load(file)\n",
    "\n",
    "references = []\n",
    "table = {}\n",
    "for key, value in pipelines.items():\n",
    "    keyword = key\n",
    "    description = value[\"description\"]\n",
    "    links = []\n",
    "    for link in value[\"link\"]:\n",
    "        link = f\"[{link.split('/')[-1]}]({link})\"\n",
    "    links.append(link)\n",
    "    table[keyword] = {\"Keyword\" : keyword,\n",
    "                     \"Description\" : description,\n",
    "                     \"Links\" : \", \".join(links)}\n",
    "    for reference in value[\"references\"]:\n",
    "        references.append(reference)\n",
    "df = pd.DataFrame.from_dict(table).T.reset_index(drop=True)\n",
    "\n",
    "for i in references:\n",
    "    print(f\"> - *{i}*\")\n",
    "    \n",
    "df"
   ]
  }
 ],
 "metadata": {
  "kernelspec": {
   "display_name": "Python 3 (ipykernel)",
   "language": "python",
   "name": "python3"
  },
  "language_info": {
   "codemirror_mode": {
    "name": "ipython",
    "version": 3
   },
   "file_extension": ".py",
   "mimetype": "text/x-python",
   "name": "python",
   "nbconvert_exporter": "python",
   "pygments_lexer": "ipython3",
   "version": "3.10.13"
  }
 },
 "nbformat": 4,
 "nbformat_minor": 5
}
